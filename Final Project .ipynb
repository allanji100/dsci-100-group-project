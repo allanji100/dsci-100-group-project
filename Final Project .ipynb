{
 "cells": [
  {
   "cell_type": "code",
   "execution_count": 1,
   "metadata": {},
   "outputs": [],
   "source": [
    "import pandas as pd\n",
    "import numpy as np\n",
    "import altair as alt\n",
    "\n",
    "from sklearn.model_selection import train_test_split\n",
    "from sklearn.model_selection import cross_val_score\n",
    "from sklearn.model_selection import GridSearchCV\n",
    "from sklearn.neighbors import KNeighborsClassifier\n",
    "from sklearn.preprocessing import StandardScaler\n",
    "from sklearn.compose import make_column_transformer\n",
    "\n",
    "np.random.seed(1234)"
   ]
  },
  {
   "cell_type": "markdown",
   "id": "74da95bc",
   "metadata": {},
   "source": [
    "Reading Data"
   ]
  },
  {
   "cell_type": "code",
   "execution_count": 2,
   "id": "eaa72c63",
   "metadata": {},
   "outputs": [
    {
     "data": {
      "text/html": [
       "<div>\n",
       "<style scoped>\n",
       "    .dataframe tbody tr th:only-of-type {\n",
       "        vertical-align: middle;\n",
       "    }\n",
       "\n",
       "    .dataframe tbody tr th {\n",
       "        vertical-align: top;\n",
       "    }\n",
       "\n",
       "    .dataframe thead th {\n",
       "        text-align: right;\n",
       "    }\n",
       "</style>\n",
       "<table border=\"1\" class=\"dataframe\">\n",
       "  <thead>\n",
       "    <tr style=\"text-align: right;\">\n",
       "      <th></th>\n",
       "      <th>age</th>\n",
       "      <th>trestbps</th>\n",
       "      <th>chol</th>\n",
       "      <th>thalach</th>\n",
       "      <th>oldpeak</th>\n",
       "      <th>sex</th>\n",
       "      <th>cp</th>\n",
       "      <th>fbs</th>\n",
       "      <th>restecg</th>\n",
       "      <th>exang</th>\n",
       "      <th>slope</th>\n",
       "      <th>num</th>\n",
       "    </tr>\n",
       "  </thead>\n",
       "  <tbody>\n",
       "    <tr>\n",
       "      <th>0</th>\n",
       "      <td>0.948726</td>\n",
       "      <td>0.757525</td>\n",
       "      <td>-0.264900</td>\n",
       "      <td>0.017197</td>\n",
       "      <td>1.087338</td>\n",
       "      <td>1.0</td>\n",
       "      <td>1.0</td>\n",
       "      <td>1.0</td>\n",
       "      <td>2.0</td>\n",
       "      <td>0.0</td>\n",
       "      <td>3.0</td>\n",
       "      <td>0.0</td>\n",
       "    </tr>\n",
       "    <tr>\n",
       "      <th>1</th>\n",
       "      <td>1.392002</td>\n",
       "      <td>1.611220</td>\n",
       "      <td>0.760415</td>\n",
       "      <td>-1.821905</td>\n",
       "      <td>0.397182</td>\n",
       "      <td>1.0</td>\n",
       "      <td>4.0</td>\n",
       "      <td>0.0</td>\n",
       "      <td>2.0</td>\n",
       "      <td>1.0</td>\n",
       "      <td>2.0</td>\n",
       "      <td>2.0</td>\n",
       "    </tr>\n",
       "    <tr>\n",
       "      <th>2</th>\n",
       "      <td>1.392002</td>\n",
       "      <td>-0.665300</td>\n",
       "      <td>-0.342283</td>\n",
       "      <td>-0.902354</td>\n",
       "      <td>1.346147</td>\n",
       "      <td>1.0</td>\n",
       "      <td>4.0</td>\n",
       "      <td>0.0</td>\n",
       "      <td>2.0</td>\n",
       "      <td>1.0</td>\n",
       "      <td>2.0</td>\n",
       "      <td>1.0</td>\n",
       "    </tr>\n",
       "    <tr>\n",
       "      <th>3</th>\n",
       "      <td>-1.932564</td>\n",
       "      <td>-0.096170</td>\n",
       "      <td>0.063974</td>\n",
       "      <td>1.637359</td>\n",
       "      <td>2.122573</td>\n",
       "      <td>1.0</td>\n",
       "      <td>3.0</td>\n",
       "      <td>0.0</td>\n",
       "      <td>0.0</td>\n",
       "      <td>0.0</td>\n",
       "      <td>3.0</td>\n",
       "      <td>0.0</td>\n",
       "    </tr>\n",
       "    <tr>\n",
       "      <th>4</th>\n",
       "      <td>-1.489288</td>\n",
       "      <td>-0.096170</td>\n",
       "      <td>-0.825922</td>\n",
       "      <td>0.980537</td>\n",
       "      <td>0.310912</td>\n",
       "      <td>0.0</td>\n",
       "      <td>2.0</td>\n",
       "      <td>0.0</td>\n",
       "      <td>2.0</td>\n",
       "      <td>0.0</td>\n",
       "      <td>1.0</td>\n",
       "      <td>0.0</td>\n",
       "    </tr>\n",
       "  </tbody>\n",
       "</table>\n",
       "</div>"
      ],
      "text/plain": [
       "        age  trestbps      chol   thalach   oldpeak  sex   cp  fbs  restecg   \n",
       "0  0.948726  0.757525 -0.264900  0.017197  1.087338  1.0  1.0  1.0      2.0  \\\n",
       "1  1.392002  1.611220  0.760415 -1.821905  0.397182  1.0  4.0  0.0      2.0   \n",
       "2  1.392002 -0.665300 -0.342283 -0.902354  1.346147  1.0  4.0  0.0      2.0   \n",
       "3 -1.932564 -0.096170  0.063974  1.637359  2.122573  1.0  3.0  0.0      0.0   \n",
       "4 -1.489288 -0.096170 -0.825922  0.980537  0.310912  0.0  2.0  0.0      2.0   \n",
       "\n",
       "   exang  slope  num  \n",
       "0    0.0    3.0  0.0  \n",
       "1    1.0    2.0  2.0  \n",
       "2    1.0    2.0  1.0  \n",
       "3    0.0    3.0  0.0  \n",
       "4    0.0    1.0  0.0  "
      ]
     },
     "execution_count": 2,
     "metadata": {},
     "output_type": "execute_result"
    }
   ],
   "source": [
    "# Fetch dataset \n",
    "url = \"https://github.com/allanji100/dsci-100-group-project/blob/main/heart%2Bdisease/processed.cleveland.data?raw=true\"\n",
    "\n",
    "df = pd.read_csv(\n",
    "    url,\n",
    "    names=[\"age\", \"sex\", \"cp\", \"trestbps\", \"chol\", \"fbs\", \"restecg\", \"thalach\", \"exang\", \"oldpeak\", \"slope\", \"ca\", \"thal\", \"num\"]\n",
    ")\n",
    "\n",
    "column_transformer = make_column_transformer(\n",
    "    (StandardScaler(), [\"age\", \"trestbps\", \"chol\", \"thalach\", \"oldpeak\"]),\n",
    "    remainder='passthrough',\n",
    "    verbose_feature_names_out = False\n",
    ")\n",
    "\n",
    "# Drop \"ca\" and \"thal\" due to missing values\n",
    "# Scale numerical features\n",
    "heart_disease_df = pd.DataFrame(\n",
    "    column_transformer.fit_transform(df.drop(columns=[\"ca\", \"thal\"])),\n",
    "    columns=column_transformer.get_feature_names_out()\n",
    ")\n",
    "X = heart_disease_df.drop(columns=[\"num\"])\n",
    "y = heart_disease_df[\"num\"]\n",
    "\n",
    "X_train, X_test, y_train, y_test = train_test_split(X, y, test_size=0.4, random_state=123)\n",
    "\n",
    "heart_disease_df.head()"
   ]
  },
  {
   "cell_type": "code",
   "execution_count": 3,
   "id": "38313052",
   "metadata": {},
   "outputs": [
    {
     "name": "stdout",
     "output_type": "stream",
     "text": [
      "Baseline model with no optimizations:  0.5411\n"
     ]
    },
    {
     "data": {
      "text/html": [
       "\n",
       "<style>\n",
       "  #altair-viz-ebee6c26f7c54801967725512cca2175.vega-embed {\n",
       "    width: 100%;\n",
       "    display: flex;\n",
       "  }\n",
       "\n",
       "  #altair-viz-ebee6c26f7c54801967725512cca2175.vega-embed details,\n",
       "  #altair-viz-ebee6c26f7c54801967725512cca2175.vega-embed details summary {\n",
       "    position: relative;\n",
       "  }\n",
       "</style>\n",
       "<div id=\"altair-viz-ebee6c26f7c54801967725512cca2175\"></div>\n",
       "<script type=\"text/javascript\">\n",
       "  var VEGA_DEBUG = (typeof VEGA_DEBUG == \"undefined\") ? {} : VEGA_DEBUG;\n",
       "  (function(spec, embedOpt){\n",
       "    let outputDiv = document.currentScript.previousElementSibling;\n",
       "    if (outputDiv.id !== \"altair-viz-ebee6c26f7c54801967725512cca2175\") {\n",
       "      outputDiv = document.getElementById(\"altair-viz-ebee6c26f7c54801967725512cca2175\");\n",
       "    }\n",
       "    const paths = {\n",
       "      \"vega\": \"https://cdn.jsdelivr.net/npm/vega@5?noext\",\n",
       "      \"vega-lib\": \"https://cdn.jsdelivr.net/npm/vega-lib?noext\",\n",
       "      \"vega-lite\": \"https://cdn.jsdelivr.net/npm/vega-lite@5.16.3?noext\",\n",
       "      \"vega-embed\": \"https://cdn.jsdelivr.net/npm/vega-embed@6?noext\",\n",
       "    };\n",
       "\n",
       "    function maybeLoadScript(lib, version) {\n",
       "      var key = `${lib.replace(\"-\", \"\")}_version`;\n",
       "      return (VEGA_DEBUG[key] == version) ?\n",
       "        Promise.resolve(paths[lib]) :\n",
       "        new Promise(function(resolve, reject) {\n",
       "          var s = document.createElement('script');\n",
       "          document.getElementsByTagName(\"head\")[0].appendChild(s);\n",
       "          s.async = true;\n",
       "          s.onload = () => {\n",
       "            VEGA_DEBUG[key] = version;\n",
       "            return resolve(paths[lib]);\n",
       "          };\n",
       "          s.onerror = () => reject(`Error loading script: ${paths[lib]}`);\n",
       "          s.src = paths[lib];\n",
       "        });\n",
       "    }\n",
       "\n",
       "    function showError(err) {\n",
       "      outputDiv.innerHTML = `<div class=\"error\" style=\"color:red;\">${err}</div>`;\n",
       "      throw err;\n",
       "    }\n",
       "\n",
       "    function displayChart(vegaEmbed) {\n",
       "      vegaEmbed(outputDiv, spec, embedOpt)\n",
       "        .catch(err => showError(`Javascript Error: ${err.message}<br>This usually means there's a typo in your chart specification. See the javascript console for the full traceback.`));\n",
       "    }\n",
       "\n",
       "    if(typeof define === \"function\" && define.amd) {\n",
       "      requirejs.config({paths});\n",
       "      require([\"vega-embed\"], displayChart, err => showError(`Error loading script: ${err.message}`));\n",
       "    } else {\n",
       "      maybeLoadScript(\"vega\", \"5\")\n",
       "        .then(() => maybeLoadScript(\"vega-lite\", \"5.16.3\"))\n",
       "        .then(() => maybeLoadScript(\"vega-embed\", \"6\"))\n",
       "        .catch(showError)\n",
       "        .then(() => displayChart(vegaEmbed));\n",
       "    }\n",
       "  })({\"config\": {\"view\": {\"continuousWidth\": 300, \"continuousHeight\": 300}}, \"layer\": [{\"data\": {\"name\": \"data-a36fb205e479c7f76ada856edeb59c0f\"}, \"mark\": {\"type\": \"bar\", \"clip\": true}, \"encoding\": {\"x\": {\"field\": \"name\", \"title\": \"CV Run Name\", \"type\": \"ordinal\"}, \"y\": {\"field\": \"average_CV_score\", \"scale\": {\"domain\": [0.5, 0.6]}, \"title\": \"Average CV Score\", \"type\": \"quantitative\"}}, \"title\": \"Average CV Scores w/Removed Features (Lower is better)\"}, {\"data\": {\"name\": \"data-e3328aa118d736c54b22a97ce5a8d3c0\"}, \"mark\": {\"type\": \"rule\"}, \"encoding\": {\"y\": {\"field\": \"average_CV_score\", \"type\": \"quantitative\"}}}], \"$schema\": \"https://vega.github.io/schema/vega-lite/v5.16.3.json\", \"datasets\": {\"data-a36fb205e479c7f76ada856edeb59c0f\": [{\"name\": \"all_features\", \"average_CV_score\": 0.5411411411411412}, {\"name\": \"no_age\", \"average_CV_score\": 0.5636636636636637}, {\"name\": \"no_trestbps\", \"average_CV_score\": 0.5412912912912913}, {\"name\": \"no_chol\", \"average_CV_score\": 0.5468468468468469}, {\"name\": \"no_thalach\", \"average_CV_score\": 0.5247747747747749}, {\"name\": \"no_oldpeak\", \"average_CV_score\": 0.5525525525525525}, {\"name\": \"no_sex\", \"average_CV_score\": 0.5192192192192191}, {\"name\": \"no_cp\", \"average_CV_score\": 0.49744744744744746}, {\"name\": \"no_fbs\", \"average_CV_score\": 0.5524024024024023}, {\"name\": \"no_restecg\", \"average_CV_score\": 0.5471471471471472}, {\"name\": \"no_exang\", \"average_CV_score\": 0.5192192192192192}, {\"name\": \"no_slope\", \"average_CV_score\": 0.5635135135135136}], \"data-e3328aa118d736c54b22a97ce5a8d3c0\": [{\"name\": \"all_features\", \"average_CV_score\": 0.5411411411411412}]}}, {\"mode\": \"vega-lite\"});\n",
       "</script>"
      ],
      "text/plain": [
       "alt.LayerChart(...)"
      ]
     },
     "execution_count": 3,
     "metadata": {},
     "output_type": "execute_result"
    }
   ],
   "source": [
    "knn = KNeighborsClassifier()\n",
    "scores = {\"name\": [], \"average_CV_score\": []}\n",
    "\n",
    "# This serves as a baseline to compare the other runs\n",
    "cv_results = cross_val_score(knn, X_train, y_train)\n",
    "scores[\"name\"].append(\"all_features\")\n",
    "scores[\"average_CV_score\"].append(np.average(cv_results))\n",
    "print(\n",
    "    \"Baseline model with no optimizations: \",\n",
    "    np.round(np.average(cv_results), decimals=4)\n",
    ")\n",
    "\n",
    "for col in X_train.columns:\n",
    "    cv_results = cross_val_score(knn, X_train.drop(columns=[col]), y_train)\n",
    "    scores[\"name\"].append(\"no_\" + col)\n",
    "    scores[\"average_CV_score\"].append(np.average(cv_results))\n",
    "\n",
    "cv_results_df = pd.DataFrame(scores)\n",
    "\n",
    "chart = alt.Chart(cv_results_df).mark_bar(clip=True).encode(\n",
    "    alt.X(\n",
    "        'name:O',\n",
    "        title=\"CV Run Name\"\n",
    "    ),\n",
    "    alt.Y(\n",
    "        'average_CV_score:Q',\n",
    "        title=\"Average CV Score\"\n",
    "    ).scale(domain=[0.5, 0.6]),\n",
    ").properties(\n",
    "    title = \"Average CV Scores w/Removed Features (Lower is better)\"\n",
    ")\n",
    "line = alt.Chart(cv_results_df.loc[cv_results_df[\"name\"] == \"all_features\"]).mark_rule().encode(y='average_CV_score')\n",
    "\n",
    "chart + line\n"
   ]
  },
  {
   "cell_type": "markdown",
   "id": "243e18ad",
   "metadata": {},
   "source": [
    "This tells us that removing cp, exang, sex, and thalach lowers our overall CV scores. Therefore, these are probably the most useful features. So we can probably drop the other features."
   ]
  },
  {
   "cell_type": "code",
   "execution_count": 4,
   "id": "e04693fd",
   "metadata": {},
   "outputs": [],
   "source": [
    "X_train_cropped = X_train.drop(columns=[\"age\", \"chol\", \"fbs\", \"restecg\", \"slope\", \"trestbps\"])\n",
    "X_test_cropped = X_test.drop(columns=[\"age\", \"chol\", \"fbs\", \"restecg\", \"slope\", \"trestbps\"])"
   ]
  },
  {
   "cell_type": "markdown",
   "id": "dfb1aa44",
   "metadata": {},
   "source": [
    "Now we can compare how our model fairs with and without these cropped features."
   ]
  },
  {
   "cell_type": "code",
   "execution_count": 5,
   "id": "66f4d0e7",
   "metadata": {},
   "outputs": [
    {
     "name": "stdout",
     "output_type": "stream",
     "text": [
      "With all features:  0.5411\n",
      "With cropped features:  0.5695\n"
     ]
    }
   ],
   "source": [
    "print(\n",
    "    \"With all features: \",\n",
    "    np.round(\n",
    "        np.average(cross_val_score(knn, X_train, y_train)),\n",
    "        decimals=4\n",
    "    )\n",
    ")\n",
    "print(\n",
    "    \"With cropped features: \",\n",
    "    np.round(\n",
    "        np.average(cross_val_score(knn, X_train_cropped, y_train)),\n",
    "        decimals=4\n",
    "    )\n",
    ")"
   ]
  },
  {
   "cell_type": "markdown",
   "id": "5ce08708",
   "metadata": {},
   "source": [
    "We can see that our model is slightly improved by dropping the bad features.\n",
    "\n",
    "We can further optimize our model by optimizing our hyper-parameters. In this case, we only need to optimize for n_neighbors in our KNeighborsClassifier."
   ]
  },
  {
   "cell_type": "code",
   "execution_count": 6,
   "id": "46203e16",
   "metadata": {},
   "outputs": [
    {
     "name": "stdout",
     "output_type": "stream",
     "text": [
      "[49 10  7  4 20 14  3  2  1 22 31 21 37  8 15 27 29 29  8 27 22 11  5 19\n",
      " 16 16 16 12  5 44 36 44 13 25 24 35 42 26 42 48 44 44 33 31 33 38 38 38\n",
      " 38]\n"
     ]
    }
   ],
   "source": [
    "parameters = {'n_neighbors':range(1, 50)}\n",
    "grid = GridSearchCV(knn, parameters)\n",
    "\n",
    "grid.fit(X_train_cropped, y_train)\n",
    "print(grid.cv_results_[\"rank_test_score\"])"
   ]
  },
  {
   "cell_type": "markdown",
   "id": "fb1d02c6",
   "metadata": {},
   "source": [
    "Here we see that the 8th item gives us the best score. That correlates to an n_neighbors value of 9.\n",
    "\n",
    "We can again see how that affects our model:"
   ]
  },
  {
   "cell_type": "code",
   "execution_count": 7,
   "id": "4584d9de",
   "metadata": {},
   "outputs": [
    {
     "name": "stdout",
     "output_type": "stream",
     "text": [
      "Test score with hyper-parameters optimized:  0.6078\n"
     ]
    }
   ],
   "source": [
    "hyper_param_optimized_knn = KNeighborsClassifier(n_neighbors=9)\n",
    "print(\n",
    "    \"Test score with hyper-parameters optimized: \",\n",
    "    np.round(\n",
    "        np.average(cross_val_score(hyper_param_optimized_knn, X_train_cropped, y_train)),\n",
    "        decimals=4\n",
    "    )\n",
    ")"
   ]
  },
  {
   "cell_type": "markdown",
   "id": "3295a196",
   "metadata": {},
   "source": [
    "Finally, we can see how our model stacks up against test data:"
   ]
  },
  {
   "cell_type": "code",
   "execution_count": 8,
   "id": "80490fe6",
   "metadata": {},
   "outputs": [
    {
     "name": "stdout",
     "output_type": "stream",
     "text": [
      "0.5574\n"
     ]
    }
   ],
   "source": [
    "final_knn = KNeighborsClassifier(n_neighbors=9).fit(X_train_cropped, y_train)\n",
    "print(np.round(final_knn.score(X_test_cropped, y_test), decimals=4))"
   ]
  },
  {
   "cell_type": "markdown",
   "id": "5fe58158",
   "metadata": {},
   "source": [
    "We can see that our test score is a bit lower than our cross-validation score. However, we can also see that our optimized model has scored better on the test data, than our unoptmized model did on the training data.\n",
    "\n",
    "Baseline unoptimized: 0.5411\n",
    "\n",
    "Optmized: 0.5574"
   ]
  }
 ],
 "metadata": {
  "kernelspec": {
   "display_name": "base",
   "language": "python",
   "name": "python3"
  },
  "language_info": {
   "codemirror_mode": {
    "name": "ipython",
    "version": 3
   },
   "file_extension": ".py",
   "mimetype": "text/x-python",
   "name": "python",
   "nbconvert_exporter": "python",
   "pygments_lexer": "ipython3",
   "version": "3.11.4"
  }
 },
 "nbformat": 4,
 "nbformat_minor": 5
}
