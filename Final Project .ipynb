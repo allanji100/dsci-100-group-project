{
 "cells": [
  {
   "cell_type": "code",
   "execution_count": 1,
   "id": "5b4ca765",
   "metadata": {},
   "outputs": [],
   "source": [
    "import pandas as pd\n",
    "import numpy as np\n",
    "import altair as alt\n",
    "\n",
    "from sklearn.model_selection import train_test_split\n",
    "from sklearn.model_selection import cross_val_score\n",
    "from sklearn.model_selection import GridSearchCV\n",
    "from sklearn.neighbors import KNeighborsClassifier\n",
    "from sklearn.preprocessing import StandardScaler\n",
    "from sklearn.compose import make_column_transformer\n",
    "\n",
    "np.random.seed(1234)"
   ]
  },
  {
   "cell_type": "markdown",
   "id": "2d44a500-ca7b-41e8-9d47-f7556cf630e9",
   "metadata": {},
   "source": [
    "# Introduction\n",
    "In this project, we aim to use a KNearestNeighbors classifier model to determine which parameters are most useful in heart disease predicting occurrences using a dataset from UC Irvine (Janosi et al. 1988). Our main goal is understanding how different medical attributes relate to cardiac health outcomes and ultimately creating a reliable predictive model. We aim to uncover meaningful patterns and correlations by carefully exploring and analyzing the dataset. This will enable us to develop a practical framework for estimating the likelihood of heart disease based on an individual's medical profile. Our project aims to answer the following question: What are the most relevant parameters in predicting cardiovascular health?  "
   ]
  },
  {
   "cell_type": "markdown",
   "id": "7587ee72-77b8-4219-83aa-3499fa0bfd66",
   "metadata": {},
   "source": [
    "# Data Description\n",
    "Our chosen  dataset comprises 76 attributes, yet published experiments typically utilize a subset of 14 attributes. Among these, the Cleveland database stands out as the primary focus for machine learning researchers. The \"goal\" field denotes the presence of heart disease in patients, with integer values ranging from 0 (absence) to 4 (Janosi et al. 1988). Previous studies with the Cleveland database have primarily aimed to differentiate between the presence (values 1, 2, 3, 4) and absence (value 0) of heart disease (Janosi et al. 1988).\n",
    "\n",
    "The features included in the data are: age, sex, constrictive pericarditis (cp), resting blood pressure (trestbps), fasting blood sugar (fbs), resting electrocardiographic measure (restecg), Maximum heart rates (thalach), exercise induced angina (exang),  slope (up, flat, down) %  number of vessels colored (Oldpeak), st segment/heart rate slope (Slope), class (num), number of major vessels (ca), and inherited blood disorder that causes less hemoglobin levels (thal) (Janosi et al. 1988). \n",
    "\n",
    "Below, we have provided the reasoning for why we chose to include each predictor value:   \n",
    "\n",
    "**Age**: basic demographic information, also age is relevant to increased risk of many diseases\n",
    "\n",
    "**Sex**: basic demographic information, also there may be differences of heart disease diagnosis due to physical differences between sex\n",
    "\n",
    "**Constrictive Pericarditis (cp)**: a condition where ventricular filling is restricted due to loss of pericardial elasticity, this condition could appear as a form of heart failure\n",
    "\n",
    "**Resting Blood Pressure (Trestbps)**: blood pressure is related to heart disease since high blood pressure means that the heart is required to put more force to get blood running.\n",
    "\n",
    "**Fasting Blood Sugar (fbs)**: diabetes is a major risk factor for heart failure\n",
    "\n",
    "**resting electrocardiographic measure (restecg)**: this indicates if the individual has abnormality of ST-T wave(predicts for morbidity of cardiovascular disease) , left ventricular hypertrophy (increased pressure in heart), or normal\n",
    "\n",
    "**Maximum heart rates (thalach)**: Provides insight into the cardiovascular health and capacity \n",
    "\n",
    "**Exercise-induced angina(Exang)**:Chest pain/discomfort from decreased oxygenated blood at heart muscles often seen in those with cardiovascular disease\n",
    "\n",
    "**Ulope (up, flat, down) %  number of vessels colored (Oldpeak)**: ST depression induced by exercise relative to rest to allow insight into cardiovascular health \n",
    "\n",
    "**st segment/heart rate slope (Slope)**: electrocardiographic criteria for diagnosing accurate coronary artery disease\n",
    "\n",
    "**Class (Num)**: Used for testing our classifier model "
   ]
  },
  {
   "cell_type": "markdown",
   "id": "7261ea71-26de-4aaf-bf6a-916fd3bae971",
   "metadata": {},
   "source": [
    "# Methods and Analysis "
   ]
  },
  {
   "cell_type": "markdown",
   "id": "74da95bc",
   "metadata": {},
   "source": [
    "**Reading in Data**"
   ]
  },
  {
   "cell_type": "code",
   "execution_count": 29,
   "id": "eaa72c63",
   "metadata": {},
   "outputs": [],
   "source": [
    "# Fetch dataset from website\n",
    "url = \"https://github.com/allanji100/dsci-100-group-project/blob/main/heart%2Bdisease/processed.cleveland.data?raw=true\"\n",
    "\n",
    "df = pd.read_csv(\n",
    "    url,\n",
    "    names=[\"age\", \"sex\", \"cp\", \"trestbps\", \"chol\", \"fbs\", \"restecg\", \"thalach\", \"exang\", \"oldpeak\", \"slope\", \"ca\", \"thal\", \"num\"]\n",
    ")\n",
    "\n",
    "#Create a preprocessor with numerical data standardized \n",
    "column_transformer = make_column_transformer(\n",
    "    (StandardScaler(), [\"age\", \"trestbps\", \"chol\", \"thalach\", \"oldpeak\"]),\n",
    "    remainder='passthrough',\n",
    "    verbose_feature_names_out = False\n",
    ")\n",
    "\n",
    "# Drop \"ca\" and \"thal\" due to missing values\n",
    "# Scale numerical features\n",
    "heart_disease_df = pd.DataFrame(\n",
    "    column_transformer.fit_transform(df.drop(columns=[\"ca\", \"thal\"])),\n",
    "    columns=column_transformer.get_feature_names_out()\n",
    ")\n",
    "X = heart_disease_df.drop(columns=[\"num\"])\n",
    "y = heart_disease_df[\"num\"]\n",
    "\n",
    "# Create train and test splits\n",
    "X_train, X_test, y_train, y_test = train_test_split(X, y, test_size=0.4, random_state=123)"
   ]
  },
  {
   "cell_type": "code",
   "execution_count": 30,
   "id": "53ad01bd-3c79-4dc5-b9f7-6a54449c6edf",
   "metadata": {},
   "outputs": [
    {
     "data": {
      "text/html": [
       "<div>\n",
       "<style scoped>\n",
       "    .dataframe tbody tr th:only-of-type {\n",
       "        vertical-align: middle;\n",
       "    }\n",
       "\n",
       "    .dataframe tbody tr th {\n",
       "        vertical-align: top;\n",
       "    }\n",
       "\n",
       "    .dataframe thead th {\n",
       "        text-align: right;\n",
       "    }\n",
       "</style>\n",
       "<table border=\"1\" class=\"dataframe\">\n",
       "  <thead>\n",
       "    <tr style=\"text-align: right;\">\n",
       "      <th></th>\n",
       "      <th>age</th>\n",
       "      <th>trestbps</th>\n",
       "      <th>chol</th>\n",
       "      <th>thalach</th>\n",
       "      <th>oldpeak</th>\n",
       "      <th>sex</th>\n",
       "      <th>cp</th>\n",
       "      <th>fbs</th>\n",
       "      <th>restecg</th>\n",
       "      <th>exang</th>\n",
       "      <th>slope</th>\n",
       "      <th>num</th>\n",
       "    </tr>\n",
       "  </thead>\n",
       "  <tbody>\n",
       "    <tr>\n",
       "      <th>0</th>\n",
       "      <td>0.948726</td>\n",
       "      <td>0.757525</td>\n",
       "      <td>-0.264900</td>\n",
       "      <td>0.017197</td>\n",
       "      <td>1.087338</td>\n",
       "      <td>1.0</td>\n",
       "      <td>1.0</td>\n",
       "      <td>1.0</td>\n",
       "      <td>2.0</td>\n",
       "      <td>0.0</td>\n",
       "      <td>3.0</td>\n",
       "      <td>0.0</td>\n",
       "    </tr>\n",
       "    <tr>\n",
       "      <th>1</th>\n",
       "      <td>1.392002</td>\n",
       "      <td>1.611220</td>\n",
       "      <td>0.760415</td>\n",
       "      <td>-1.821905</td>\n",
       "      <td>0.397182</td>\n",
       "      <td>1.0</td>\n",
       "      <td>4.0</td>\n",
       "      <td>0.0</td>\n",
       "      <td>2.0</td>\n",
       "      <td>1.0</td>\n",
       "      <td>2.0</td>\n",
       "      <td>2.0</td>\n",
       "    </tr>\n",
       "    <tr>\n",
       "      <th>2</th>\n",
       "      <td>1.392002</td>\n",
       "      <td>-0.665300</td>\n",
       "      <td>-0.342283</td>\n",
       "      <td>-0.902354</td>\n",
       "      <td>1.346147</td>\n",
       "      <td>1.0</td>\n",
       "      <td>4.0</td>\n",
       "      <td>0.0</td>\n",
       "      <td>2.0</td>\n",
       "      <td>1.0</td>\n",
       "      <td>2.0</td>\n",
       "      <td>1.0</td>\n",
       "    </tr>\n",
       "    <tr>\n",
       "      <th>3</th>\n",
       "      <td>-1.932564</td>\n",
       "      <td>-0.096170</td>\n",
       "      <td>0.063974</td>\n",
       "      <td>1.637359</td>\n",
       "      <td>2.122573</td>\n",
       "      <td>1.0</td>\n",
       "      <td>3.0</td>\n",
       "      <td>0.0</td>\n",
       "      <td>0.0</td>\n",
       "      <td>0.0</td>\n",
       "      <td>3.0</td>\n",
       "      <td>0.0</td>\n",
       "    </tr>\n",
       "    <tr>\n",
       "      <th>4</th>\n",
       "      <td>-1.489288</td>\n",
       "      <td>-0.096170</td>\n",
       "      <td>-0.825922</td>\n",
       "      <td>0.980537</td>\n",
       "      <td>0.310912</td>\n",
       "      <td>0.0</td>\n",
       "      <td>2.0</td>\n",
       "      <td>0.0</td>\n",
       "      <td>2.0</td>\n",
       "      <td>0.0</td>\n",
       "      <td>1.0</td>\n",
       "      <td>0.0</td>\n",
       "    </tr>\n",
       "  </tbody>\n",
       "</table>\n",
       "</div>"
      ],
      "text/plain": [
       "        age  trestbps      chol   thalach   oldpeak  sex   cp  fbs  restecg  \\\n",
       "0  0.948726  0.757525 -0.264900  0.017197  1.087338  1.0  1.0  1.0      2.0   \n",
       "1  1.392002  1.611220  0.760415 -1.821905  0.397182  1.0  4.0  0.0      2.0   \n",
       "2  1.392002 -0.665300 -0.342283 -0.902354  1.346147  1.0  4.0  0.0      2.0   \n",
       "3 -1.932564 -0.096170  0.063974  1.637359  2.122573  1.0  3.0  0.0      0.0   \n",
       "4 -1.489288 -0.096170 -0.825922  0.980537  0.310912  0.0  2.0  0.0      2.0   \n",
       "\n",
       "   exang  slope  num  \n",
       "0    0.0    3.0  0.0  \n",
       "1    1.0    2.0  2.0  \n",
       "2    1.0    2.0  1.0  \n",
       "3    0.0    3.0  0.0  \n",
       "4    0.0    1.0  0.0  "
      ]
     },
     "execution_count": 30,
     "metadata": {},
     "output_type": "execute_result"
    }
   ],
   "source": [
    "heart_disease_df.head()"
   ]
  },
  {
   "cell_type": "markdown",
   "id": "ac13cb63-f6f0-4b58-89ed-5dc222228e1b",
   "metadata": {},
   "source": [
    "***Table 1.*** Sample (top 5 rows) of medical data set from UC Irvine with standardized data and ca and thal collumns removed due to missing data. "
   ]
  },
  {
   "cell_type": "markdown",
   "id": "dbeaaae5-32f3-449b-b095-3c7cc981c98b",
   "metadata": {},
   "source": [
    "**Visualizing Data**"
   ]
  },
  {
   "cell_type": "code",
   "execution_count": 26,
   "id": "8d872e54-5745-4679-9991-d36120b792f2",
   "metadata": {},
   "outputs": [
    {
     "data": {
      "text/html": [
       "\n",
       "<style>\n",
       "  #altair-viz-e7b8bbeb201e4b86a09044a8c0b79021.vega-embed {\n",
       "    width: 100%;\n",
       "    display: flex;\n",
       "  }\n",
       "\n",
       "  #altair-viz-e7b8bbeb201e4b86a09044a8c0b79021.vega-embed details,\n",
       "  #altair-viz-e7b8bbeb201e4b86a09044a8c0b79021.vega-embed details summary {\n",
       "    position: relative;\n",
       "  }\n",
       "</style>\n",
       "<div id=\"altair-viz-e7b8bbeb201e4b86a09044a8c0b79021\"></div>\n",
       "<script type=\"text/javascript\">\n",
       "  var VEGA_DEBUG = (typeof VEGA_DEBUG == \"undefined\") ? {} : VEGA_DEBUG;\n",
       "  (function(spec, embedOpt){\n",
       "    let outputDiv = document.currentScript.previousElementSibling;\n",
       "    if (outputDiv.id !== \"altair-viz-e7b8bbeb201e4b86a09044a8c0b79021\") {\n",
       "      outputDiv = document.getElementById(\"altair-viz-e7b8bbeb201e4b86a09044a8c0b79021\");\n",
       "    }\n",
       "    const paths = {\n",
       "      \"vega\": \"https://cdn.jsdelivr.net/npm/vega@5?noext\",\n",
       "      \"vega-lib\": \"https://cdn.jsdelivr.net/npm/vega-lib?noext\",\n",
       "      \"vega-lite\": \"https://cdn.jsdelivr.net/npm/vega-lite@5.8.0?noext\",\n",
       "      \"vega-embed\": \"https://cdn.jsdelivr.net/npm/vega-embed@6?noext\",\n",
       "    };\n",
       "\n",
       "    function maybeLoadScript(lib, version) {\n",
       "      var key = `${lib.replace(\"-\", \"\")}_version`;\n",
       "      return (VEGA_DEBUG[key] == version) ?\n",
       "        Promise.resolve(paths[lib]) :\n",
       "        new Promise(function(resolve, reject) {\n",
       "          var s = document.createElement('script');\n",
       "          document.getElementsByTagName(\"head\")[0].appendChild(s);\n",
       "          s.async = true;\n",
       "          s.onload = () => {\n",
       "            VEGA_DEBUG[key] = version;\n",
       "            return resolve(paths[lib]);\n",
       "          };\n",
       "          s.onerror = () => reject(`Error loading script: ${paths[lib]}`);\n",
       "          s.src = paths[lib];\n",
       "        });\n",
       "    }\n",
       "\n",
       "    function showError(err) {\n",
       "      outputDiv.innerHTML = `<div class=\"error\" style=\"color:red;\">${err}</div>`;\n",
       "      throw err;\n",
       "    }\n",
       "\n",
       "    function displayChart(vegaEmbed) {\n",
       "      vegaEmbed(outputDiv, spec, embedOpt)\n",
       "        .catch(err => showError(`Javascript Error: ${err.message}<br>This usually means there's a typo in your chart specification. See the javascript console for the full traceback.`));\n",
       "    }\n",
       "\n",
       "    if(typeof define === \"function\" && define.amd) {\n",
       "      requirejs.config({paths});\n",
       "      require([\"vega-embed\"], displayChart, err => showError(`Error loading script: ${err.message}`));\n",
       "    } else {\n",
       "      maybeLoadScript(\"vega\", \"5\")\n",
       "        .then(() => maybeLoadScript(\"vega-lite\", \"5.8.0\"))\n",
       "        .then(() => maybeLoadScript(\"vega-embed\", \"6\"))\n",
       "        .catch(showError)\n",
       "        .then(() => displayChart(vegaEmbed));\n",
       "    }\n",
       "  })({\"config\": {\"view\": {\"continuousWidth\": 300, \"continuousHeight\": 300}}, \"data\": {\"name\": \"data-f5aa6fcdf4ad31aab355926d02743411\"}, \"facet\": {\"field\": \"Parameter\", \"type\": \"nominal\"}, \"spec\": {\"mark\": {\"type\": \"bar\", \"clip\": true}, \"encoding\": {\"color\": {\"field\": \"num\", \"title\": \"Heart Disease Severity\", \"type\": \"quantitative\"}, \"x\": {\"bin\": {\"maxbins\": 85}, \"field\": \"Value\", \"scale\": {\"domain\": [0, 300]}, \"title\": \"Parameter Value\", \"type\": \"quantitative\"}, \"y\": {\"aggregate\": \"count\", \"scale\": {\"domain\": [0, 15]}, \"title\": \"Number of Individuals\", \"type\": \"quantitative\"}}}, \"columns\": 4, \"$schema\": \"https://vega.github.io/schema/vega-lite/v5.8.0.json\", \"datasets\": {\"data-f5aa6fcdf4ad31aab355926d02743411\": [{\"age\": 63.0, \"num\": 0, \"Parameter\": \"trestbps\", \"Value\": 145.0}, {\"age\": 67.0, \"num\": 2, \"Parameter\": \"trestbps\", \"Value\": 160.0}, {\"age\": 67.0, \"num\": 1, \"Parameter\": \"trestbps\", \"Value\": 120.0}, {\"age\": 37.0, \"num\": 0, \"Parameter\": \"trestbps\", \"Value\": 130.0}, {\"age\": 41.0, \"num\": 0, \"Parameter\": \"trestbps\", \"Value\": 130.0}, {\"age\": 56.0, \"num\": 0, \"Parameter\": \"trestbps\", \"Value\": 120.0}, {\"age\": 62.0, \"num\": 3, \"Parameter\": \"trestbps\", \"Value\": 140.0}, {\"age\": 57.0, \"num\": 0, \"Parameter\": \"trestbps\", \"Value\": 120.0}, {\"age\": 63.0, \"num\": 2, \"Parameter\": \"trestbps\", \"Value\": 130.0}, {\"age\": 53.0, \"num\": 1, \"Parameter\": \"trestbps\", \"Value\": 140.0}, {\"age\": 57.0, \"num\": 0, \"Parameter\": \"trestbps\", \"Value\": 140.0}, {\"age\": 56.0, \"num\": 0, \"Parameter\": \"trestbps\", \"Value\": 140.0}, {\"age\": 56.0, \"num\": 2, \"Parameter\": \"trestbps\", \"Value\": 130.0}, {\"age\": 44.0, \"num\": 0, \"Parameter\": \"trestbps\", \"Value\": 120.0}, {\"age\": 52.0, \"num\": 0, \"Parameter\": \"trestbps\", \"Value\": 172.0}, {\"age\": 57.0, \"num\": 0, \"Parameter\": \"trestbps\", \"Value\": 150.0}, {\"age\": 48.0, \"num\": 1, \"Parameter\": \"trestbps\", \"Value\": 110.0}, {\"age\": 54.0, \"num\": 0, \"Parameter\": \"trestbps\", \"Value\": 140.0}, {\"age\": 48.0, \"num\": 0, \"Parameter\": \"trestbps\", \"Value\": 130.0}, {\"age\": 49.0, \"num\": 0, \"Parameter\": \"trestbps\", \"Value\": 130.0}, {\"age\": 64.0, \"num\": 0, \"Parameter\": \"trestbps\", \"Value\": 110.0}, {\"age\": 58.0, \"num\": 0, \"Parameter\": \"trestbps\", \"Value\": 150.0}, {\"age\": 58.0, \"num\": 1, \"Parameter\": \"trestbps\", \"Value\": 120.0}, {\"age\": 58.0, \"num\": 3, \"Parameter\": \"trestbps\", \"Value\": 132.0}, {\"age\": 60.0, \"num\": 4, \"Parameter\": \"trestbps\", \"Value\": 130.0}, {\"age\": 50.0, \"num\": 0, \"Parameter\": \"trestbps\", \"Value\": 120.0}, {\"age\": 58.0, \"num\": 0, \"Parameter\": \"trestbps\", \"Value\": 120.0}, {\"age\": 66.0, \"num\": 0, \"Parameter\": \"trestbps\", \"Value\": 150.0}, {\"age\": 43.0, \"num\": 0, \"Parameter\": \"trestbps\", \"Value\": 150.0}, {\"age\": 40.0, \"num\": 3, \"Parameter\": \"trestbps\", \"Value\": 110.0}, {\"age\": 69.0, \"num\": 0, \"Parameter\": \"trestbps\", \"Value\": 140.0}, {\"age\": 60.0, \"num\": 2, \"Parameter\": \"trestbps\", \"Value\": 117.0}, {\"age\": 64.0, \"num\": 1, \"Parameter\": \"trestbps\", \"Value\": 140.0}, {\"age\": 59.0, \"num\": 0, \"Parameter\": \"trestbps\", \"Value\": 135.0}, {\"age\": 44.0, \"num\": 0, \"Parameter\": \"trestbps\", \"Value\": 130.0}, {\"age\": 42.0, \"num\": 0, \"Parameter\": \"trestbps\", \"Value\": 140.0}, {\"age\": 43.0, \"num\": 3, \"Parameter\": \"trestbps\", \"Value\": 120.0}, {\"age\": 57.0, \"num\": 1, \"Parameter\": \"trestbps\", \"Value\": 150.0}, {\"age\": 55.0, \"num\": 3, \"Parameter\": \"trestbps\", \"Value\": 132.0}, {\"age\": 61.0, \"num\": 0, \"Parameter\": \"trestbps\", \"Value\": 150.0}, {\"age\": 65.0, \"num\": 4, \"Parameter\": \"trestbps\", \"Value\": 150.0}, {\"age\": 40.0, \"num\": 0, \"Parameter\": \"trestbps\", \"Value\": 140.0}, {\"age\": 71.0, \"num\": 0, \"Parameter\": \"trestbps\", \"Value\": 160.0}, {\"age\": 59.0, \"num\": 0, \"Parameter\": \"trestbps\", \"Value\": 150.0}, {\"age\": 61.0, \"num\": 1, \"Parameter\": \"trestbps\", \"Value\": 130.0}, {\"age\": 58.0, \"num\": 4, \"Parameter\": \"trestbps\", \"Value\": 112.0}, {\"age\": 51.0, \"num\": 0, \"Parameter\": \"trestbps\", \"Value\": 110.0}, {\"age\": 50.0, \"num\": 4, \"Parameter\": \"trestbps\", \"Value\": 150.0}, {\"age\": 65.0, \"num\": 0, \"Parameter\": \"trestbps\", \"Value\": 140.0}, {\"age\": 53.0, \"num\": 0, \"Parameter\": \"trestbps\", \"Value\": 130.0}, {\"age\": 41.0, \"num\": 0, \"Parameter\": \"trestbps\", \"Value\": 105.0}, {\"age\": 65.0, \"num\": 0, \"Parameter\": \"trestbps\", \"Value\": 120.0}, {\"age\": 44.0, \"num\": 2, \"Parameter\": \"trestbps\", \"Value\": 112.0}, {\"age\": 44.0, \"num\": 0, \"Parameter\": \"trestbps\", \"Value\": 130.0}, {\"age\": 60.0, \"num\": 1, \"Parameter\": \"trestbps\", \"Value\": 130.0}, {\"age\": 54.0, \"num\": 1, \"Parameter\": \"trestbps\", \"Value\": 124.0}, {\"age\": 50.0, \"num\": 1, \"Parameter\": \"trestbps\", \"Value\": 140.0}, {\"age\": 41.0, \"num\": 1, \"Parameter\": \"trestbps\", \"Value\": 110.0}, {\"age\": 54.0, \"num\": 0, \"Parameter\": \"trestbps\", \"Value\": 125.0}, {\"age\": 51.0, \"num\": 0, \"Parameter\": \"trestbps\", \"Value\": 125.0}, {\"age\": 51.0, \"num\": 2, \"Parameter\": \"trestbps\", \"Value\": 130.0}, {\"age\": 46.0, \"num\": 0, \"Parameter\": \"trestbps\", \"Value\": 142.0}, {\"age\": 58.0, \"num\": 1, \"Parameter\": \"trestbps\", \"Value\": 128.0}, {\"age\": 54.0, \"num\": 0, \"Parameter\": \"trestbps\", \"Value\": 135.0}, {\"age\": 54.0, \"num\": 2, \"Parameter\": \"trestbps\", \"Value\": 120.0}, {\"age\": 60.0, \"num\": 2, \"Parameter\": \"trestbps\", \"Value\": 145.0}, {\"age\": 60.0, \"num\": 1, \"Parameter\": \"trestbps\", \"Value\": 140.0}, {\"age\": 54.0, \"num\": 0, \"Parameter\": \"trestbps\", \"Value\": 150.0}, {\"age\": 59.0, \"num\": 2, \"Parameter\": \"trestbps\", \"Value\": 170.0}, {\"age\": 46.0, \"num\": 1, \"Parameter\": \"trestbps\", \"Value\": 150.0}, {\"age\": 65.0, \"num\": 0, \"Parameter\": \"trestbps\", \"Value\": 155.0}, {\"age\": 67.0, \"num\": 3, \"Parameter\": \"trestbps\", \"Value\": 125.0}, {\"age\": 62.0, \"num\": 1, \"Parameter\": \"trestbps\", \"Value\": 120.0}, {\"age\": 65.0, \"num\": 1, \"Parameter\": \"trestbps\", \"Value\": 110.0}, {\"age\": 44.0, \"num\": 1, \"Parameter\": \"trestbps\", \"Value\": 110.0}, {\"age\": 65.0, \"num\": 0, \"Parameter\": \"trestbps\", \"Value\": 160.0}, {\"age\": 60.0, \"num\": 1, \"Parameter\": \"trestbps\", \"Value\": 125.0}, {\"age\": 51.0, \"num\": 0, \"Parameter\": \"trestbps\", \"Value\": 140.0}, {\"age\": 48.0, \"num\": 0, \"Parameter\": \"trestbps\", \"Value\": 130.0}, {\"age\": 58.0, \"num\": 3, \"Parameter\": \"trestbps\", \"Value\": 150.0}, {\"age\": 45.0, \"num\": 0, \"Parameter\": \"trestbps\", \"Value\": 104.0}, {\"age\": 53.0, \"num\": 0, \"Parameter\": \"trestbps\", \"Value\": 130.0}, {\"age\": 39.0, \"num\": 0, \"Parameter\": \"trestbps\", \"Value\": 140.0}, {\"age\": 68.0, \"num\": 3, \"Parameter\": \"trestbps\", \"Value\": 180.0}, {\"age\": 52.0, \"num\": 0, \"Parameter\": \"trestbps\", \"Value\": 120.0}, {\"age\": 44.0, \"num\": 0, \"Parameter\": \"trestbps\", \"Value\": 140.0}, {\"age\": 47.0, \"num\": 0, \"Parameter\": \"trestbps\", \"Value\": 138.0}, {\"age\": 53.0, \"num\": 0, \"Parameter\": \"trestbps\", \"Value\": 128.0}, {\"age\": 53.0, \"num\": 0, \"Parameter\": \"trestbps\", \"Value\": 138.0}, {\"age\": 51.0, \"num\": 0, \"Parameter\": \"trestbps\", \"Value\": 130.0}, {\"age\": 66.0, \"num\": 0, \"Parameter\": \"trestbps\", \"Value\": 120.0}, {\"age\": 62.0, \"num\": 3, \"Parameter\": \"trestbps\", \"Value\": 160.0}, {\"age\": 62.0, \"num\": 0, \"Parameter\": \"trestbps\", \"Value\": 130.0}, {\"age\": 44.0, \"num\": 0, \"Parameter\": \"trestbps\", \"Value\": 108.0}, {\"age\": 63.0, \"num\": 0, \"Parameter\": \"trestbps\", \"Value\": 135.0}, {\"age\": 52.0, \"num\": 1, \"Parameter\": \"trestbps\", \"Value\": 128.0}, {\"age\": 59.0, \"num\": 2, \"Parameter\": \"trestbps\", \"Value\": 110.0}, {\"age\": 60.0, \"num\": 3, \"Parameter\": \"trestbps\", \"Value\": 150.0}, {\"age\": 52.0, \"num\": 0, \"Parameter\": \"trestbps\", \"Value\": 134.0}, {\"age\": 48.0, \"num\": 0, \"Parameter\": \"trestbps\", \"Value\": 122.0}, {\"age\": 45.0, \"num\": 0, \"Parameter\": \"trestbps\", \"Value\": 115.0}, {\"age\": 34.0, \"num\": 0, \"Parameter\": \"trestbps\", \"Value\": 118.0}, {\"age\": 57.0, \"num\": 0, \"Parameter\": \"trestbps\", \"Value\": 128.0}, {\"age\": 71.0, \"num\": 0, \"Parameter\": \"trestbps\", \"Value\": 110.0}, {\"age\": 49.0, \"num\": 3, \"Parameter\": \"trestbps\", \"Value\": 120.0}, {\"age\": 54.0, \"num\": 0, \"Parameter\": \"trestbps\", \"Value\": 108.0}, {\"age\": 59.0, \"num\": 2, \"Parameter\": \"trestbps\", \"Value\": 140.0}, {\"age\": 57.0, \"num\": 1, \"Parameter\": \"trestbps\", \"Value\": 128.0}, {\"age\": 61.0, \"num\": 2, \"Parameter\": \"trestbps\", \"Value\": 120.0}, {\"age\": 39.0, \"num\": 3, \"Parameter\": \"trestbps\", \"Value\": 118.0}, {\"age\": 61.0, \"num\": 1, \"Parameter\": \"trestbps\", \"Value\": 145.0}, {\"age\": 56.0, \"num\": 1, \"Parameter\": \"trestbps\", \"Value\": 125.0}, {\"age\": 52.0, \"num\": 0, \"Parameter\": \"trestbps\", \"Value\": 118.0}, {\"age\": 43.0, \"num\": 2, \"Parameter\": \"trestbps\", \"Value\": 132.0}, {\"age\": 62.0, \"num\": 2, \"Parameter\": \"trestbps\", \"Value\": 130.0}, {\"age\": 41.0, \"num\": 0, \"Parameter\": \"trestbps\", \"Value\": 135.0}, {\"age\": 58.0, \"num\": 0, \"Parameter\": \"trestbps\", \"Value\": 140.0}, {\"age\": 35.0, \"num\": 0, \"Parameter\": \"trestbps\", \"Value\": 138.0}, {\"age\": 63.0, \"num\": 3, \"Parameter\": \"trestbps\", \"Value\": 130.0}, {\"age\": 65.0, \"num\": 2, \"Parameter\": \"trestbps\", \"Value\": 135.0}, {\"age\": 48.0, \"num\": 3, \"Parameter\": \"trestbps\", \"Value\": 130.0}, {\"age\": 63.0, \"num\": 4, \"Parameter\": \"trestbps\", \"Value\": 150.0}, {\"age\": 51.0, \"num\": 0, \"Parameter\": \"trestbps\", \"Value\": 100.0}, {\"age\": 55.0, \"num\": 3, \"Parameter\": \"trestbps\", \"Value\": 140.0}, {\"age\": 65.0, \"num\": 1, \"Parameter\": \"trestbps\", \"Value\": 138.0}, {\"age\": 45.0, \"num\": 0, \"Parameter\": \"trestbps\", \"Value\": 130.0}, {\"age\": 56.0, \"num\": 3, \"Parameter\": \"trestbps\", \"Value\": 200.0}, {\"age\": 54.0, \"num\": 3, \"Parameter\": \"trestbps\", \"Value\": 110.0}, {\"age\": 44.0, \"num\": 0, \"Parameter\": \"trestbps\", \"Value\": 120.0}, {\"age\": 62.0, \"num\": 0, \"Parameter\": \"trestbps\", \"Value\": 124.0}, {\"age\": 54.0, \"num\": 0, \"Parameter\": \"trestbps\", \"Value\": 120.0}, {\"age\": 51.0, \"num\": 0, \"Parameter\": \"trestbps\", \"Value\": 94.0}, {\"age\": 29.0, \"num\": 0, \"Parameter\": \"trestbps\", \"Value\": 130.0}, {\"age\": 51.0, \"num\": 0, \"Parameter\": \"trestbps\", \"Value\": 140.0}, {\"age\": 43.0, \"num\": 0, \"Parameter\": \"trestbps\", \"Value\": 122.0}, {\"age\": 55.0, \"num\": 0, \"Parameter\": \"trestbps\", \"Value\": 135.0}, {\"age\": 70.0, \"num\": 4, \"Parameter\": \"trestbps\", \"Value\": 145.0}, {\"age\": 62.0, \"num\": 3, \"Parameter\": \"trestbps\", \"Value\": 120.0}, {\"age\": 35.0, \"num\": 1, \"Parameter\": \"trestbps\", \"Value\": 120.0}, {\"age\": 51.0, \"num\": 0, \"Parameter\": \"trestbps\", \"Value\": 125.0}, {\"age\": 59.0, \"num\": 0, \"Parameter\": \"trestbps\", \"Value\": 140.0}, {\"age\": 59.0, \"num\": 1, \"Parameter\": \"trestbps\", \"Value\": 170.0}, {\"age\": 52.0, \"num\": 0, \"Parameter\": \"trestbps\", \"Value\": 128.0}, {\"age\": 64.0, \"num\": 1, \"Parameter\": \"trestbps\", \"Value\": 125.0}, {\"age\": 58.0, \"num\": 0, \"Parameter\": \"trestbps\", \"Value\": 105.0}, {\"age\": 47.0, \"num\": 1, \"Parameter\": \"trestbps\", \"Value\": 108.0}, {\"age\": 57.0, \"num\": 4, \"Parameter\": \"trestbps\", \"Value\": 165.0}, {\"age\": 41.0, \"num\": 0, \"Parameter\": \"trestbps\", \"Value\": 112.0}, {\"age\": 45.0, \"num\": 0, \"Parameter\": \"trestbps\", \"Value\": 128.0}, {\"age\": 60.0, \"num\": 0, \"Parameter\": \"trestbps\", \"Value\": 102.0}, {\"age\": 52.0, \"num\": 0, \"Parameter\": \"trestbps\", \"Value\": 152.0}, {\"age\": 42.0, \"num\": 0, \"Parameter\": \"trestbps\", \"Value\": 102.0}, {\"age\": 67.0, \"num\": 0, \"Parameter\": \"trestbps\", \"Value\": 115.0}, {\"age\": 55.0, \"num\": 4, \"Parameter\": \"trestbps\", \"Value\": 160.0}, {\"age\": 64.0, \"num\": 3, \"Parameter\": \"trestbps\", \"Value\": 120.0}, {\"age\": 70.0, \"num\": 1, \"Parameter\": \"trestbps\", \"Value\": 130.0}, {\"age\": 51.0, \"num\": 1, \"Parameter\": \"trestbps\", \"Value\": 140.0}, {\"age\": 58.0, \"num\": 1, \"Parameter\": \"trestbps\", \"Value\": 125.0}, {\"age\": 60.0, \"num\": 2, \"Parameter\": \"trestbps\", \"Value\": 140.0}, {\"age\": 68.0, \"num\": 0, \"Parameter\": \"trestbps\", \"Value\": 118.0}, {\"age\": 46.0, \"num\": 0, \"Parameter\": \"trestbps\", \"Value\": 101.0}, {\"age\": 77.0, \"num\": 4, \"Parameter\": \"trestbps\", \"Value\": 125.0}, {\"age\": 54.0, \"num\": 0, \"Parameter\": \"trestbps\", \"Value\": 110.0}, {\"age\": 58.0, \"num\": 0, \"Parameter\": \"trestbps\", \"Value\": 100.0}, {\"age\": 48.0, \"num\": 0, \"Parameter\": \"trestbps\", \"Value\": 124.0}, {\"age\": 57.0, \"num\": 0, \"Parameter\": \"trestbps\", \"Value\": 132.0}, {\"age\": 52.0, \"num\": 0, \"Parameter\": \"trestbps\", \"Value\": 138.0}, {\"age\": 54.0, \"num\": 0, \"Parameter\": \"trestbps\", \"Value\": 132.0}, {\"age\": 35.0, \"num\": 1, \"Parameter\": \"trestbps\", \"Value\": 126.0}, {\"age\": 45.0, \"num\": 0, \"Parameter\": \"trestbps\", \"Value\": 112.0}, {\"age\": 70.0, \"num\": 3, \"Parameter\": \"trestbps\", \"Value\": 160.0}, {\"age\": 53.0, \"num\": 0, \"Parameter\": \"trestbps\", \"Value\": 142.0}, {\"age\": 59.0, \"num\": 1, \"Parameter\": \"trestbps\", \"Value\": 174.0}, {\"age\": 62.0, \"num\": 0, \"Parameter\": \"trestbps\", \"Value\": 140.0}, {\"age\": 64.0, \"num\": 4, \"Parameter\": \"trestbps\", \"Value\": 145.0}, {\"age\": 57.0, \"num\": 1, \"Parameter\": \"trestbps\", \"Value\": 152.0}, {\"age\": 52.0, \"num\": 0, \"Parameter\": \"trestbps\", \"Value\": 108.0}, {\"age\": 56.0, \"num\": 1, \"Parameter\": \"trestbps\", \"Value\": 132.0}, {\"age\": 43.0, \"num\": 0, \"Parameter\": \"trestbps\", \"Value\": 130.0}, {\"age\": 53.0, \"num\": 0, \"Parameter\": \"trestbps\", \"Value\": 130.0}, {\"age\": 48.0, \"num\": 3, \"Parameter\": \"trestbps\", \"Value\": 124.0}, {\"age\": 56.0, \"num\": 2, \"Parameter\": \"trestbps\", \"Value\": 134.0}, {\"age\": 42.0, \"num\": 0, \"Parameter\": \"trestbps\", \"Value\": 148.0}, {\"age\": 59.0, \"num\": 0, \"Parameter\": \"trestbps\", \"Value\": 178.0}, {\"age\": 60.0, \"num\": 1, \"Parameter\": \"trestbps\", \"Value\": 158.0}, {\"age\": 63.0, \"num\": 0, \"Parameter\": \"trestbps\", \"Value\": 140.0}, {\"age\": 42.0, \"num\": 0, \"Parameter\": \"trestbps\", \"Value\": 120.0}, {\"age\": 66.0, \"num\": 2, \"Parameter\": \"trestbps\", \"Value\": 160.0}, {\"age\": 54.0, \"num\": 1, \"Parameter\": \"trestbps\", \"Value\": 192.0}, {\"age\": 69.0, \"num\": 2, \"Parameter\": \"trestbps\", \"Value\": 140.0}, {\"age\": 50.0, \"num\": 0, \"Parameter\": \"trestbps\", \"Value\": 129.0}, {\"age\": 51.0, \"num\": 3, \"Parameter\": \"trestbps\", \"Value\": 140.0}, {\"age\": 43.0, \"num\": 1, \"Parameter\": \"trestbps\", \"Value\": 132.0}, {\"age\": 62.0, \"num\": 2, \"Parameter\": \"trestbps\", \"Value\": 138.0}, {\"age\": 68.0, \"num\": 0, \"Parameter\": \"trestbps\", \"Value\": 120.0}, {\"age\": 67.0, \"num\": 3, \"Parameter\": \"trestbps\", \"Value\": 100.0}, {\"age\": 69.0, \"num\": 0, \"Parameter\": \"trestbps\", \"Value\": 160.0}, {\"age\": 45.0, \"num\": 0, \"Parameter\": \"trestbps\", \"Value\": 138.0}, {\"age\": 50.0, \"num\": 0, \"Parameter\": \"trestbps\", \"Value\": 120.0}, {\"age\": 59.0, \"num\": 1, \"Parameter\": \"trestbps\", \"Value\": 160.0}, {\"age\": 50.0, \"num\": 0, \"Parameter\": \"trestbps\", \"Value\": 110.0}, {\"age\": 64.0, \"num\": 0, \"Parameter\": \"trestbps\", \"Value\": 180.0}, {\"age\": 57.0, \"num\": 0, \"Parameter\": \"trestbps\", \"Value\": 150.0}, {\"age\": 64.0, \"num\": 0, \"Parameter\": \"trestbps\", \"Value\": 140.0}, {\"age\": 43.0, \"num\": 0, \"Parameter\": \"trestbps\", \"Value\": 110.0}, {\"age\": 45.0, \"num\": 3, \"Parameter\": \"trestbps\", \"Value\": 142.0}, {\"age\": 58.0, \"num\": 3, \"Parameter\": \"trestbps\", \"Value\": 128.0}, {\"age\": 50.0, \"num\": 3, \"Parameter\": \"trestbps\", \"Value\": 144.0}, {\"age\": 55.0, \"num\": 0, \"Parameter\": \"trestbps\", \"Value\": 130.0}, {\"age\": 62.0, \"num\": 1, \"Parameter\": \"trestbps\", \"Value\": 150.0}, {\"age\": 37.0, \"num\": 0, \"Parameter\": \"trestbps\", \"Value\": 120.0}, {\"age\": 38.0, \"num\": 4, \"Parameter\": \"trestbps\", \"Value\": 120.0}, {\"age\": 41.0, \"num\": 0, \"Parameter\": \"trestbps\", \"Value\": 130.0}, {\"age\": 66.0, \"num\": 3, \"Parameter\": \"trestbps\", \"Value\": 178.0}, {\"age\": 52.0, \"num\": 1, \"Parameter\": \"trestbps\", \"Value\": 112.0}, {\"age\": 56.0, \"num\": 0, \"Parameter\": \"trestbps\", \"Value\": 120.0}, {\"age\": 46.0, \"num\": 0, \"Parameter\": \"trestbps\", \"Value\": 105.0}, {\"age\": 46.0, \"num\": 0, \"Parameter\": \"trestbps\", \"Value\": 138.0}, {\"age\": 64.0, \"num\": 0, \"Parameter\": \"trestbps\", \"Value\": 130.0}, {\"age\": 59.0, \"num\": 0, \"Parameter\": \"trestbps\", \"Value\": 138.0}, {\"age\": 41.0, \"num\": 0, \"Parameter\": \"trestbps\", \"Value\": 112.0}, {\"age\": 54.0, \"num\": 0, \"Parameter\": \"trestbps\", \"Value\": 108.0}, {\"age\": 39.0, \"num\": 0, \"Parameter\": \"trestbps\", \"Value\": 94.0}, {\"age\": 53.0, \"num\": 3, \"Parameter\": \"trestbps\", \"Value\": 123.0}, {\"age\": 63.0, \"num\": 1, \"Parameter\": \"trestbps\", \"Value\": 108.0}, {\"age\": 34.0, \"num\": 0, \"Parameter\": \"trestbps\", \"Value\": 118.0}, {\"age\": 47.0, \"num\": 0, \"Parameter\": \"trestbps\", \"Value\": 112.0}, {\"age\": 67.0, \"num\": 0, \"Parameter\": \"trestbps\", \"Value\": 152.0}, {\"age\": 54.0, \"num\": 3, \"Parameter\": \"trestbps\", \"Value\": 110.0}, {\"age\": 66.0, \"num\": 2, \"Parameter\": \"trestbps\", \"Value\": 112.0}, {\"age\": 52.0, \"num\": 0, \"Parameter\": \"trestbps\", \"Value\": 136.0}, {\"age\": 55.0, \"num\": 2, \"Parameter\": \"trestbps\", \"Value\": 180.0}, {\"age\": 49.0, \"num\": 1, \"Parameter\": \"trestbps\", \"Value\": 118.0}, {\"age\": 74.0, \"num\": 0, \"Parameter\": \"trestbps\", \"Value\": 120.0}, {\"age\": 54.0, \"num\": 0, \"Parameter\": \"trestbps\", \"Value\": 160.0}, {\"age\": 54.0, \"num\": 3, \"Parameter\": \"trestbps\", \"Value\": 122.0}, {\"age\": 56.0, \"num\": 2, \"Parameter\": \"trestbps\", \"Value\": 130.0}, {\"age\": 46.0, \"num\": 1, \"Parameter\": \"trestbps\", \"Value\": 120.0}, {\"age\": 49.0, \"num\": 0, \"Parameter\": \"trestbps\", \"Value\": 134.0}, {\"age\": 42.0, \"num\": 0, \"Parameter\": \"trestbps\", \"Value\": 120.0}, {\"age\": 41.0, \"num\": 0, \"Parameter\": \"trestbps\", \"Value\": 110.0}, {\"age\": 41.0, \"num\": 0, \"Parameter\": \"trestbps\", \"Value\": 126.0}, {\"age\": 49.0, \"num\": 0, \"Parameter\": \"trestbps\", \"Value\": 130.0}, {\"age\": 61.0, \"num\": 2, \"Parameter\": \"trestbps\", \"Value\": 134.0}, {\"age\": 60.0, \"num\": 0, \"Parameter\": \"trestbps\", \"Value\": 120.0}, {\"age\": 67.0, \"num\": 2, \"Parameter\": \"trestbps\", \"Value\": 120.0}, {\"age\": 58.0, \"num\": 2, \"Parameter\": \"trestbps\", \"Value\": 100.0}, {\"age\": 47.0, \"num\": 1, \"Parameter\": \"trestbps\", \"Value\": 110.0}, {\"age\": 52.0, \"num\": 3, \"Parameter\": \"trestbps\", \"Value\": 125.0}, {\"age\": 62.0, \"num\": 0, \"Parameter\": \"trestbps\", \"Value\": 128.0}, {\"age\": 57.0, \"num\": 0, \"Parameter\": \"trestbps\", \"Value\": 110.0}, {\"age\": 58.0, \"num\": 1, \"Parameter\": \"trestbps\", \"Value\": 146.0}, {\"age\": 64.0, \"num\": 0, \"Parameter\": \"trestbps\", \"Value\": 128.0}, {\"age\": 51.0, \"num\": 0, \"Parameter\": \"trestbps\", \"Value\": 120.0}, {\"age\": 43.0, \"num\": 0, \"Parameter\": \"trestbps\", \"Value\": 115.0}, {\"age\": 42.0, \"num\": 0, \"Parameter\": \"trestbps\", \"Value\": 120.0}, {\"age\": 67.0, \"num\": 0, \"Parameter\": \"trestbps\", \"Value\": 106.0}, {\"age\": 76.0, \"num\": 0, \"Parameter\": \"trestbps\", \"Value\": 140.0}, {\"age\": 70.0, \"num\": 0, \"Parameter\": \"trestbps\", \"Value\": 156.0}, {\"age\": 57.0, \"num\": 1, \"Parameter\": \"trestbps\", \"Value\": 124.0}, {\"age\": 44.0, \"num\": 0, \"Parameter\": \"trestbps\", \"Value\": 118.0}, {\"age\": 58.0, \"num\": 3, \"Parameter\": \"trestbps\", \"Value\": 136.0}, {\"age\": 60.0, \"num\": 0, \"Parameter\": \"trestbps\", \"Value\": 150.0}, {\"age\": 44.0, \"num\": 0, \"Parameter\": \"trestbps\", \"Value\": 120.0}, {\"age\": 61.0, \"num\": 4, \"Parameter\": \"trestbps\", \"Value\": 138.0}, {\"age\": 42.0, \"num\": 2, \"Parameter\": \"trestbps\", \"Value\": 136.0}, {\"age\": 52.0, \"num\": 2, \"Parameter\": \"trestbps\", \"Value\": 128.0}, {\"age\": 59.0, \"num\": 2, \"Parameter\": \"trestbps\", \"Value\": 126.0}, {\"age\": 40.0, \"num\": 1, \"Parameter\": \"trestbps\", \"Value\": 152.0}, {\"age\": 42.0, \"num\": 0, \"Parameter\": \"trestbps\", \"Value\": 130.0}, {\"age\": 61.0, \"num\": 1, \"Parameter\": \"trestbps\", \"Value\": 140.0}, {\"age\": 66.0, \"num\": 0, \"Parameter\": \"trestbps\", \"Value\": 160.0}, {\"age\": 46.0, \"num\": 2, \"Parameter\": \"trestbps\", \"Value\": 140.0}, {\"age\": 71.0, \"num\": 0, \"Parameter\": \"trestbps\", \"Value\": 112.0}, {\"age\": 59.0, \"num\": 1, \"Parameter\": \"trestbps\", \"Value\": 134.0}, {\"age\": 64.0, \"num\": 0, \"Parameter\": \"trestbps\", \"Value\": 170.0}, {\"age\": 66.0, \"num\": 0, \"Parameter\": \"trestbps\", \"Value\": 146.0}, {\"age\": 39.0, \"num\": 0, \"Parameter\": \"trestbps\", \"Value\": 138.0}, {\"age\": 57.0, \"num\": 1, \"Parameter\": \"trestbps\", \"Value\": 154.0}, {\"age\": 58.0, \"num\": 0, \"Parameter\": \"trestbps\", \"Value\": 130.0}, {\"age\": 57.0, \"num\": 2, \"Parameter\": \"trestbps\", \"Value\": 110.0}, {\"age\": 47.0, \"num\": 0, \"Parameter\": \"trestbps\", \"Value\": 130.0}, {\"age\": 55.0, \"num\": 3, \"Parameter\": \"trestbps\", \"Value\": 128.0}, {\"age\": 35.0, \"num\": 0, \"Parameter\": \"trestbps\", \"Value\": 122.0}, {\"age\": 61.0, \"num\": 2, \"Parameter\": \"trestbps\", \"Value\": 148.0}, {\"age\": 58.0, \"num\": 4, \"Parameter\": \"trestbps\", \"Value\": 114.0}, {\"age\": 58.0, \"num\": 2, \"Parameter\": \"trestbps\", \"Value\": 170.0}, {\"age\": 58.0, \"num\": 0, \"Parameter\": \"trestbps\", \"Value\": 125.0}, {\"age\": 56.0, \"num\": 0, \"Parameter\": \"trestbps\", \"Value\": 130.0}, {\"age\": 56.0, \"num\": 0, \"Parameter\": \"trestbps\", \"Value\": 120.0}, {\"age\": 67.0, \"num\": 1, \"Parameter\": \"trestbps\", \"Value\": 152.0}, {\"age\": 55.0, \"num\": 0, \"Parameter\": \"trestbps\", \"Value\": 132.0}, {\"age\": 44.0, \"num\": 2, \"Parameter\": \"trestbps\", \"Value\": 120.0}, {\"age\": 63.0, \"num\": 2, \"Parameter\": \"trestbps\", \"Value\": 140.0}, {\"age\": 63.0, \"num\": 1, \"Parameter\": \"trestbps\", \"Value\": 124.0}, {\"age\": 41.0, \"num\": 0, \"Parameter\": \"trestbps\", \"Value\": 120.0}, {\"age\": 59.0, \"num\": 3, \"Parameter\": \"trestbps\", \"Value\": 164.0}, {\"age\": 57.0, \"num\": 1, \"Parameter\": \"trestbps\", \"Value\": 140.0}, {\"age\": 45.0, \"num\": 1, \"Parameter\": \"trestbps\", \"Value\": 110.0}, {\"age\": 68.0, \"num\": 2, \"Parameter\": \"trestbps\", \"Value\": 144.0}, {\"age\": 57.0, \"num\": 3, \"Parameter\": \"trestbps\", \"Value\": 130.0}, {\"age\": 57.0, \"num\": 1, \"Parameter\": \"trestbps\", \"Value\": 130.0}, {\"age\": 38.0, \"num\": 0, \"Parameter\": \"trestbps\", \"Value\": 138.0}, {\"age\": 63.0, \"num\": 0, \"Parameter\": \"chol\", \"Value\": 233.0}, {\"age\": 67.0, \"num\": 2, \"Parameter\": \"chol\", \"Value\": 286.0}, {\"age\": 67.0, \"num\": 1, \"Parameter\": \"chol\", \"Value\": 229.0}, {\"age\": 37.0, \"num\": 0, \"Parameter\": \"chol\", \"Value\": 250.0}, {\"age\": 41.0, \"num\": 0, \"Parameter\": \"chol\", \"Value\": 204.0}, {\"age\": 56.0, \"num\": 0, \"Parameter\": \"chol\", \"Value\": 236.0}, {\"age\": 62.0, \"num\": 3, \"Parameter\": \"chol\", \"Value\": 268.0}, {\"age\": 57.0, \"num\": 0, \"Parameter\": \"chol\", \"Value\": 354.0}, {\"age\": 63.0, \"num\": 2, \"Parameter\": \"chol\", \"Value\": 254.0}, {\"age\": 53.0, \"num\": 1, \"Parameter\": \"chol\", \"Value\": 203.0}, {\"age\": 57.0, \"num\": 0, \"Parameter\": \"chol\", \"Value\": 192.0}, {\"age\": 56.0, \"num\": 0, \"Parameter\": \"chol\", \"Value\": 294.0}, {\"age\": 56.0, \"num\": 2, \"Parameter\": \"chol\", \"Value\": 256.0}, {\"age\": 44.0, \"num\": 0, \"Parameter\": \"chol\", \"Value\": 263.0}, {\"age\": 52.0, \"num\": 0, \"Parameter\": \"chol\", \"Value\": 199.0}, {\"age\": 57.0, \"num\": 0, \"Parameter\": \"chol\", \"Value\": 168.0}, {\"age\": 48.0, \"num\": 1, \"Parameter\": \"chol\", \"Value\": 229.0}, {\"age\": 54.0, \"num\": 0, \"Parameter\": \"chol\", \"Value\": 239.0}, {\"age\": 48.0, \"num\": 0, \"Parameter\": \"chol\", \"Value\": 275.0}, {\"age\": 49.0, \"num\": 0, \"Parameter\": \"chol\", \"Value\": 266.0}, {\"age\": 64.0, \"num\": 0, \"Parameter\": \"chol\", \"Value\": 211.0}, {\"age\": 58.0, \"num\": 0, \"Parameter\": \"chol\", \"Value\": 283.0}, {\"age\": 58.0, \"num\": 1, \"Parameter\": \"chol\", \"Value\": 284.0}, {\"age\": 58.0, \"num\": 3, \"Parameter\": \"chol\", \"Value\": 224.0}, {\"age\": 60.0, \"num\": 4, \"Parameter\": \"chol\", \"Value\": 206.0}, {\"age\": 50.0, \"num\": 0, \"Parameter\": \"chol\", \"Value\": 219.0}, {\"age\": 58.0, \"num\": 0, \"Parameter\": \"chol\", \"Value\": 340.0}, {\"age\": 66.0, \"num\": 0, \"Parameter\": \"chol\", \"Value\": 226.0}, {\"age\": 43.0, \"num\": 0, \"Parameter\": \"chol\", \"Value\": 247.0}, {\"age\": 40.0, \"num\": 3, \"Parameter\": \"chol\", \"Value\": 167.0}, {\"age\": 69.0, \"num\": 0, \"Parameter\": \"chol\", \"Value\": 239.0}, {\"age\": 60.0, \"num\": 2, \"Parameter\": \"chol\", \"Value\": 230.0}, {\"age\": 64.0, \"num\": 1, \"Parameter\": \"chol\", \"Value\": 335.0}, {\"age\": 59.0, \"num\": 0, \"Parameter\": \"chol\", \"Value\": 234.0}, {\"age\": 44.0, \"num\": 0, \"Parameter\": \"chol\", \"Value\": 233.0}, {\"age\": 42.0, \"num\": 0, \"Parameter\": \"chol\", \"Value\": 226.0}, {\"age\": 43.0, \"num\": 3, \"Parameter\": \"chol\", \"Value\": 177.0}, {\"age\": 57.0, \"num\": 1, \"Parameter\": \"chol\", \"Value\": 276.0}, {\"age\": 55.0, \"num\": 3, \"Parameter\": \"chol\", \"Value\": 353.0}, {\"age\": 61.0, \"num\": 0, \"Parameter\": \"chol\", \"Value\": 243.0}, {\"age\": 65.0, \"num\": 4, \"Parameter\": \"chol\", \"Value\": 225.0}, {\"age\": 40.0, \"num\": 0, \"Parameter\": \"chol\", \"Value\": 199.0}, {\"age\": 71.0, \"num\": 0, \"Parameter\": \"chol\", \"Value\": 302.0}, {\"age\": 59.0, \"num\": 0, \"Parameter\": \"chol\", \"Value\": 212.0}, {\"age\": 61.0, \"num\": 1, \"Parameter\": \"chol\", \"Value\": 330.0}, {\"age\": 58.0, \"num\": 4, \"Parameter\": \"chol\", \"Value\": 230.0}, {\"age\": 51.0, \"num\": 0, \"Parameter\": \"chol\", \"Value\": 175.0}, {\"age\": 50.0, \"num\": 4, \"Parameter\": \"chol\", \"Value\": 243.0}, {\"age\": 65.0, \"num\": 0, \"Parameter\": \"chol\", \"Value\": 417.0}, {\"age\": 53.0, \"num\": 0, \"Parameter\": \"chol\", \"Value\": 197.0}, {\"age\": 41.0, \"num\": 0, \"Parameter\": \"chol\", \"Value\": 198.0}, {\"age\": 65.0, \"num\": 0, \"Parameter\": \"chol\", \"Value\": 177.0}, {\"age\": 44.0, \"num\": 2, \"Parameter\": \"chol\", \"Value\": 290.0}, {\"age\": 44.0, \"num\": 0, \"Parameter\": \"chol\", \"Value\": 219.0}, {\"age\": 60.0, \"num\": 1, \"Parameter\": \"chol\", \"Value\": 253.0}, {\"age\": 54.0, \"num\": 1, \"Parameter\": \"chol\", \"Value\": 266.0}, {\"age\": 50.0, \"num\": 1, \"Parameter\": \"chol\", \"Value\": 233.0}, {\"age\": 41.0, \"num\": 1, \"Parameter\": \"chol\", \"Value\": 172.0}, {\"age\": 54.0, \"num\": 0, \"Parameter\": \"chol\", \"Value\": 273.0}, {\"age\": 51.0, \"num\": 0, \"Parameter\": \"chol\", \"Value\": 213.0}, {\"age\": 51.0, \"num\": 2, \"Parameter\": \"chol\", \"Value\": 305.0}, {\"age\": 46.0, \"num\": 0, \"Parameter\": \"chol\", \"Value\": 177.0}, {\"age\": 58.0, \"num\": 1, \"Parameter\": \"chol\", \"Value\": 216.0}, {\"age\": 54.0, \"num\": 0, \"Parameter\": \"chol\", \"Value\": 304.0}, {\"age\": 54.0, \"num\": 2, \"Parameter\": \"chol\", \"Value\": 188.0}, {\"age\": 60.0, \"num\": 2, \"Parameter\": \"chol\", \"Value\": 282.0}, {\"age\": 60.0, \"num\": 1, \"Parameter\": \"chol\", \"Value\": 185.0}, {\"age\": 54.0, \"num\": 0, \"Parameter\": \"chol\", \"Value\": 232.0}, {\"age\": 59.0, \"num\": 2, \"Parameter\": \"chol\", \"Value\": 326.0}, {\"age\": 46.0, \"num\": 1, \"Parameter\": \"chol\", \"Value\": 231.0}, {\"age\": 65.0, \"num\": 0, \"Parameter\": \"chol\", \"Value\": 269.0}, {\"age\": 67.0, \"num\": 3, \"Parameter\": \"chol\", \"Value\": 254.0}, {\"age\": 62.0, \"num\": 1, \"Parameter\": \"chol\", \"Value\": 267.0}, {\"age\": 65.0, \"num\": 1, \"Parameter\": \"chol\", \"Value\": 248.0}, {\"age\": 44.0, \"num\": 1, \"Parameter\": \"chol\", \"Value\": 197.0}, {\"age\": 65.0, \"num\": 0, \"Parameter\": \"chol\", \"Value\": 360.0}, {\"age\": 60.0, \"num\": 1, \"Parameter\": \"chol\", \"Value\": 258.0}, {\"age\": 51.0, \"num\": 0, \"Parameter\": \"chol\", \"Value\": 308.0}, {\"age\": 48.0, \"num\": 0, \"Parameter\": \"chol\", \"Value\": 245.0}, {\"age\": 58.0, \"num\": 3, \"Parameter\": \"chol\", \"Value\": 270.0}, {\"age\": 45.0, \"num\": 0, \"Parameter\": \"chol\", \"Value\": 208.0}, {\"age\": 53.0, \"num\": 0, \"Parameter\": \"chol\", \"Value\": 264.0}, {\"age\": 39.0, \"num\": 0, \"Parameter\": \"chol\", \"Value\": 321.0}, {\"age\": 68.0, \"num\": 3, \"Parameter\": \"chol\", \"Value\": 274.0}, {\"age\": 52.0, \"num\": 0, \"Parameter\": \"chol\", \"Value\": 325.0}, {\"age\": 44.0, \"num\": 0, \"Parameter\": \"chol\", \"Value\": 235.0}, {\"age\": 47.0, \"num\": 0, \"Parameter\": \"chol\", \"Value\": 257.0}, {\"age\": 53.0, \"num\": 0, \"Parameter\": \"chol\", \"Value\": 216.0}, {\"age\": 53.0, \"num\": 0, \"Parameter\": \"chol\", \"Value\": 234.0}, {\"age\": 51.0, \"num\": 0, \"Parameter\": \"chol\", \"Value\": 256.0}, {\"age\": 66.0, \"num\": 0, \"Parameter\": \"chol\", \"Value\": 302.0}, {\"age\": 62.0, \"num\": 3, \"Parameter\": \"chol\", \"Value\": 164.0}, {\"age\": 62.0, \"num\": 0, \"Parameter\": \"chol\", \"Value\": 231.0}, {\"age\": 44.0, \"num\": 0, \"Parameter\": \"chol\", \"Value\": 141.0}, {\"age\": 63.0, \"num\": 0, \"Parameter\": \"chol\", \"Value\": 252.0}, {\"age\": 52.0, \"num\": 1, \"Parameter\": \"chol\", \"Value\": 255.0}, {\"age\": 59.0, \"num\": 2, \"Parameter\": \"chol\", \"Value\": 239.0}, {\"age\": 60.0, \"num\": 3, \"Parameter\": \"chol\", \"Value\": 258.0}, {\"age\": 52.0, \"num\": 0, \"Parameter\": \"chol\", \"Value\": 201.0}, {\"age\": 48.0, \"num\": 0, \"Parameter\": \"chol\", \"Value\": 222.0}, {\"age\": 45.0, \"num\": 0, \"Parameter\": \"chol\", \"Value\": 260.0}, {\"age\": 34.0, \"num\": 0, \"Parameter\": \"chol\", \"Value\": 182.0}, {\"age\": 57.0, \"num\": 0, \"Parameter\": \"chol\", \"Value\": 303.0}, {\"age\": 71.0, \"num\": 0, \"Parameter\": \"chol\", \"Value\": 265.0}, {\"age\": 49.0, \"num\": 3, \"Parameter\": \"chol\", \"Value\": 188.0}, {\"age\": 54.0, \"num\": 0, \"Parameter\": \"chol\", \"Value\": 309.0}, {\"age\": 59.0, \"num\": 2, \"Parameter\": \"chol\", \"Value\": 177.0}, {\"age\": 57.0, \"num\": 1, \"Parameter\": \"chol\", \"Value\": 229.0}, {\"age\": 61.0, \"num\": 2, \"Parameter\": \"chol\", \"Value\": 260.0}, {\"age\": 39.0, \"num\": 3, \"Parameter\": \"chol\", \"Value\": 219.0}, {\"age\": 61.0, \"num\": 1, \"Parameter\": \"chol\", \"Value\": 307.0}, {\"age\": 56.0, \"num\": 1, \"Parameter\": \"chol\", \"Value\": 249.0}, {\"age\": 52.0, \"num\": 0, \"Parameter\": \"chol\", \"Value\": 186.0}, {\"age\": 43.0, \"num\": 2, \"Parameter\": \"chol\", \"Value\": 341.0}, {\"age\": 62.0, \"num\": 2, \"Parameter\": \"chol\", \"Value\": 263.0}, {\"age\": 41.0, \"num\": 0, \"Parameter\": \"chol\", \"Value\": 203.0}, {\"age\": 58.0, \"num\": 0, \"Parameter\": \"chol\", \"Value\": 211.0}, {\"age\": 35.0, \"num\": 0, \"Parameter\": \"chol\", \"Value\": 183.0}, {\"age\": 63.0, \"num\": 3, \"Parameter\": \"chol\", \"Value\": 330.0}, {\"age\": 65.0, \"num\": 2, \"Parameter\": \"chol\", \"Value\": 254.0}, {\"age\": 48.0, \"num\": 3, \"Parameter\": \"chol\", \"Value\": 256.0}, {\"age\": 63.0, \"num\": 4, \"Parameter\": \"chol\", \"Value\": 407.0}, {\"age\": 51.0, \"num\": 0, \"Parameter\": \"chol\", \"Value\": 222.0}, {\"age\": 55.0, \"num\": 3, \"Parameter\": \"chol\", \"Value\": 217.0}, {\"age\": 65.0, \"num\": 1, \"Parameter\": \"chol\", \"Value\": 282.0}, {\"age\": 45.0, \"num\": 0, \"Parameter\": \"chol\", \"Value\": 234.0}, {\"age\": 56.0, \"num\": 3, \"Parameter\": \"chol\", \"Value\": 288.0}, {\"age\": 54.0, \"num\": 3, \"Parameter\": \"chol\", \"Value\": 239.0}, {\"age\": 44.0, \"num\": 0, \"Parameter\": \"chol\", \"Value\": 220.0}, {\"age\": 62.0, \"num\": 0, \"Parameter\": \"chol\", \"Value\": 209.0}, {\"age\": 54.0, \"num\": 0, \"Parameter\": \"chol\", \"Value\": 258.0}, {\"age\": 51.0, \"num\": 0, \"Parameter\": \"chol\", \"Value\": 227.0}, {\"age\": 29.0, \"num\": 0, \"Parameter\": \"chol\", \"Value\": 204.0}, {\"age\": 51.0, \"num\": 0, \"Parameter\": \"chol\", \"Value\": 261.0}, {\"age\": 43.0, \"num\": 0, \"Parameter\": \"chol\", \"Value\": 213.0}, {\"age\": 55.0, \"num\": 0, \"Parameter\": \"chol\", \"Value\": 250.0}, {\"age\": 70.0, \"num\": 4, \"Parameter\": \"chol\", \"Value\": 174.0}, {\"age\": 62.0, \"num\": 3, \"Parameter\": \"chol\", \"Value\": 281.0}, {\"age\": 35.0, \"num\": 1, \"Parameter\": \"chol\", \"Value\": 198.0}, {\"age\": 51.0, \"num\": 0, \"Parameter\": \"chol\", \"Value\": 245.0}, {\"age\": 59.0, \"num\": 0, \"Parameter\": \"chol\", \"Value\": 221.0}, {\"age\": 59.0, \"num\": 1, \"Parameter\": \"chol\", \"Value\": 288.0}, {\"age\": 52.0, \"num\": 0, \"Parameter\": \"chol\", \"Value\": 205.0}, {\"age\": 64.0, \"num\": 1, \"Parameter\": \"chol\", \"Value\": 309.0}, {\"age\": 58.0, \"num\": 0, \"Parameter\": \"chol\", \"Value\": 240.0}, {\"age\": 47.0, \"num\": 1, \"Parameter\": \"chol\", \"Value\": 243.0}, {\"age\": 57.0, \"num\": 4, \"Parameter\": \"chol\", \"Value\": 289.0}, {\"age\": 41.0, \"num\": 0, \"Parameter\": \"chol\", \"Value\": 250.0}, {\"age\": 45.0, \"num\": 0, \"Parameter\": \"chol\", \"Value\": 308.0}, {\"age\": 60.0, \"num\": 0, \"Parameter\": \"chol\", \"Value\": 318.0}, {\"age\": 52.0, \"num\": 0, \"Parameter\": \"chol\", \"Value\": 298.0}, {\"age\": 42.0, \"num\": 0, \"Parameter\": \"chol\", \"Value\": 265.0}, {\"age\": 67.0, \"num\": 0, \"Parameter\": \"chol\", \"Value\": 564.0}, {\"age\": 55.0, \"num\": 4, \"Parameter\": \"chol\", \"Value\": 289.0}, {\"age\": 64.0, \"num\": 3, \"Parameter\": \"chol\", \"Value\": 246.0}, {\"age\": 70.0, \"num\": 1, \"Parameter\": \"chol\", \"Value\": 322.0}, {\"age\": 51.0, \"num\": 1, \"Parameter\": \"chol\", \"Value\": 299.0}, {\"age\": 58.0, \"num\": 1, \"Parameter\": \"chol\", \"Value\": 300.0}, {\"age\": 60.0, \"num\": 2, \"Parameter\": \"chol\", \"Value\": 293.0}, {\"age\": 68.0, \"num\": 0, \"Parameter\": \"chol\", \"Value\": 277.0}, {\"age\": 46.0, \"num\": 0, \"Parameter\": \"chol\", \"Value\": 197.0}, {\"age\": 77.0, \"num\": 4, \"Parameter\": \"chol\", \"Value\": 304.0}, {\"age\": 54.0, \"num\": 0, \"Parameter\": \"chol\", \"Value\": 214.0}, {\"age\": 58.0, \"num\": 0, \"Parameter\": \"chol\", \"Value\": 248.0}, {\"age\": 48.0, \"num\": 0, \"Parameter\": \"chol\", \"Value\": 255.0}, {\"age\": 57.0, \"num\": 0, \"Parameter\": \"chol\", \"Value\": 207.0}, {\"age\": 52.0, \"num\": 0, \"Parameter\": \"chol\", \"Value\": 223.0}, {\"age\": 54.0, \"num\": 0, \"Parameter\": \"chol\", \"Value\": 288.0}, {\"age\": 35.0, \"num\": 1, \"Parameter\": \"chol\", \"Value\": 282.0}, {\"age\": 45.0, \"num\": 0, \"Parameter\": \"chol\", \"Value\": 160.0}, {\"age\": 70.0, \"num\": 3, \"Parameter\": \"chol\", \"Value\": 269.0}, {\"age\": 53.0, \"num\": 0, \"Parameter\": \"chol\", \"Value\": 226.0}, {\"age\": 59.0, \"num\": 1, \"Parameter\": \"chol\", \"Value\": 249.0}, {\"age\": 62.0, \"num\": 0, \"Parameter\": \"chol\", \"Value\": 394.0}, {\"age\": 64.0, \"num\": 4, \"Parameter\": \"chol\", \"Value\": 212.0}, {\"age\": 57.0, \"num\": 1, \"Parameter\": \"chol\", \"Value\": 274.0}, {\"age\": 52.0, \"num\": 0, \"Parameter\": \"chol\", \"Value\": 233.0}, {\"age\": 56.0, \"num\": 1, \"Parameter\": \"chol\", \"Value\": 184.0}, {\"age\": 43.0, \"num\": 0, \"Parameter\": \"chol\", \"Value\": 315.0}, {\"age\": 53.0, \"num\": 0, \"Parameter\": \"chol\", \"Value\": 246.0}, {\"age\": 48.0, \"num\": 3, \"Parameter\": \"chol\", \"Value\": 274.0}, {\"age\": 56.0, \"num\": 2, \"Parameter\": \"chol\", \"Value\": 409.0}, {\"age\": 42.0, \"num\": 0, \"Parameter\": \"chol\", \"Value\": 244.0}, {\"age\": 59.0, \"num\": 0, \"Parameter\": \"chol\", \"Value\": 270.0}, {\"age\": 60.0, \"num\": 1, \"Parameter\": \"chol\", \"Value\": 305.0}, {\"age\": 63.0, \"num\": 0, \"Parameter\": \"chol\", \"Value\": 195.0}, {\"age\": 42.0, \"num\": 0, \"Parameter\": \"chol\", \"Value\": 240.0}, {\"age\": 66.0, \"num\": 2, \"Parameter\": \"chol\", \"Value\": 246.0}, {\"age\": 54.0, \"num\": 1, \"Parameter\": \"chol\", \"Value\": 283.0}, {\"age\": 69.0, \"num\": 2, \"Parameter\": \"chol\", \"Value\": 254.0}, {\"age\": 50.0, \"num\": 0, \"Parameter\": \"chol\", \"Value\": 196.0}, {\"age\": 51.0, \"num\": 3, \"Parameter\": \"chol\", \"Value\": 298.0}, {\"age\": 43.0, \"num\": 1, \"Parameter\": \"chol\", \"Value\": 247.0}, {\"age\": 62.0, \"num\": 2, \"Parameter\": \"chol\", \"Value\": 294.0}, {\"age\": 68.0, \"num\": 0, \"Parameter\": \"chol\", \"Value\": 211.0}, {\"age\": 67.0, \"num\": 3, \"Parameter\": \"chol\", \"Value\": 299.0}, {\"age\": 69.0, \"num\": 0, \"Parameter\": \"chol\", \"Value\": 234.0}, {\"age\": 45.0, \"num\": 0, \"Parameter\": \"chol\", \"Value\": 236.0}, {\"age\": 50.0, \"num\": 0, \"Parameter\": \"chol\", \"Value\": 244.0}, {\"age\": 59.0, \"num\": 1, \"Parameter\": \"chol\", \"Value\": 273.0}, {\"age\": 50.0, \"num\": 0, \"Parameter\": \"chol\", \"Value\": 254.0}, {\"age\": 64.0, \"num\": 0, \"Parameter\": \"chol\", \"Value\": 325.0}, {\"age\": 57.0, \"num\": 0, \"Parameter\": \"chol\", \"Value\": 126.0}, {\"age\": 64.0, \"num\": 0, \"Parameter\": \"chol\", \"Value\": 313.0}, {\"age\": 43.0, \"num\": 0, \"Parameter\": \"chol\", \"Value\": 211.0}, {\"age\": 45.0, \"num\": 3, \"Parameter\": \"chol\", \"Value\": 309.0}, {\"age\": 58.0, \"num\": 3, \"Parameter\": \"chol\", \"Value\": 259.0}, {\"age\": 50.0, \"num\": 3, \"Parameter\": \"chol\", \"Value\": 200.0}, {\"age\": 55.0, \"num\": 0, \"Parameter\": \"chol\", \"Value\": 262.0}, {\"age\": 62.0, \"num\": 1, \"Parameter\": \"chol\", \"Value\": 244.0}, {\"age\": 37.0, \"num\": 0, \"Parameter\": \"chol\", \"Value\": 215.0}, {\"age\": 38.0, \"num\": 4, \"Parameter\": \"chol\", \"Value\": 231.0}, {\"age\": 41.0, \"num\": 0, \"Parameter\": \"chol\", \"Value\": 214.0}, {\"age\": 66.0, \"num\": 3, \"Parameter\": \"chol\", \"Value\": 228.0}, {\"age\": 52.0, \"num\": 1, \"Parameter\": \"chol\", \"Value\": 230.0}, {\"age\": 56.0, \"num\": 0, \"Parameter\": \"chol\", \"Value\": 193.0}, {\"age\": 46.0, \"num\": 0, \"Parameter\": \"chol\", \"Value\": 204.0}, {\"age\": 46.0, \"num\": 0, \"Parameter\": \"chol\", \"Value\": 243.0}, {\"age\": 64.0, \"num\": 0, \"Parameter\": \"chol\", \"Value\": 303.0}, {\"age\": 59.0, \"num\": 0, \"Parameter\": \"chol\", \"Value\": 271.0}, {\"age\": 41.0, \"num\": 0, \"Parameter\": \"chol\", \"Value\": 268.0}, {\"age\": 54.0, \"num\": 0, \"Parameter\": \"chol\", \"Value\": 267.0}, {\"age\": 39.0, \"num\": 0, \"Parameter\": \"chol\", \"Value\": 199.0}, {\"age\": 53.0, \"num\": 3, \"Parameter\": \"chol\", \"Value\": 282.0}, {\"age\": 63.0, \"num\": 1, \"Parameter\": \"chol\", \"Value\": 269.0}, {\"age\": 34.0, \"num\": 0, \"Parameter\": \"chol\", \"Value\": 210.0}, {\"age\": 47.0, \"num\": 0, \"Parameter\": \"chol\", \"Value\": 204.0}, {\"age\": 67.0, \"num\": 0, \"Parameter\": \"chol\", \"Value\": 277.0}, {\"age\": 54.0, \"num\": 3, \"Parameter\": \"chol\", \"Value\": 206.0}, {\"age\": 66.0, \"num\": 2, \"Parameter\": \"chol\", \"Value\": 212.0}, {\"age\": 52.0, \"num\": 0, \"Parameter\": \"chol\", \"Value\": 196.0}, {\"age\": 55.0, \"num\": 2, \"Parameter\": \"chol\", \"Value\": 327.0}, {\"age\": 49.0, \"num\": 1, \"Parameter\": \"chol\", \"Value\": 149.0}, {\"age\": 74.0, \"num\": 0, \"Parameter\": \"chol\", \"Value\": 269.0}, {\"age\": 54.0, \"num\": 0, \"Parameter\": \"chol\", \"Value\": 201.0}, {\"age\": 54.0, \"num\": 3, \"Parameter\": \"chol\", \"Value\": 286.0}, {\"age\": 56.0, \"num\": 2, \"Parameter\": \"chol\", \"Value\": 283.0}, {\"age\": 46.0, \"num\": 1, \"Parameter\": \"chol\", \"Value\": 249.0}, {\"age\": 49.0, \"num\": 0, \"Parameter\": \"chol\", \"Value\": 271.0}, {\"age\": 42.0, \"num\": 0, \"Parameter\": \"chol\", \"Value\": 295.0}, {\"age\": 41.0, \"num\": 0, \"Parameter\": \"chol\", \"Value\": 235.0}, {\"age\": 41.0, \"num\": 0, \"Parameter\": \"chol\", \"Value\": 306.0}, {\"age\": 49.0, \"num\": 0, \"Parameter\": \"chol\", \"Value\": 269.0}, {\"age\": 61.0, \"num\": 2, \"Parameter\": \"chol\", \"Value\": 234.0}, {\"age\": 60.0, \"num\": 0, \"Parameter\": \"chol\", \"Value\": 178.0}, {\"age\": 67.0, \"num\": 2, \"Parameter\": \"chol\", \"Value\": 237.0}, {\"age\": 58.0, \"num\": 2, \"Parameter\": \"chol\", \"Value\": 234.0}, {\"age\": 47.0, \"num\": 1, \"Parameter\": \"chol\", \"Value\": 275.0}, {\"age\": 52.0, \"num\": 3, \"Parameter\": \"chol\", \"Value\": 212.0}, {\"age\": 62.0, \"num\": 0, \"Parameter\": \"chol\", \"Value\": 208.0}, {\"age\": 57.0, \"num\": 0, \"Parameter\": \"chol\", \"Value\": 201.0}, {\"age\": 58.0, \"num\": 1, \"Parameter\": \"chol\", \"Value\": 218.0}, {\"age\": 64.0, \"num\": 0, \"Parameter\": \"chol\", \"Value\": 263.0}, {\"age\": 51.0, \"num\": 0, \"Parameter\": \"chol\", \"Value\": 295.0}, {\"age\": 43.0, \"num\": 0, \"Parameter\": \"chol\", \"Value\": 303.0}, {\"age\": 42.0, \"num\": 0, \"Parameter\": \"chol\", \"Value\": 209.0}, {\"age\": 67.0, \"num\": 0, \"Parameter\": \"chol\", \"Value\": 223.0}, {\"age\": 76.0, \"num\": 0, \"Parameter\": \"chol\", \"Value\": 197.0}, {\"age\": 70.0, \"num\": 0, \"Parameter\": \"chol\", \"Value\": 245.0}, {\"age\": 57.0, \"num\": 1, \"Parameter\": \"chol\", \"Value\": 261.0}, {\"age\": 44.0, \"num\": 0, \"Parameter\": \"chol\", \"Value\": 242.0}, {\"age\": 58.0, \"num\": 3, \"Parameter\": \"chol\", \"Value\": 319.0}, {\"age\": 60.0, \"num\": 0, \"Parameter\": \"chol\", \"Value\": 240.0}, {\"age\": 44.0, \"num\": 0, \"Parameter\": \"chol\", \"Value\": 226.0}, {\"age\": 61.0, \"num\": 4, \"Parameter\": \"chol\", \"Value\": 166.0}, {\"age\": 42.0, \"num\": 2, \"Parameter\": \"chol\", \"Value\": 315.0}, {\"age\": 52.0, \"num\": 2, \"Parameter\": \"chol\", \"Value\": 204.0}, {\"age\": 59.0, \"num\": 2, \"Parameter\": \"chol\", \"Value\": 218.0}, {\"age\": 40.0, \"num\": 1, \"Parameter\": \"chol\", \"Value\": 223.0}, {\"age\": 42.0, \"num\": 0, \"Parameter\": \"chol\", \"Value\": 180.0}, {\"age\": 61.0, \"num\": 1, \"Parameter\": \"chol\", \"Value\": 207.0}, {\"age\": 66.0, \"num\": 0, \"Parameter\": \"chol\", \"Value\": 228.0}, {\"age\": 46.0, \"num\": 2, \"Parameter\": \"chol\", \"Value\": 311.0}, {\"age\": 71.0, \"num\": 0, \"Parameter\": \"chol\", \"Value\": 149.0}, {\"age\": 59.0, \"num\": 1, \"Parameter\": \"chol\", \"Value\": 204.0}, {\"age\": 64.0, \"num\": 0, \"Parameter\": \"chol\", \"Value\": 227.0}, {\"age\": 66.0, \"num\": 0, \"Parameter\": \"chol\", \"Value\": 278.0}, {\"age\": 39.0, \"num\": 0, \"Parameter\": \"chol\", \"Value\": 220.0}, {\"age\": 57.0, \"num\": 1, \"Parameter\": \"chol\", \"Value\": 232.0}, {\"age\": 58.0, \"num\": 0, \"Parameter\": \"chol\", \"Value\": 197.0}, {\"age\": 57.0, \"num\": 2, \"Parameter\": \"chol\", \"Value\": 335.0}, {\"age\": 47.0, \"num\": 0, \"Parameter\": \"chol\", \"Value\": 253.0}, {\"age\": 55.0, \"num\": 3, \"Parameter\": \"chol\", \"Value\": 205.0}, {\"age\": 35.0, \"num\": 0, \"Parameter\": \"chol\", \"Value\": 192.0}, {\"age\": 61.0, \"num\": 2, \"Parameter\": \"chol\", \"Value\": 203.0}, {\"age\": 58.0, \"num\": 4, \"Parameter\": \"chol\", \"Value\": 318.0}, {\"age\": 58.0, \"num\": 2, \"Parameter\": \"chol\", \"Value\": 225.0}, {\"age\": 58.0, \"num\": 0, \"Parameter\": \"chol\", \"Value\": 220.0}, {\"age\": 56.0, \"num\": 0, \"Parameter\": \"chol\", \"Value\": 221.0}, {\"age\": 56.0, \"num\": 0, \"Parameter\": \"chol\", \"Value\": 240.0}, {\"age\": 67.0, \"num\": 1, \"Parameter\": \"chol\", \"Value\": 212.0}, {\"age\": 55.0, \"num\": 0, \"Parameter\": \"chol\", \"Value\": 342.0}, {\"age\": 44.0, \"num\": 2, \"Parameter\": \"chol\", \"Value\": 169.0}, {\"age\": 63.0, \"num\": 2, \"Parameter\": \"chol\", \"Value\": 187.0}, {\"age\": 63.0, \"num\": 1, \"Parameter\": \"chol\", \"Value\": 197.0}, {\"age\": 41.0, \"num\": 0, \"Parameter\": \"chol\", \"Value\": 157.0}, {\"age\": 59.0, \"num\": 3, \"Parameter\": \"chol\", \"Value\": 176.0}, {\"age\": 57.0, \"num\": 1, \"Parameter\": \"chol\", \"Value\": 241.0}, {\"age\": 45.0, \"num\": 1, \"Parameter\": \"chol\", \"Value\": 264.0}, {\"age\": 68.0, \"num\": 2, \"Parameter\": \"chol\", \"Value\": 193.0}, {\"age\": 57.0, \"num\": 3, \"Parameter\": \"chol\", \"Value\": 131.0}, {\"age\": 57.0, \"num\": 1, \"Parameter\": \"chol\", \"Value\": 236.0}, {\"age\": 38.0, \"num\": 0, \"Parameter\": \"chol\", \"Value\": 175.0}, {\"age\": 63.0, \"num\": 0, \"Parameter\": \"thalach\", \"Value\": 150.0}, {\"age\": 67.0, \"num\": 2, \"Parameter\": \"thalach\", \"Value\": 108.0}, {\"age\": 67.0, \"num\": 1, \"Parameter\": \"thalach\", \"Value\": 129.0}, {\"age\": 37.0, \"num\": 0, \"Parameter\": \"thalach\", \"Value\": 187.0}, {\"age\": 41.0, \"num\": 0, \"Parameter\": \"thalach\", \"Value\": 172.0}, {\"age\": 56.0, \"num\": 0, \"Parameter\": \"thalach\", \"Value\": 178.0}, {\"age\": 62.0, \"num\": 3, \"Parameter\": \"thalach\", \"Value\": 160.0}, {\"age\": 57.0, \"num\": 0, \"Parameter\": \"thalach\", \"Value\": 163.0}, {\"age\": 63.0, \"num\": 2, \"Parameter\": \"thalach\", \"Value\": 147.0}, {\"age\": 53.0, \"num\": 1, \"Parameter\": \"thalach\", \"Value\": 155.0}, {\"age\": 57.0, \"num\": 0, \"Parameter\": \"thalach\", \"Value\": 148.0}, {\"age\": 56.0, \"num\": 0, \"Parameter\": \"thalach\", \"Value\": 153.0}, {\"age\": 56.0, \"num\": 2, \"Parameter\": \"thalach\", \"Value\": 142.0}, {\"age\": 44.0, \"num\": 0, \"Parameter\": \"thalach\", \"Value\": 173.0}, {\"age\": 52.0, \"num\": 0, \"Parameter\": \"thalach\", \"Value\": 162.0}, {\"age\": 57.0, \"num\": 0, \"Parameter\": \"thalach\", \"Value\": 174.0}, {\"age\": 48.0, \"num\": 1, \"Parameter\": \"thalach\", \"Value\": 168.0}, {\"age\": 54.0, \"num\": 0, \"Parameter\": \"thalach\", \"Value\": 160.0}, {\"age\": 48.0, \"num\": 0, \"Parameter\": \"thalach\", \"Value\": 139.0}, {\"age\": 49.0, \"num\": 0, \"Parameter\": \"thalach\", \"Value\": 171.0}, {\"age\": 64.0, \"num\": 0, \"Parameter\": \"thalach\", \"Value\": 144.0}, {\"age\": 58.0, \"num\": 0, \"Parameter\": \"thalach\", \"Value\": 162.0}, {\"age\": 58.0, \"num\": 1, \"Parameter\": \"thalach\", \"Value\": 160.0}, {\"age\": 58.0, \"num\": 3, \"Parameter\": \"thalach\", \"Value\": 173.0}, {\"age\": 60.0, \"num\": 4, \"Parameter\": \"thalach\", \"Value\": 132.0}, {\"age\": 50.0, \"num\": 0, \"Parameter\": \"thalach\", \"Value\": 158.0}, {\"age\": 58.0, \"num\": 0, \"Parameter\": \"thalach\", \"Value\": 172.0}, {\"age\": 66.0, \"num\": 0, \"Parameter\": \"thalach\", \"Value\": 114.0}, {\"age\": 43.0, \"num\": 0, \"Parameter\": \"thalach\", \"Value\": 171.0}, {\"age\": 40.0, \"num\": 3, \"Parameter\": \"thalach\", \"Value\": 114.0}, {\"age\": 69.0, \"num\": 0, \"Parameter\": \"thalach\", \"Value\": 151.0}, {\"age\": 60.0, \"num\": 2, \"Parameter\": \"thalach\", \"Value\": 160.0}, {\"age\": 64.0, \"num\": 1, \"Parameter\": \"thalach\", \"Value\": 158.0}, {\"age\": 59.0, \"num\": 0, \"Parameter\": \"thalach\", \"Value\": 161.0}, {\"age\": 44.0, \"num\": 0, \"Parameter\": \"thalach\", \"Value\": 179.0}, {\"age\": 42.0, \"num\": 0, \"Parameter\": \"thalach\", \"Value\": 178.0}, {\"age\": 43.0, \"num\": 3, \"Parameter\": \"thalach\", \"Value\": 120.0}, {\"age\": 57.0, \"num\": 1, \"Parameter\": \"thalach\", \"Value\": 112.0}, {\"age\": 55.0, \"num\": 3, \"Parameter\": \"thalach\", \"Value\": 132.0}, {\"age\": 61.0, \"num\": 0, \"Parameter\": \"thalach\", \"Value\": 137.0}, {\"age\": 65.0, \"num\": 4, \"Parameter\": \"thalach\", \"Value\": 114.0}, {\"age\": 40.0, \"num\": 0, \"Parameter\": \"thalach\", \"Value\": 178.0}, {\"age\": 71.0, \"num\": 0, \"Parameter\": \"thalach\", \"Value\": 162.0}, {\"age\": 59.0, \"num\": 0, \"Parameter\": \"thalach\", \"Value\": 157.0}, {\"age\": 61.0, \"num\": 1, \"Parameter\": \"thalach\", \"Value\": 169.0}, {\"age\": 58.0, \"num\": 4, \"Parameter\": \"thalach\", \"Value\": 165.0}, {\"age\": 51.0, \"num\": 0, \"Parameter\": \"thalach\", \"Value\": 123.0}, {\"age\": 50.0, \"num\": 4, \"Parameter\": \"thalach\", \"Value\": 128.0}, {\"age\": 65.0, \"num\": 0, \"Parameter\": \"thalach\", \"Value\": 157.0}, {\"age\": 53.0, \"num\": 0, \"Parameter\": \"thalach\", \"Value\": 152.0}, {\"age\": 41.0, \"num\": 0, \"Parameter\": \"thalach\", \"Value\": 168.0}, {\"age\": 65.0, \"num\": 0, \"Parameter\": \"thalach\", \"Value\": 140.0}, {\"age\": 44.0, \"num\": 2, \"Parameter\": \"thalach\", \"Value\": 153.0}, {\"age\": 44.0, \"num\": 0, \"Parameter\": \"thalach\", \"Value\": 188.0}, {\"age\": 60.0, \"num\": 1, \"Parameter\": \"thalach\", \"Value\": 144.0}, {\"age\": 54.0, \"num\": 1, \"Parameter\": \"thalach\", \"Value\": 109.0}, {\"age\": 50.0, \"num\": 1, \"Parameter\": \"thalach\", \"Value\": 163.0}, {\"age\": 41.0, \"num\": 1, \"Parameter\": \"thalach\", \"Value\": 158.0}, {\"age\": 54.0, \"num\": 0, \"Parameter\": \"thalach\", \"Value\": 152.0}, {\"age\": 51.0, \"num\": 0, \"Parameter\": \"thalach\", \"Value\": 125.0}, {\"age\": 51.0, \"num\": 2, \"Parameter\": \"thalach\", \"Value\": 142.0}, {\"age\": 46.0, \"num\": 0, \"Parameter\": \"thalach\", \"Value\": 160.0}, {\"age\": 58.0, \"num\": 1, \"Parameter\": \"thalach\", \"Value\": 131.0}, {\"age\": 54.0, \"num\": 0, \"Parameter\": \"thalach\", \"Value\": 170.0}, {\"age\": 54.0, \"num\": 2, \"Parameter\": \"thalach\", \"Value\": 113.0}, {\"age\": 60.0, \"num\": 2, \"Parameter\": \"thalach\", \"Value\": 142.0}, {\"age\": 60.0, \"num\": 1, \"Parameter\": \"thalach\", \"Value\": 155.0}, {\"age\": 54.0, \"num\": 0, \"Parameter\": \"thalach\", \"Value\": 165.0}, {\"age\": 59.0, \"num\": 2, \"Parameter\": \"thalach\", \"Value\": 140.0}, {\"age\": 46.0, \"num\": 1, \"Parameter\": \"thalach\", \"Value\": 147.0}, {\"age\": 65.0, \"num\": 0, \"Parameter\": \"thalach\", \"Value\": 148.0}, {\"age\": 67.0, \"num\": 3, \"Parameter\": \"thalach\", \"Value\": 163.0}, {\"age\": 62.0, \"num\": 1, \"Parameter\": \"thalach\", \"Value\": 99.0}, {\"age\": 65.0, \"num\": 1, \"Parameter\": \"thalach\", \"Value\": 158.0}, {\"age\": 44.0, \"num\": 1, \"Parameter\": \"thalach\", \"Value\": 177.0}, {\"age\": 65.0, \"num\": 0, \"Parameter\": \"thalach\", \"Value\": 151.0}, {\"age\": 60.0, \"num\": 1, \"Parameter\": \"thalach\", \"Value\": 141.0}, {\"age\": 51.0, \"num\": 0, \"Parameter\": \"thalach\", \"Value\": 142.0}, {\"age\": 48.0, \"num\": 0, \"Parameter\": \"thalach\", \"Value\": 180.0}, {\"age\": 58.0, \"num\": 3, \"Parameter\": \"thalach\", \"Value\": 111.0}, {\"age\": 45.0, \"num\": 0, \"Parameter\": \"thalach\", \"Value\": 148.0}, {\"age\": 53.0, \"num\": 0, \"Parameter\": \"thalach\", \"Value\": 143.0}, {\"age\": 39.0, \"num\": 0, \"Parameter\": \"thalach\", \"Value\": 182.0}, {\"age\": 68.0, \"num\": 3, \"Parameter\": \"thalach\", \"Value\": 150.0}, {\"age\": 52.0, \"num\": 0, \"Parameter\": \"thalach\", \"Value\": 172.0}, {\"age\": 44.0, \"num\": 0, \"Parameter\": \"thalach\", \"Value\": 180.0}, {\"age\": 47.0, \"num\": 0, \"Parameter\": \"thalach\", \"Value\": 156.0}, {\"age\": 53.0, \"num\": 0, \"Parameter\": \"thalach\", \"Value\": 115.0}, {\"age\": 53.0, \"num\": 0, \"Parameter\": \"thalach\", \"Value\": 160.0}, {\"age\": 51.0, \"num\": 0, \"Parameter\": \"thalach\", \"Value\": 149.0}, {\"age\": 66.0, \"num\": 0, \"Parameter\": \"thalach\", \"Value\": 151.0}, {\"age\": 62.0, \"num\": 3, \"Parameter\": \"thalach\", \"Value\": 145.0}, {\"age\": 62.0, \"num\": 0, \"Parameter\": \"thalach\", \"Value\": 146.0}, {\"age\": 44.0, \"num\": 0, \"Parameter\": \"thalach\", \"Value\": 175.0}, {\"age\": 63.0, \"num\": 0, \"Parameter\": \"thalach\", \"Value\": 172.0}, {\"age\": 52.0, \"num\": 1, \"Parameter\": \"thalach\", \"Value\": 161.0}, {\"age\": 59.0, \"num\": 2, \"Parameter\": \"thalach\", \"Value\": 142.0}, {\"age\": 60.0, \"num\": 3, \"Parameter\": \"thalach\", \"Value\": 157.0}, {\"age\": 52.0, \"num\": 0, \"Parameter\": \"thalach\", \"Value\": 158.0}, {\"age\": 48.0, \"num\": 0, \"Parameter\": \"thalach\", \"Value\": 186.0}, {\"age\": 45.0, \"num\": 0, \"Parameter\": \"thalach\", \"Value\": 185.0}, {\"age\": 34.0, \"num\": 0, \"Parameter\": \"thalach\", \"Value\": 174.0}, {\"age\": 57.0, \"num\": 0, \"Parameter\": \"thalach\", \"Value\": 159.0}, {\"age\": 71.0, \"num\": 0, \"Parameter\": \"thalach\", \"Value\": 130.0}, {\"age\": 49.0, \"num\": 3, \"Parameter\": \"thalach\", \"Value\": 139.0}, {\"age\": 54.0, \"num\": 0, \"Parameter\": \"thalach\", \"Value\": 156.0}, {\"age\": 59.0, \"num\": 2, \"Parameter\": \"thalach\", \"Value\": 162.0}, {\"age\": 57.0, \"num\": 1, \"Parameter\": \"thalach\", \"Value\": 150.0}, {\"age\": 61.0, \"num\": 2, \"Parameter\": \"thalach\", \"Value\": 140.0}, {\"age\": 39.0, \"num\": 3, \"Parameter\": \"thalach\", \"Value\": 140.0}, {\"age\": 61.0, \"num\": 1, \"Parameter\": \"thalach\", \"Value\": 146.0}, {\"age\": 56.0, \"num\": 1, \"Parameter\": \"thalach\", \"Value\": 144.0}, {\"age\": 52.0, \"num\": 0, \"Parameter\": \"thalach\", \"Value\": 190.0}, {\"age\": 43.0, \"num\": 2, \"Parameter\": \"thalach\", \"Value\": 136.0}, {\"age\": 62.0, \"num\": 2, \"Parameter\": \"thalach\", \"Value\": 97.0}, {\"age\": 41.0, \"num\": 0, \"Parameter\": \"thalach\", \"Value\": 132.0}, {\"age\": 58.0, \"num\": 0, \"Parameter\": \"thalach\", \"Value\": 165.0}, {\"age\": 35.0, \"num\": 0, \"Parameter\": \"thalach\", \"Value\": 182.0}, {\"age\": 63.0, \"num\": 3, \"Parameter\": \"thalach\", \"Value\": 132.0}, {\"age\": 65.0, \"num\": 2, \"Parameter\": \"thalach\", \"Value\": 127.0}, {\"age\": 48.0, \"num\": 3, \"Parameter\": \"thalach\", \"Value\": 150.0}, {\"age\": 63.0, \"num\": 4, \"Parameter\": \"thalach\", \"Value\": 154.0}, {\"age\": 51.0, \"num\": 0, \"Parameter\": \"thalach\", \"Value\": 143.0}, {\"age\": 55.0, \"num\": 3, \"Parameter\": \"thalach\", \"Value\": 111.0}, {\"age\": 65.0, \"num\": 1, \"Parameter\": \"thalach\", \"Value\": 174.0}, {\"age\": 45.0, \"num\": 0, \"Parameter\": \"thalach\", \"Value\": 175.0}, {\"age\": 56.0, \"num\": 3, \"Parameter\": \"thalach\", \"Value\": 133.0}, {\"age\": 54.0, \"num\": 3, \"Parameter\": \"thalach\", \"Value\": 126.0}, {\"age\": 44.0, \"num\": 0, \"Parameter\": \"thalach\", \"Value\": 170.0}, {\"age\": 62.0, \"num\": 0, \"Parameter\": \"thalach\", \"Value\": 163.0}, {\"age\": 54.0, \"num\": 0, \"Parameter\": \"thalach\", \"Value\": 147.0}, {\"age\": 51.0, \"num\": 0, \"Parameter\": \"thalach\", \"Value\": 154.0}, {\"age\": 29.0, \"num\": 0, \"Parameter\": \"thalach\", \"Value\": 202.0}, {\"age\": 51.0, \"num\": 0, \"Parameter\": \"thalach\", \"Value\": 186.0}, {\"age\": 43.0, \"num\": 0, \"Parameter\": \"thalach\", \"Value\": 165.0}, {\"age\": 55.0, \"num\": 0, \"Parameter\": \"thalach\", \"Value\": 161.0}, {\"age\": 70.0, \"num\": 4, \"Parameter\": \"thalach\", \"Value\": 125.0}, {\"age\": 62.0, \"num\": 3, \"Parameter\": \"thalach\", \"Value\": 103.0}, {\"age\": 35.0, \"num\": 1, \"Parameter\": \"thalach\", \"Value\": 130.0}, {\"age\": 51.0, \"num\": 0, \"Parameter\": \"thalach\", \"Value\": 166.0}, {\"age\": 59.0, \"num\": 0, \"Parameter\": \"thalach\", \"Value\": 164.0}, {\"age\": 59.0, \"num\": 1, \"Parameter\": \"thalach\", \"Value\": 159.0}, {\"age\": 52.0, \"num\": 0, \"Parameter\": \"thalach\", \"Value\": 184.0}, {\"age\": 64.0, \"num\": 1, \"Parameter\": \"thalach\", \"Value\": 131.0}, {\"age\": 58.0, \"num\": 0, \"Parameter\": \"thalach\", \"Value\": 154.0}, {\"age\": 47.0, \"num\": 1, \"Parameter\": \"thalach\", \"Value\": 152.0}, {\"age\": 57.0, \"num\": 4, \"Parameter\": \"thalach\", \"Value\": 124.0}, {\"age\": 41.0, \"num\": 0, \"Parameter\": \"thalach\", \"Value\": 179.0}, {\"age\": 45.0, \"num\": 0, \"Parameter\": \"thalach\", \"Value\": 170.0}, {\"age\": 60.0, \"num\": 0, \"Parameter\": \"thalach\", \"Value\": 160.0}, {\"age\": 52.0, \"num\": 0, \"Parameter\": \"thalach\", \"Value\": 178.0}, {\"age\": 42.0, \"num\": 0, \"Parameter\": \"thalach\", \"Value\": 122.0}, {\"age\": 67.0, \"num\": 0, \"Parameter\": \"thalach\", \"Value\": 160.0}, {\"age\": 55.0, \"num\": 4, \"Parameter\": \"thalach\", \"Value\": 145.0}, {\"age\": 64.0, \"num\": 3, \"Parameter\": \"thalach\", \"Value\": 96.0}, {\"age\": 70.0, \"num\": 1, \"Parameter\": \"thalach\", \"Value\": 109.0}, {\"age\": 51.0, \"num\": 1, \"Parameter\": \"thalach\", \"Value\": 173.0}, {\"age\": 58.0, \"num\": 1, \"Parameter\": \"thalach\", \"Value\": 171.0}, {\"age\": 60.0, \"num\": 2, \"Parameter\": \"thalach\", \"Value\": 170.0}, {\"age\": 68.0, \"num\": 0, \"Parameter\": \"thalach\", \"Value\": 151.0}, {\"age\": 46.0, \"num\": 0, \"Parameter\": \"thalach\", \"Value\": 156.0}, {\"age\": 77.0, \"num\": 4, \"Parameter\": \"thalach\", \"Value\": 162.0}, {\"age\": 54.0, \"num\": 0, \"Parameter\": \"thalach\", \"Value\": 158.0}, {\"age\": 58.0, \"num\": 0, \"Parameter\": \"thalach\", \"Value\": 122.0}, {\"age\": 48.0, \"num\": 0, \"Parameter\": \"thalach\", \"Value\": 175.0}, {\"age\": 57.0, \"num\": 0, \"Parameter\": \"thalach\", \"Value\": 168.0}, {\"age\": 52.0, \"num\": 0, \"Parameter\": \"thalach\", \"Value\": 169.0}, {\"age\": 54.0, \"num\": 0, \"Parameter\": \"thalach\", \"Value\": 159.0}, {\"age\": 35.0, \"num\": 1, \"Parameter\": \"thalach\", \"Value\": 156.0}, {\"age\": 45.0, \"num\": 0, \"Parameter\": \"thalach\", \"Value\": 138.0}, {\"age\": 70.0, \"num\": 3, \"Parameter\": \"thalach\", \"Value\": 112.0}, {\"age\": 53.0, \"num\": 0, \"Parameter\": \"thalach\", \"Value\": 111.0}, {\"age\": 59.0, \"num\": 1, \"Parameter\": \"thalach\", \"Value\": 143.0}, {\"age\": 62.0, \"num\": 0, \"Parameter\": \"thalach\", \"Value\": 157.0}, {\"age\": 64.0, \"num\": 4, \"Parameter\": \"thalach\", \"Value\": 132.0}, {\"age\": 57.0, \"num\": 1, \"Parameter\": \"thalach\", \"Value\": 88.0}, {\"age\": 52.0, \"num\": 0, \"Parameter\": \"thalach\", \"Value\": 147.0}, {\"age\": 56.0, \"num\": 1, \"Parameter\": \"thalach\", \"Value\": 105.0}, {\"age\": 43.0, \"num\": 0, \"Parameter\": \"thalach\", \"Value\": 162.0}, {\"age\": 53.0, \"num\": 0, \"Parameter\": \"thalach\", \"Value\": 173.0}, {\"age\": 48.0, \"num\": 3, \"Parameter\": \"thalach\", \"Value\": 166.0}, {\"age\": 56.0, \"num\": 2, \"Parameter\": \"thalach\", \"Value\": 150.0}, {\"age\": 42.0, \"num\": 0, \"Parameter\": \"thalach\", \"Value\": 178.0}, {\"age\": 59.0, \"num\": 0, \"Parameter\": \"thalach\", \"Value\": 145.0}, {\"age\": 60.0, \"num\": 1, \"Parameter\": \"thalach\", \"Value\": 161.0}, {\"age\": 63.0, \"num\": 0, \"Parameter\": \"thalach\", \"Value\": 179.0}, {\"age\": 42.0, \"num\": 0, \"Parameter\": \"thalach\", \"Value\": 194.0}, {\"age\": 66.0, \"num\": 2, \"Parameter\": \"thalach\", \"Value\": 120.0}, {\"age\": 54.0, \"num\": 1, \"Parameter\": \"thalach\", \"Value\": 195.0}, {\"age\": 69.0, \"num\": 2, \"Parameter\": \"thalach\", \"Value\": 146.0}, {\"age\": 50.0, \"num\": 0, \"Parameter\": \"thalach\", \"Value\": 163.0}, {\"age\": 51.0, \"num\": 3, \"Parameter\": \"thalach\", \"Value\": 122.0}, {\"age\": 43.0, \"num\": 1, \"Parameter\": \"thalach\", \"Value\": 143.0}, {\"age\": 62.0, \"num\": 2, \"Parameter\": \"thalach\", \"Value\": 106.0}, {\"age\": 68.0, \"num\": 0, \"Parameter\": \"thalach\", \"Value\": 115.0}, {\"age\": 67.0, \"num\": 3, \"Parameter\": \"thalach\", \"Value\": 125.0}, {\"age\": 69.0, \"num\": 0, \"Parameter\": \"thalach\", \"Value\": 131.0}, {\"age\": 45.0, \"num\": 0, \"Parameter\": \"thalach\", \"Value\": 152.0}, {\"age\": 50.0, \"num\": 0, \"Parameter\": \"thalach\", \"Value\": 162.0}, {\"age\": 59.0, \"num\": 1, \"Parameter\": \"thalach\", \"Value\": 125.0}, {\"age\": 50.0, \"num\": 0, \"Parameter\": \"thalach\", \"Value\": 159.0}, {\"age\": 64.0, \"num\": 0, \"Parameter\": \"thalach\", \"Value\": 154.0}, {\"age\": 57.0, \"num\": 0, \"Parameter\": \"thalach\", \"Value\": 173.0}, {\"age\": 64.0, \"num\": 0, \"Parameter\": \"thalach\", \"Value\": 133.0}, {\"age\": 43.0, \"num\": 0, \"Parameter\": \"thalach\", \"Value\": 161.0}, {\"age\": 45.0, \"num\": 3, \"Parameter\": \"thalach\", \"Value\": 147.0}, {\"age\": 58.0, \"num\": 3, \"Parameter\": \"thalach\", \"Value\": 130.0}, {\"age\": 50.0, \"num\": 3, \"Parameter\": \"thalach\", \"Value\": 126.0}, {\"age\": 55.0, \"num\": 0, \"Parameter\": \"thalach\", \"Value\": 155.0}, {\"age\": 62.0, \"num\": 1, \"Parameter\": \"thalach\", \"Value\": 154.0}, {\"age\": 37.0, \"num\": 0, \"Parameter\": \"thalach\", \"Value\": 170.0}, {\"age\": 38.0, \"num\": 4, \"Parameter\": \"thalach\", \"Value\": 182.0}, {\"age\": 41.0, \"num\": 0, \"Parameter\": \"thalach\", \"Value\": 168.0}, {\"age\": 66.0, \"num\": 3, \"Parameter\": \"thalach\", \"Value\": 165.0}, {\"age\": 52.0, \"num\": 1, \"Parameter\": \"thalach\", \"Value\": 160.0}, {\"age\": 56.0, \"num\": 0, \"Parameter\": \"thalach\", \"Value\": 162.0}, {\"age\": 46.0, \"num\": 0, \"Parameter\": \"thalach\", \"Value\": 172.0}, {\"age\": 46.0, \"num\": 0, \"Parameter\": \"thalach\", \"Value\": 152.0}, {\"age\": 64.0, \"num\": 0, \"Parameter\": \"thalach\", \"Value\": 122.0}, {\"age\": 59.0, \"num\": 0, \"Parameter\": \"thalach\", \"Value\": 182.0}, {\"age\": 41.0, \"num\": 0, \"Parameter\": \"thalach\", \"Value\": 172.0}, {\"age\": 54.0, \"num\": 0, \"Parameter\": \"thalach\", \"Value\": 167.0}, {\"age\": 39.0, \"num\": 0, \"Parameter\": \"thalach\", \"Value\": 179.0}, {\"age\": 53.0, \"num\": 3, \"Parameter\": \"thalach\", \"Value\": 95.0}, {\"age\": 63.0, \"num\": 1, \"Parameter\": \"thalach\", \"Value\": 169.0}, {\"age\": 34.0, \"num\": 0, \"Parameter\": \"thalach\", \"Value\": 192.0}, {\"age\": 47.0, \"num\": 0, \"Parameter\": \"thalach\", \"Value\": 143.0}, {\"age\": 67.0, \"num\": 0, \"Parameter\": \"thalach\", \"Value\": 172.0}, {\"age\": 54.0, \"num\": 3, \"Parameter\": \"thalach\", \"Value\": 108.0}, {\"age\": 66.0, \"num\": 2, \"Parameter\": \"thalach\", \"Value\": 132.0}, {\"age\": 52.0, \"num\": 0, \"Parameter\": \"thalach\", \"Value\": 169.0}, {\"age\": 55.0, \"num\": 2, \"Parameter\": \"thalach\", \"Value\": 117.0}, {\"age\": 49.0, \"num\": 1, \"Parameter\": \"thalach\", \"Value\": 126.0}, {\"age\": 74.0, \"num\": 0, \"Parameter\": \"thalach\", \"Value\": 121.0}, {\"age\": 54.0, \"num\": 0, \"Parameter\": \"thalach\", \"Value\": 163.0}, {\"age\": 54.0, \"num\": 3, \"Parameter\": \"thalach\", \"Value\": 116.0}, {\"age\": 56.0, \"num\": 2, \"Parameter\": \"thalach\", \"Value\": 103.0}, {\"age\": 46.0, \"num\": 1, \"Parameter\": \"thalach\", \"Value\": 144.0}, {\"age\": 49.0, \"num\": 0, \"Parameter\": \"thalach\", \"Value\": 162.0}, {\"age\": 42.0, \"num\": 0, \"Parameter\": \"thalach\", \"Value\": 162.0}, {\"age\": 41.0, \"num\": 0, \"Parameter\": \"thalach\", \"Value\": 153.0}, {\"age\": 41.0, \"num\": 0, \"Parameter\": \"thalach\", \"Value\": 163.0}, {\"age\": 49.0, \"num\": 0, \"Parameter\": \"thalach\", \"Value\": 163.0}, {\"age\": 61.0, \"num\": 2, \"Parameter\": \"thalach\", \"Value\": 145.0}, {\"age\": 60.0, \"num\": 0, \"Parameter\": \"thalach\", \"Value\": 96.0}, {\"age\": 67.0, \"num\": 2, \"Parameter\": \"thalach\", \"Value\": 71.0}, {\"age\": 58.0, \"num\": 2, \"Parameter\": \"thalach\", \"Value\": 156.0}, {\"age\": 47.0, \"num\": 1, \"Parameter\": \"thalach\", \"Value\": 118.0}, {\"age\": 52.0, \"num\": 3, \"Parameter\": \"thalach\", \"Value\": 168.0}, {\"age\": 62.0, \"num\": 0, \"Parameter\": \"thalach\", \"Value\": 140.0}, {\"age\": 57.0, \"num\": 0, \"Parameter\": \"thalach\", \"Value\": 126.0}, {\"age\": 58.0, \"num\": 1, \"Parameter\": \"thalach\", \"Value\": 105.0}, {\"age\": 64.0, \"num\": 0, \"Parameter\": \"thalach\", \"Value\": 105.0}, {\"age\": 51.0, \"num\": 0, \"Parameter\": \"thalach\", \"Value\": 157.0}, {\"age\": 43.0, \"num\": 0, \"Parameter\": \"thalach\", \"Value\": 181.0}, {\"age\": 42.0, \"num\": 0, \"Parameter\": \"thalach\", \"Value\": 173.0}, {\"age\": 67.0, \"num\": 0, \"Parameter\": \"thalach\", \"Value\": 142.0}, {\"age\": 76.0, \"num\": 0, \"Parameter\": \"thalach\", \"Value\": 116.0}, {\"age\": 70.0, \"num\": 0, \"Parameter\": \"thalach\", \"Value\": 143.0}, {\"age\": 57.0, \"num\": 1, \"Parameter\": \"thalach\", \"Value\": 141.0}, {\"age\": 44.0, \"num\": 0, \"Parameter\": \"thalach\", \"Value\": 149.0}, {\"age\": 58.0, \"num\": 3, \"Parameter\": \"thalach\", \"Value\": 152.0}, {\"age\": 60.0, \"num\": 0, \"Parameter\": \"thalach\", \"Value\": 171.0}, {\"age\": 44.0, \"num\": 0, \"Parameter\": \"thalach\", \"Value\": 169.0}, {\"age\": 61.0, \"num\": 4, \"Parameter\": \"thalach\", \"Value\": 125.0}, {\"age\": 42.0, \"num\": 2, \"Parameter\": \"thalach\", \"Value\": 125.0}, {\"age\": 52.0, \"num\": 2, \"Parameter\": \"thalach\", \"Value\": 156.0}, {\"age\": 59.0, \"num\": 2, \"Parameter\": \"thalach\", \"Value\": 134.0}, {\"age\": 40.0, \"num\": 1, \"Parameter\": \"thalach\", \"Value\": 181.0}, {\"age\": 42.0, \"num\": 0, \"Parameter\": \"thalach\", \"Value\": 150.0}, {\"age\": 61.0, \"num\": 1, \"Parameter\": \"thalach\", \"Value\": 138.0}, {\"age\": 66.0, \"num\": 0, \"Parameter\": \"thalach\", \"Value\": 138.0}, {\"age\": 46.0, \"num\": 2, \"Parameter\": \"thalach\", \"Value\": 120.0}, {\"age\": 71.0, \"num\": 0, \"Parameter\": \"thalach\", \"Value\": 125.0}, {\"age\": 59.0, \"num\": 1, \"Parameter\": \"thalach\", \"Value\": 162.0}, {\"age\": 64.0, \"num\": 0, \"Parameter\": \"thalach\", \"Value\": 155.0}, {\"age\": 66.0, \"num\": 0, \"Parameter\": \"thalach\", \"Value\": 152.0}, {\"age\": 39.0, \"num\": 0, \"Parameter\": \"thalach\", \"Value\": 152.0}, {\"age\": 57.0, \"num\": 1, \"Parameter\": \"thalach\", \"Value\": 164.0}, {\"age\": 58.0, \"num\": 0, \"Parameter\": \"thalach\", \"Value\": 131.0}, {\"age\": 57.0, \"num\": 2, \"Parameter\": \"thalach\", \"Value\": 143.0}, {\"age\": 47.0, \"num\": 0, \"Parameter\": \"thalach\", \"Value\": 179.0}, {\"age\": 55.0, \"num\": 3, \"Parameter\": \"thalach\", \"Value\": 130.0}, {\"age\": 35.0, \"num\": 0, \"Parameter\": \"thalach\", \"Value\": 174.0}, {\"age\": 61.0, \"num\": 2, \"Parameter\": \"thalach\", \"Value\": 161.0}, {\"age\": 58.0, \"num\": 4, \"Parameter\": \"thalach\", \"Value\": 140.0}, {\"age\": 58.0, \"num\": 2, \"Parameter\": \"thalach\", \"Value\": 146.0}, {\"age\": 58.0, \"num\": 0, \"Parameter\": \"thalach\", \"Value\": 144.0}, {\"age\": 56.0, \"num\": 0, \"Parameter\": \"thalach\", \"Value\": 163.0}, {\"age\": 56.0, \"num\": 0, \"Parameter\": \"thalach\", \"Value\": 169.0}, {\"age\": 67.0, \"num\": 1, \"Parameter\": \"thalach\", \"Value\": 150.0}, {\"age\": 55.0, \"num\": 0, \"Parameter\": \"thalach\", \"Value\": 166.0}, {\"age\": 44.0, \"num\": 2, \"Parameter\": \"thalach\", \"Value\": 144.0}, {\"age\": 63.0, \"num\": 2, \"Parameter\": \"thalach\", \"Value\": 144.0}, {\"age\": 63.0, \"num\": 1, \"Parameter\": \"thalach\", \"Value\": 136.0}, {\"age\": 41.0, \"num\": 0, \"Parameter\": \"thalach\", \"Value\": 182.0}, {\"age\": 59.0, \"num\": 3, \"Parameter\": \"thalach\", \"Value\": 90.0}, {\"age\": 57.0, \"num\": 1, \"Parameter\": \"thalach\", \"Value\": 123.0}, {\"age\": 45.0, \"num\": 1, \"Parameter\": \"thalach\", \"Value\": 132.0}, {\"age\": 68.0, \"num\": 2, \"Parameter\": \"thalach\", \"Value\": 141.0}, {\"age\": 57.0, \"num\": 3, \"Parameter\": \"thalach\", \"Value\": 115.0}, {\"age\": 57.0, \"num\": 1, \"Parameter\": \"thalach\", \"Value\": 174.0}, {\"age\": 38.0, \"num\": 0, \"Parameter\": \"thalach\", \"Value\": 173.0}]}}, {\"mode\": \"vega-lite\"});\n",
       "</script>"
      ],
      "text/plain": [
       "alt.FacetChart(...)"
      ]
     },
     "execution_count": 26,
     "metadata": {},
     "output_type": "execute_result"
    }
   ],
   "source": [
    "#filter out categorical data and \n",
    "compressed_data_set_summary = df.drop(columns = [\"sex\", \"cp\", \"fbs\", \"restecg\", \"exang\", \"slope\", \"ca\", \"thal\", \"oldpeak\"]).melt(\n",
    "    id_vars=[\"age\",\"num\"],\n",
    "    var_name=\"Parameter\",\n",
    "    value_name=\"Value\",\n",
    ")\n",
    "\n",
    "data_summary_chart = alt.Chart(compressed_data_set_summary).mark_bar(clip=True).encode(\n",
    "    x=alt.X(\"Value\").title(\"Parameter Value\").scale(domain=(0,300)).bin(maxbins=85),\n",
    "    y=alt.Y(\"count()\").title(\"Number of Individuals\").scale(domain=(0, 15)),\n",
    "    color= alt.Color(\"num\").title(\"Heart Disease Severity\")\n",
    ").facet(\"Parameter\", columns = 4)\n",
    "data_summary_chart\n"
   ]
  },
  {
   "cell_type": "markdown",
   "id": "8be11d24-ff4d-4c69-a152-9f47d23ab949",
   "metadata": {},
   "source": [
    "***Figure 1.*** Summarization of cholesterol levels (chol), max heart rate (thalach) and resting blood pressure (trestbps) coloured based on heart disease severity(0 = Healthy, 1-4 = increasing risk of cardiovascular disease). For chol and tresbps, the higher measured values are correlated with a higher proportion of sick to healthy, as shown in the equal distribution of light and dark colouring. For Thalach, we observe the inverse trend where a lower max heart rate correlates with a higher proportion of heart disease severity, highlighting that a higher max heart rate is associated with better cardiovascular health. \n"
   ]
  },
  {
   "cell_type": "code",
   "execution_count": 24,
   "id": "38313052",
   "metadata": {},
   "outputs": [
    {
     "name": "stdout",
     "output_type": "stream",
     "text": [
      "Baseline model with no optimizations:  0.5411\n"
     ]
    }
   ],
   "source": [
    "knn = KNeighborsClassifier()\n",
    "scores = {\"name\": [], \"average_CV_score\": []}\n",
    "\n",
    "# This serves as a baseline to compare the other runs\n",
    "cv_results = cross_val_score(knn, X_train, y_train)\n",
    "scores[\"name\"].append(\"all_features\")\n",
    "scores[\"average_CV_score\"].append(np.average(cv_results))\n",
    "print(\n",
    "    \"Baseline model with no optimizations: \",\n",
    "    np.round(np.average(cv_results), decimals=4)\n",
    ")\n",
    "\n",
    "# Calculate CV scores with one feature dropped\n",
    "for col in X_train.columns:\n",
    "    cv_results = cross_val_score(knn, X_train.drop(columns=[col]), y_train)\n",
    "    scores[\"name\"].append(\"no_\" + col)\n",
    "    scores[\"average_CV_score\"].append(np.average(cv_results))\n",
    "\n",
    "# Convert the dict to a dataframe for visualization purposes\n",
    "cv_results_df = pd.DataFrame(scores)\n",
    "\n",
    "# Generate chart with line to show baseline\n",
    "chart = alt.Chart(cv_results_df).mark_bar(clip=True).encode(\n",
    "    alt.X(\n",
    "        'name:O',\n",
    "        title=\"CV Run Name\"\n",
    "    ),\n",
    "    alt.Y(\n",
    "        'average_CV_score:Q',\n",
    "        title=\"Average CV Score\"\n",
    "    ).scale(domain=[0.5, 0.6]),\n",
    ").properties(\n",
    "    title = \"Average CV Scores w/ Removed Features (Lower is better)\"\n",
    ")\n",
    "line = alt.Chart(cv_results_df.loc[cv_results_df[\"name\"] == \"all_features\"]).mark_rule().encode(y='average_CV_score')\n",
    "CV_results_summary_chart = chart + line"
   ]
  },
  {
   "cell_type": "code",
   "execution_count": 13,
   "id": "197ca34f-d010-4c5b-a765-d01b26fe9ff9",
   "metadata": {},
   "outputs": [
    {
     "data": {
      "text/html": [
       "\n",
       "<style>\n",
       "  #altair-viz-67bc6c1b6a3848fba779651002683cef.vega-embed {\n",
       "    width: 100%;\n",
       "    display: flex;\n",
       "  }\n",
       "\n",
       "  #altair-viz-67bc6c1b6a3848fba779651002683cef.vega-embed details,\n",
       "  #altair-viz-67bc6c1b6a3848fba779651002683cef.vega-embed details summary {\n",
       "    position: relative;\n",
       "  }\n",
       "</style>\n",
       "<div id=\"altair-viz-67bc6c1b6a3848fba779651002683cef\"></div>\n",
       "<script type=\"text/javascript\">\n",
       "  var VEGA_DEBUG = (typeof VEGA_DEBUG == \"undefined\") ? {} : VEGA_DEBUG;\n",
       "  (function(spec, embedOpt){\n",
       "    let outputDiv = document.currentScript.previousElementSibling;\n",
       "    if (outputDiv.id !== \"altair-viz-67bc6c1b6a3848fba779651002683cef\") {\n",
       "      outputDiv = document.getElementById(\"altair-viz-67bc6c1b6a3848fba779651002683cef\");\n",
       "    }\n",
       "    const paths = {\n",
       "      \"vega\": \"https://cdn.jsdelivr.net/npm/vega@5?noext\",\n",
       "      \"vega-lib\": \"https://cdn.jsdelivr.net/npm/vega-lib?noext\",\n",
       "      \"vega-lite\": \"https://cdn.jsdelivr.net/npm/vega-lite@5.8.0?noext\",\n",
       "      \"vega-embed\": \"https://cdn.jsdelivr.net/npm/vega-embed@6?noext\",\n",
       "    };\n",
       "\n",
       "    function maybeLoadScript(lib, version) {\n",
       "      var key = `${lib.replace(\"-\", \"\")}_version`;\n",
       "      return (VEGA_DEBUG[key] == version) ?\n",
       "        Promise.resolve(paths[lib]) :\n",
       "        new Promise(function(resolve, reject) {\n",
       "          var s = document.createElement('script');\n",
       "          document.getElementsByTagName(\"head\")[0].appendChild(s);\n",
       "          s.async = true;\n",
       "          s.onload = () => {\n",
       "            VEGA_DEBUG[key] = version;\n",
       "            return resolve(paths[lib]);\n",
       "          };\n",
       "          s.onerror = () => reject(`Error loading script: ${paths[lib]}`);\n",
       "          s.src = paths[lib];\n",
       "        });\n",
       "    }\n",
       "\n",
       "    function showError(err) {\n",
       "      outputDiv.innerHTML = `<div class=\"error\" style=\"color:red;\">${err}</div>`;\n",
       "      throw err;\n",
       "    }\n",
       "\n",
       "    function displayChart(vegaEmbed) {\n",
       "      vegaEmbed(outputDiv, spec, embedOpt)\n",
       "        .catch(err => showError(`Javascript Error: ${err.message}<br>This usually means there's a typo in your chart specification. See the javascript console for the full traceback.`));\n",
       "    }\n",
       "\n",
       "    if(typeof define === \"function\" && define.amd) {\n",
       "      requirejs.config({paths});\n",
       "      require([\"vega-embed\"], displayChart, err => showError(`Error loading script: ${err.message}`));\n",
       "    } else {\n",
       "      maybeLoadScript(\"vega\", \"5\")\n",
       "        .then(() => maybeLoadScript(\"vega-lite\", \"5.8.0\"))\n",
       "        .then(() => maybeLoadScript(\"vega-embed\", \"6\"))\n",
       "        .catch(showError)\n",
       "        .then(() => displayChart(vegaEmbed));\n",
       "    }\n",
       "  })({\"config\": {\"view\": {\"continuousWidth\": 300, \"continuousHeight\": 300}}, \"layer\": [{\"data\": {\"name\": \"data-a36fb205e479c7f76ada856edeb59c0f\"}, \"mark\": {\"type\": \"bar\", \"clip\": true}, \"encoding\": {\"x\": {\"field\": \"name\", \"title\": \"CV Run Name\", \"type\": \"ordinal\"}, \"y\": {\"field\": \"average_CV_score\", \"scale\": {\"domain\": [0.5, 0.6]}, \"title\": \"Average CV Score\", \"type\": \"quantitative\"}}, \"title\": \"Average CV Scores w/ Removed Features (Lower is better)\"}, {\"data\": {\"name\": \"data-e3328aa118d736c54b22a97ce5a8d3c0\"}, \"mark\": {\"type\": \"rule\"}, \"encoding\": {\"y\": {\"field\": \"average_CV_score\", \"type\": \"quantitative\"}}}], \"$schema\": \"https://vega.github.io/schema/vega-lite/v5.8.0.json\", \"datasets\": {\"data-a36fb205e479c7f76ada856edeb59c0f\": [{\"name\": \"all_features\", \"average_CV_score\": 0.5411411411411412}, {\"name\": \"no_age\", \"average_CV_score\": 0.5636636636636637}, {\"name\": \"no_trestbps\", \"average_CV_score\": 0.5412912912912913}, {\"name\": \"no_chol\", \"average_CV_score\": 0.5468468468468469}, {\"name\": \"no_thalach\", \"average_CV_score\": 0.5247747747747749}, {\"name\": \"no_oldpeak\", \"average_CV_score\": 0.5525525525525525}, {\"name\": \"no_sex\", \"average_CV_score\": 0.5192192192192191}, {\"name\": \"no_cp\", \"average_CV_score\": 0.49744744744744746}, {\"name\": \"no_fbs\", \"average_CV_score\": 0.5524024024024023}, {\"name\": \"no_restecg\", \"average_CV_score\": 0.5471471471471472}, {\"name\": \"no_exang\", \"average_CV_score\": 0.5192192192192192}, {\"name\": \"no_slope\", \"average_CV_score\": 0.5635135135135136}], \"data-e3328aa118d736c54b22a97ce5a8d3c0\": [{\"name\": \"all_features\", \"average_CV_score\": 0.5411411411411412}]}}, {\"mode\": \"vega-lite\"});\n",
       "</script>"
      ],
      "text/plain": [
       "alt.LayerChart(...)"
      ]
     },
     "execution_count": 13,
     "metadata": {},
     "output_type": "execute_result"
    }
   ],
   "source": [
    "CV_results_summary_chart"
   ]
  },
  {
   "cell_type": "markdown",
   "id": "ddca50c4-dfff-4b04-9612-1abe33137040",
   "metadata": {},
   "source": [
    "***Figure 2.*** Plot of Average CV Scores with Removed Features where a lower score indicates less influence on. This tells us that removing cp, exang, sex, and thalach lowers our overall CV scores. Therefore, these are probably the most useful features. Therefore, we can infer that removing other parameters in our model would be optimal. "
   ]
  },
  {
   "cell_type": "code",
   "execution_count": 14,
   "id": "e04693fd",
   "metadata": {},
   "outputs": [],
   "source": [
    "# Drop the unhelpful features\n",
    "X_train_cropped = X_train.drop(columns=[\"age\", \"chol\", \"fbs\", \"restecg\", \"slope\", \"trestbps\"])\n",
    "X_test_cropped = X_test.drop(columns=[\"age\", \"chol\", \"fbs\", \"restecg\", \"slope\", \"trestbps\"])"
   ]
  },
  {
   "cell_type": "markdown",
   "id": "dfb1aa44",
   "metadata": {},
   "source": [
    "Now we can compare how our model fairs with and without these cropped features."
   ]
  },
  {
   "cell_type": "code",
   "execution_count": 32,
   "id": "66f4d0e7",
   "metadata": {},
   "outputs": [
    {
     "name": "stdout",
     "output_type": "stream",
     "text": [
      "With all features:  0.5411\n",
      "With cropped features:  0.5695\n"
     ]
    }
   ],
   "source": [
    "# Output the average CV scores\n",
    "print(\n",
    "    \"With all features: \",\n",
    "    np.round(\n",
    "        np.average(cross_val_score(knn, X_train, y_train)),\n",
    "        decimals=4\n",
    "    )\n",
    ")\n",
    "print(\n",
    "    \"With cropped features: \",\n",
    "    np.round(\n",
    "        np.average(cross_val_score(knn, X_train_cropped, y_train)),\n",
    "        decimals=4\n",
    "    )\n",
    ")"
   ]
  },
  {
   "cell_type": "markdown",
   "id": "5ce08708",
   "metadata": {},
   "source": [
    "We can see that our model is slightly improved by dropping the bad features.\n",
    "\n",
    "We can further optimize our model by optimizing our hyper-parameters. In this case, we only need to optimize for n_neighbors in our KNeighborsClassifier."
   ]
  },
  {
   "cell_type": "code",
   "execution_count": 33,
   "id": "46203e16",
   "metadata": {},
   "outputs": [],
   "source": [
    "\n",
    "# Setup and perform grid search to find the best value for K\n",
    "parameters = {'n_neighbors':range(1, 50)}\n",
    "grid = GridSearchCV(knn, parameters)\n",
    "\n",
    "grid.fit(X_train_cropped, y_train)\n",
    "grid_results = pd.DataFrame(grid.cv_results_)\n",
    "\n",
    "# Chart the CV scores for each K value\n",
    "accuracy_vs_k = alt.Chart(grid_results).mark_line(point=True).encode(\n",
    "    x=alt.X(\"param_n_neighbors\").title(\"Neighbors\"),\n",
    "    y=alt.Y(\"mean_test_score\")\n",
    "        .scale(zero=False)\n",
    "        .title(\"Accuracy estimate\")\n",
    ").properties(width = 500)\n",
    "\n"
   ]
  },
  {
   "cell_type": "code",
   "execution_count": 34,
   "id": "fed9c094-0b3d-4cce-aa37-ad5964899e32",
   "metadata": {},
   "outputs": [
    {
     "data": {
      "text/html": [
       "\n",
       "<style>\n",
       "  #altair-viz-2c6723e314294dada1b06b42c370fb8d.vega-embed {\n",
       "    width: 100%;\n",
       "    display: flex;\n",
       "  }\n",
       "\n",
       "  #altair-viz-2c6723e314294dada1b06b42c370fb8d.vega-embed details,\n",
       "  #altair-viz-2c6723e314294dada1b06b42c370fb8d.vega-embed details summary {\n",
       "    position: relative;\n",
       "  }\n",
       "</style>\n",
       "<div id=\"altair-viz-2c6723e314294dada1b06b42c370fb8d\"></div>\n",
       "<script type=\"text/javascript\">\n",
       "  var VEGA_DEBUG = (typeof VEGA_DEBUG == \"undefined\") ? {} : VEGA_DEBUG;\n",
       "  (function(spec, embedOpt){\n",
       "    let outputDiv = document.currentScript.previousElementSibling;\n",
       "    if (outputDiv.id !== \"altair-viz-2c6723e314294dada1b06b42c370fb8d\") {\n",
       "      outputDiv = document.getElementById(\"altair-viz-2c6723e314294dada1b06b42c370fb8d\");\n",
       "    }\n",
       "    const paths = {\n",
       "      \"vega\": \"https://cdn.jsdelivr.net/npm/vega@5?noext\",\n",
       "      \"vega-lib\": \"https://cdn.jsdelivr.net/npm/vega-lib?noext\",\n",
       "      \"vega-lite\": \"https://cdn.jsdelivr.net/npm/vega-lite@5.8.0?noext\",\n",
       "      \"vega-embed\": \"https://cdn.jsdelivr.net/npm/vega-embed@6?noext\",\n",
       "    };\n",
       "\n",
       "    function maybeLoadScript(lib, version) {\n",
       "      var key = `${lib.replace(\"-\", \"\")}_version`;\n",
       "      return (VEGA_DEBUG[key] == version) ?\n",
       "        Promise.resolve(paths[lib]) :\n",
       "        new Promise(function(resolve, reject) {\n",
       "          var s = document.createElement('script');\n",
       "          document.getElementsByTagName(\"head\")[0].appendChild(s);\n",
       "          s.async = true;\n",
       "          s.onload = () => {\n",
       "            VEGA_DEBUG[key] = version;\n",
       "            return resolve(paths[lib]);\n",
       "          };\n",
       "          s.onerror = () => reject(`Error loading script: ${paths[lib]}`);\n",
       "          s.src = paths[lib];\n",
       "        });\n",
       "    }\n",
       "\n",
       "    function showError(err) {\n",
       "      outputDiv.innerHTML = `<div class=\"error\" style=\"color:red;\">${err}</div>`;\n",
       "      throw err;\n",
       "    }\n",
       "\n",
       "    function displayChart(vegaEmbed) {\n",
       "      vegaEmbed(outputDiv, spec, embedOpt)\n",
       "        .catch(err => showError(`Javascript Error: ${err.message}<br>This usually means there's a typo in your chart specification. See the javascript console for the full traceback.`));\n",
       "    }\n",
       "\n",
       "    if(typeof define === \"function\" && define.amd) {\n",
       "      requirejs.config({paths});\n",
       "      require([\"vega-embed\"], displayChart, err => showError(`Error loading script: ${err.message}`));\n",
       "    } else {\n",
       "      maybeLoadScript(\"vega\", \"5\")\n",
       "        .then(() => maybeLoadScript(\"vega-lite\", \"5.8.0\"))\n",
       "        .then(() => maybeLoadScript(\"vega-embed\", \"6\"))\n",
       "        .catch(showError)\n",
       "        .then(() => displayChart(vegaEmbed));\n",
       "    }\n",
       "  })({\"config\": {\"view\": {\"continuousWidth\": 300, \"continuousHeight\": 300}}, \"data\": {\"name\": \"data-6ba56affd732b2cb21e4cca7989c63ce\"}, \"mark\": {\"type\": \"line\", \"point\": true}, \"encoding\": {\"x\": {\"field\": \"param_n_neighbors\", \"title\": \"Neighbors\", \"type\": \"quantitative\"}, \"y\": {\"field\": \"mean_test_score\", \"scale\": {\"zero\": false}, \"title\": \"Accuracy estimate\", \"type\": \"quantitative\"}}, \"width\": 500, \"$schema\": \"https://vega.github.io/schema/vega-lite/v5.8.0.json\", \"datasets\": {\"data-6ba56affd732b2cb21e4cca7989c63ce\": [{\"mean_fit_time\": 0.001593780517578125, \"std_fit_time\": 0.00020950552370527535, \"mean_score_time\": 0.0036858081817626952, \"std_score_time\": 0.00031335369724117863, \"param_n_neighbors\": 1, \"params\": {\"n_neighbors\": 1}, \"split0_test_score\": 0.4864864864864865, \"split1_test_score\": 0.5833333333333334, \"split2_test_score\": 0.3333333333333333, \"split3_test_score\": 0.4166666666666667, \"split4_test_score\": 0.4722222222222222, \"mean_test_score\": 0.45840840840840846, \"std_test_score\": 0.08242764608650356, \"rank_test_score\": 49}, {\"mean_fit_time\": 0.0014150619506835937, \"std_fit_time\": 4.699689227231474e-06, \"mean_score_time\": 0.003313589096069336, \"std_score_time\": 9.220450087355972e-05, \"param_n_neighbors\": 2, \"params\": {\"n_neighbors\": 2}, \"split0_test_score\": 0.5405405405405406, \"split1_test_score\": 0.6666666666666666, \"split2_test_score\": 0.5277777777777778, \"split3_test_score\": 0.5555555555555556, \"split4_test_score\": 0.6111111111111112, \"mean_test_score\": 0.5803303303303303, \"std_test_score\": 0.05169179248952534, \"rank_test_score\": 9}, {\"mean_fit_time\": 0.0013988494873046875, \"std_fit_time\": 1.9424545605432242e-05, \"mean_score_time\": 0.0032806873321533205, \"std_score_time\": 6.378577073596583e-06, \"param_n_neighbors\": 3, \"params\": {\"n_neighbors\": 3}, \"split0_test_score\": 0.5675675675675675, \"split1_test_score\": 0.6388888888888888, \"split2_test_score\": 0.5277777777777778, \"split3_test_score\": 0.5833333333333334, \"split4_test_score\": 0.5833333333333334, \"mean_test_score\": 0.5801801801801802, \"std_test_score\": 0.035697862687610944, \"rank_test_score\": 10}, {\"mean_fit_time\": 0.0013937950134277344, \"std_fit_time\": 1.1966617767529284e-05, \"mean_score_time\": 0.0032720088958740233, \"std_score_time\": 1.193655896729652e-05, \"param_n_neighbors\": 4, \"params\": {\"n_neighbors\": 4}, \"split0_test_score\": 0.5675675675675675, \"split1_test_score\": 0.6388888888888888, \"split2_test_score\": 0.5555555555555556, \"split3_test_score\": 0.5555555555555556, \"split4_test_score\": 0.6388888888888888, \"mean_test_score\": 0.5912912912912913, \"std_test_score\": 0.039110007104560585, \"rank_test_score\": 4}, {\"mean_fit_time\": 0.0013744831085205078, \"std_fit_time\": 1.0285765464161424e-05, \"mean_score_time\": 0.0032740116119384767, \"std_score_time\": 8.116603274949567e-06, \"param_n_neighbors\": 5, \"params\": {\"n_neighbors\": 5}, \"split0_test_score\": 0.4864864864864865, \"split1_test_score\": 0.6111111111111112, \"split2_test_score\": 0.5555555555555556, \"split3_test_score\": 0.5833333333333334, \"split4_test_score\": 0.6111111111111112, \"mean_test_score\": 0.5695195195195195, \"std_test_score\": 0.046346562544762396, \"rank_test_score\": 20}, {\"mean_fit_time\": 0.001497936248779297, \"std_fit_time\": 0.0001101465348705173, \"mean_score_time\": 0.003421163558959961, \"std_score_time\": 0.0001679838227146174, \"param_n_neighbors\": 6, \"params\": {\"n_neighbors\": 6}, \"split0_test_score\": 0.5135135135135135, \"split1_test_score\": 0.5833333333333334, \"split2_test_score\": 0.6111111111111112, \"split3_test_score\": 0.6111111111111112, \"split4_test_score\": 0.5555555555555556, \"mean_test_score\": 0.574924924924925, \"std_test_score\": 0.036975979756252476, \"rank_test_score\": 14}, {\"mean_fit_time\": 0.0013799667358398438, \"std_fit_time\": 1.2466350996400234e-05, \"mean_score_time\": 0.003307151794433594, \"std_score_time\": 6.587594649861966e-05, \"param_n_neighbors\": 7, \"params\": {\"n_neighbors\": 7}, \"split0_test_score\": 0.4864864864864865, \"split1_test_score\": 0.5555555555555556, \"split2_test_score\": 0.6111111111111112, \"split3_test_score\": 0.6388888888888888, \"split4_test_score\": 0.6666666666666666, \"mean_test_score\": 0.5917417417417418, \"std_test_score\": 0.06418703787905733, \"rank_test_score\": 3}, {\"mean_fit_time\": 0.001373147964477539, \"std_fit_time\": 1.26038443375491e-05, \"mean_score_time\": 0.0032657623291015626, \"std_score_time\": 1.9775006686415988e-05, \"param_n_neighbors\": 8, \"params\": {\"n_neighbors\": 8}, \"split0_test_score\": 0.5675675675675675, \"split1_test_score\": 0.5833333333333334, \"split2_test_score\": 0.6111111111111112, \"split3_test_score\": 0.6388888888888888, \"split4_test_score\": 0.6111111111111112, \"mean_test_score\": 0.6024024024024024, \"std_test_score\": 0.024738803625098713, \"rank_test_score\": 2}, {\"mean_fit_time\": 0.0014200210571289062, \"std_fit_time\": 2.637819026376485e-05, \"mean_score_time\": 0.003491640090942383, \"std_score_time\": 0.0002204561600175485, \"param_n_neighbors\": 9, \"params\": {\"n_neighbors\": 9}, \"split0_test_score\": 0.5945945945945946, \"split1_test_score\": 0.5555555555555556, \"split2_test_score\": 0.6388888888888888, \"split3_test_score\": 0.6111111111111112, \"split4_test_score\": 0.6388888888888888, \"mean_test_score\": 0.6078078078078077, \"std_test_score\": 0.031137970017012705, \"rank_test_score\": 1}, {\"mean_fit_time\": 0.001410198211669922, \"std_fit_time\": 5.509778566566706e-05, \"mean_score_time\": 0.003436279296875, \"std_score_time\": 0.00012183906959558255, \"param_n_neighbors\": 10, \"params\": {\"n_neighbors\": 10}, \"split0_test_score\": 0.5405405405405406, \"split1_test_score\": 0.5, \"split2_test_score\": 0.6111111111111112, \"split3_test_score\": 0.6111111111111112, \"split4_test_score\": 0.5833333333333334, \"mean_test_score\": 0.5692192192192193, \"std_test_score\": 0.043180635358603475, \"rank_test_score\": 22}, {\"mean_fit_time\": 0.0015021800994873048, \"std_fit_time\": 0.00013087408887485754, \"mean_score_time\": 0.0033311843872070312, \"std_score_time\": 5.624657607461214e-05, \"param_n_neighbors\": 11, \"params\": {\"n_neighbors\": 11}, \"split0_test_score\": 0.5405405405405406, \"split1_test_score\": 0.5, \"split2_test_score\": 0.5833333333333334, \"split3_test_score\": 0.6111111111111112, \"split4_test_score\": 0.5833333333333334, \"mean_test_score\": 0.5636636636636637, \"std_test_score\": 0.03901997686609601, \"rank_test_score\": 31}, {\"mean_fit_time\": 0.0014360427856445312, \"std_fit_time\": 0.00010982496616685886, \"mean_score_time\": 0.003305196762084961, \"std_score_time\": 5.7001489647936275e-06, \"param_n_neighbors\": 12, \"params\": {\"n_neighbors\": 12}, \"split0_test_score\": 0.5135135135135135, \"split1_test_score\": 0.5, \"split2_test_score\": 0.5833333333333334, \"split3_test_score\": 0.6666666666666666, \"split4_test_score\": 0.5833333333333334, \"mean_test_score\": 0.5693693693693694, \"std_test_score\": 0.05964685185427069, \"rank_test_score\": 21}, {\"mean_fit_time\": 0.001398611068725586, \"std_fit_time\": 1.6920934580132848e-05, \"mean_score_time\": 0.0033603668212890624, \"std_score_time\": 0.00013489609431639534, \"param_n_neighbors\": 13, \"params\": {\"n_neighbors\": 13}, \"split0_test_score\": 0.4864864864864865, \"split1_test_score\": 0.5, \"split2_test_score\": 0.5833333333333334, \"split3_test_score\": 0.6666666666666666, \"split4_test_score\": 0.5555555555555556, \"mean_test_score\": 0.5584084084084084, \"std_test_score\": 0.0647047852307252, \"rank_test_score\": 38}, {\"mean_fit_time\": 0.001397991180419922, \"std_fit_time\": 1.6089703910036577e-05, \"mean_score_time\": 0.003408527374267578, \"std_score_time\": 0.00012567175155422727, \"param_n_neighbors\": 14, \"params\": {\"n_neighbors\": 14}, \"split0_test_score\": 0.5405405405405406, \"split1_test_score\": 0.5277777777777778, \"split2_test_score\": 0.5833333333333334, \"split3_test_score\": 0.6666666666666666, \"split4_test_score\": 0.5833333333333334, \"mean_test_score\": 0.5803303303303304, \"std_test_score\": 0.048614806751354114, \"rank_test_score\": 7}, {\"mean_fit_time\": 0.0015953540802001952, \"std_fit_time\": 0.0002577416040878201, \"mean_score_time\": 0.0037015438079833984, \"std_score_time\": 0.00030958421054102766, \"param_n_neighbors\": 15, \"params\": {\"n_neighbors\": 15}, \"split0_test_score\": 0.5405405405405406, \"split1_test_score\": 0.5555555555555556, \"split2_test_score\": 0.5555555555555556, \"split3_test_score\": 0.6666666666666666, \"split4_test_score\": 0.5555555555555556, \"mean_test_score\": 0.5747747747747749, \"std_test_score\": 0.04631249885563241, \"rank_test_score\": 15}, {\"mean_fit_time\": 0.0013927936553955079, \"std_fit_time\": 2.0542441412892286e-05, \"mean_score_time\": 0.003386068344116211, \"std_score_time\": 0.00010905521216360205, \"param_n_neighbors\": 16, \"params\": {\"n_neighbors\": 16}, \"split0_test_score\": 0.5135135135135135, \"split1_test_score\": 0.5277777777777778, \"split2_test_score\": 0.5555555555555556, \"split3_test_score\": 0.6666666666666666, \"split4_test_score\": 0.5555555555555556, \"mean_test_score\": 0.5638138138138139, \"std_test_score\": 0.05393296413582634, \"rank_test_score\": 27}, {\"mean_fit_time\": 0.0013622283935546876, \"std_fit_time\": 6.669927536129818e-06, \"mean_score_time\": 0.0033286571502685546, \"std_score_time\": 4.808958887312404e-05, \"param_n_neighbors\": 17, \"params\": {\"n_neighbors\": 17}, \"split0_test_score\": 0.5135135135135135, \"split1_test_score\": 0.5277777777777778, \"split2_test_score\": 0.5555555555555556, \"split3_test_score\": 0.6388888888888888, \"split4_test_score\": 0.5833333333333334, \"mean_test_score\": 0.5638138138138138, \"std_test_score\": 0.04452907695596671, \"rank_test_score\": 29}, {\"mean_fit_time\": 0.0013760089874267577, \"std_fit_time\": 5.883869120144203e-06, \"mean_score_time\": 0.0033014774322509765, \"std_score_time\": 2.411806333309959e-05, \"param_n_neighbors\": 18, \"params\": {\"n_neighbors\": 18}, \"split0_test_score\": 0.5135135135135135, \"split1_test_score\": 0.5277777777777778, \"split2_test_score\": 0.5555555555555556, \"split3_test_score\": 0.6388888888888888, \"split4_test_score\": 0.5833333333333334, \"mean_test_score\": 0.5638138138138138, \"std_test_score\": 0.04452907695596671, \"rank_test_score\": 29}, {\"mean_fit_time\": 0.0014333248138427735, \"std_fit_time\": 9.836994554518529e-05, \"mean_score_time\": 0.003544044494628906, \"std_score_time\": 0.0003209266899857135, \"param_n_neighbors\": 19, \"params\": {\"n_neighbors\": 19}, \"split0_test_score\": 0.5405405405405406, \"split1_test_score\": 0.5277777777777778, \"split2_test_score\": 0.5833333333333334, \"split3_test_score\": 0.6388888888888888, \"split4_test_score\": 0.6111111111111112, \"mean_test_score\": 0.5803303303303304, \"std_test_score\": 0.041786546696924144, \"rank_test_score\": 7}, {\"mean_fit_time\": 0.0014082431793212891, \"std_fit_time\": 2.733096487478319e-05, \"mean_score_time\": 0.003599691390991211, \"std_score_time\": 0.00019753720419820968, \"param_n_neighbors\": 20, \"params\": {\"n_neighbors\": 20}, \"split0_test_score\": 0.5135135135135135, \"split1_test_score\": 0.5, \"split2_test_score\": 0.5833333333333334, \"split3_test_score\": 0.6111111111111112, \"split4_test_score\": 0.6111111111111112, \"mean_test_score\": 0.5638138138138139, \"std_test_score\": 0.047869412675100274, \"rank_test_score\": 27}, {\"mean_fit_time\": 0.0014997005462646484, \"std_fit_time\": 0.00012819954778705303, \"mean_score_time\": 0.003365230560302734, \"std_score_time\": 1.918960036914089e-05, \"param_n_neighbors\": 21, \"params\": {\"n_neighbors\": 21}, \"split0_test_score\": 0.5405405405405406, \"split1_test_score\": 0.5, \"split2_test_score\": 0.5833333333333334, \"split3_test_score\": 0.6388888888888888, \"split4_test_score\": 0.5833333333333334, \"mean_test_score\": 0.5692192192192193, \"std_test_score\": 0.04661769240622401, \"rank_test_score\": 22}, {\"mean_fit_time\": 0.0013869762420654296, \"std_fit_time\": 4.120976688769887e-05, \"mean_score_time\": 0.003351449966430664, \"std_score_time\": 5.877354072570594e-05, \"param_n_neighbors\": 22, \"params\": {\"n_neighbors\": 22}, \"split0_test_score\": 0.5675675675675675, \"split1_test_score\": 0.5, \"split2_test_score\": 0.5833333333333334, \"split3_test_score\": 0.6388888888888888, \"split4_test_score\": 0.6111111111111112, \"mean_test_score\": 0.5801801801801802, \"std_test_score\": 0.046906964582985454, \"rank_test_score\": 10}, {\"mean_fit_time\": 0.0013793468475341796, \"std_fit_time\": 1.0687536647687439e-05, \"mean_score_time\": 0.0033432483673095704, \"std_score_time\": 3.744753728016191e-05, \"param_n_neighbors\": 23, \"params\": {\"n_neighbors\": 23}, \"split0_test_score\": 0.5675675675675675, \"split1_test_score\": 0.5277777777777778, \"split2_test_score\": 0.5833333333333334, \"split3_test_score\": 0.6666666666666666, \"split4_test_score\": 0.5833333333333334, \"mean_test_score\": 0.5857357357357358, \"std_test_score\": 0.04527817549591968, \"rank_test_score\": 5}, {\"mean_fit_time\": 0.0013640403747558593, \"std_fit_time\": 8.65219676746488e-06, \"mean_score_time\": 0.0033678054809570313, \"std_score_time\": 6.321224300078039e-05, \"param_n_neighbors\": 24, \"params\": {\"n_neighbors\": 24}, \"split0_test_score\": 0.5945945945945946, \"split1_test_score\": 0.5277777777777778, \"split2_test_score\": 0.5555555555555556, \"split3_test_score\": 0.6388888888888888, \"split4_test_score\": 0.5555555555555556, \"mean_test_score\": 0.5744744744744745, \"std_test_score\": 0.03860173179147411, \"rank_test_score\": 19}, {\"mean_fit_time\": 0.0013600826263427735, \"std_fit_time\": 5.20299046686338e-06, \"mean_score_time\": 0.003375339508056641, \"std_score_time\": 4.247583397911711e-05, \"param_n_neighbors\": 25, \"params\": {\"n_neighbors\": 25}, \"split0_test_score\": 0.5675675675675675, \"split1_test_score\": 0.5555555555555556, \"split2_test_score\": 0.5555555555555556, \"split3_test_score\": 0.6388888888888888, \"split4_test_score\": 0.5555555555555556, \"mean_test_score\": 0.5746246246246246, \"std_test_score\": 0.032467170807498835, \"rank_test_score\": 16}, {\"mean_fit_time\": 0.001377248764038086, \"std_fit_time\": 1.2804298591297258e-05, \"mean_score_time\": 0.003484010696411133, \"std_score_time\": 0.0002574629678886553, \"param_n_neighbors\": 26, \"params\": {\"n_neighbors\": 26}, \"split0_test_score\": 0.5675675675675675, \"split1_test_score\": 0.5277777777777778, \"split2_test_score\": 0.6111111111111112, \"split3_test_score\": 0.6388888888888888, \"split4_test_score\": 0.5277777777777778, \"mean_test_score\": 0.5746246246246246, \"std_test_score\": 0.044497675289493846, \"rank_test_score\": 16}, {\"mean_fit_time\": 0.0013575553894042969, \"std_fit_time\": 4.283579765601293e-06, \"mean_score_time\": 0.0033772468566894533, \"std_score_time\": 2.4931060429485084e-05, \"param_n_neighbors\": 27, \"params\": {\"n_neighbors\": 27}, \"split0_test_score\": 0.5675675675675675, \"split1_test_score\": 0.5277777777777778, \"split2_test_score\": 0.6111111111111112, \"split3_test_score\": 0.6388888888888888, \"split4_test_score\": 0.5277777777777778, \"mean_test_score\": 0.5746246246246246, \"std_test_score\": 0.044497675289493846, \"rank_test_score\": 16}, {\"mean_fit_time\": 0.0013660430908203126, \"std_fit_time\": 5.8586969579344436e-06, \"mean_score_time\": 0.003347444534301758, \"std_score_time\": 3.063930137502306e-05, \"param_n_neighbors\": 28, \"params\": {\"n_neighbors\": 28}, \"split0_test_score\": 0.5675675675675675, \"split1_test_score\": 0.5277777777777778, \"split2_test_score\": 0.5833333333333334, \"split3_test_score\": 0.6666666666666666, \"split4_test_score\": 0.5555555555555556, \"mean_test_score\": 0.5801801801801801, \"std_test_score\": 0.04690696458298544, \"rank_test_score\": 12}, {\"mean_fit_time\": 0.0013744831085205078, \"std_fit_time\": 1.3137707449511785e-05, \"mean_score_time\": 0.0033817291259765625, \"std_score_time\": 6.582011138265542e-05, \"param_n_neighbors\": 29, \"params\": {\"n_neighbors\": 29}, \"split0_test_score\": 0.5675675675675675, \"split1_test_score\": 0.5277777777777778, \"split2_test_score\": 0.5555555555555556, \"split3_test_score\": 0.6666666666666666, \"split4_test_score\": 0.6111111111111112, \"mean_test_score\": 0.5857357357357358, \"std_test_score\": 0.04856701711602168, \"rank_test_score\": 5}, {\"mean_fit_time\": 0.001386260986328125, \"std_fit_time\": 8.328422025252586e-06, \"mean_score_time\": 0.003350687026977539, \"std_score_time\": 1.7245031894989957e-05, \"param_n_neighbors\": 30, \"params\": {\"n_neighbors\": 30}, \"split0_test_score\": 0.5675675675675675, \"split1_test_score\": 0.5277777777777778, \"split2_test_score\": 0.5555555555555556, \"split3_test_score\": 0.5833333333333334, \"split4_test_score\": 0.5555555555555556, \"mean_test_score\": 0.557957957957958, \"std_test_score\": 0.01821340507760472, \"rank_test_score\": 45}, {\"mean_fit_time\": 0.0013724803924560548, \"std_fit_time\": 1.0575254890711056e-05, \"mean_score_time\": 0.0033774375915527344, \"std_score_time\": 1.7317134305134865e-05, \"param_n_neighbors\": 31, \"params\": {\"n_neighbors\": 31}, \"split0_test_score\": 0.5945945945945946, \"split1_test_score\": 0.5277777777777778, \"split2_test_score\": 0.5555555555555556, \"split3_test_score\": 0.5833333333333334, \"split4_test_score\": 0.5555555555555556, \"mean_test_score\": 0.5633633633633635, \"std_test_score\": 0.023505093625920757, \"rank_test_score\": 36}, {\"mean_fit_time\": 0.0013613224029541016, \"std_fit_time\": 4.130631986180823e-06, \"mean_score_time\": 0.0034191131591796873, \"std_score_time\": 5.4552421656771716e-05, \"param_n_neighbors\": 32, \"params\": {\"n_neighbors\": 32}, \"split0_test_score\": 0.5675675675675675, \"split1_test_score\": 0.5277777777777778, \"split2_test_score\": 0.5555555555555556, \"split3_test_score\": 0.5555555555555556, \"split4_test_score\": 0.5833333333333334, \"mean_test_score\": 0.557957957957958, \"std_test_score\": 0.01821340507760472, \"rank_test_score\": 45}, {\"mean_fit_time\": 0.001358366012573242, \"std_fit_time\": 4.624582998735173e-06, \"mean_score_time\": 0.003430795669555664, \"std_score_time\": 5.836405005536122e-05, \"param_n_neighbors\": 33, \"params\": {\"n_neighbors\": 33}, \"split0_test_score\": 0.5945945945945946, \"split1_test_score\": 0.5277777777777778, \"split2_test_score\": 0.5555555555555556, \"split3_test_score\": 0.5833333333333334, \"split4_test_score\": 0.6388888888888888, \"mean_test_score\": 0.5800300300300301, \"std_test_score\": 0.03746118360669014, \"rank_test_score\": 13}, {\"mean_fit_time\": 0.001366424560546875, \"std_fit_time\": 1.257024510550688e-05, \"mean_score_time\": 0.003481006622314453, \"std_score_time\": 0.00015562927571494156, \"param_n_neighbors\": 34, \"params\": {\"n_neighbors\": 34}, \"split0_test_score\": 0.5675675675675675, \"split1_test_score\": 0.5277777777777778, \"split2_test_score\": 0.5555555555555556, \"split3_test_score\": 0.5833333333333334, \"split4_test_score\": 0.6111111111111112, \"mean_test_score\": 0.5690690690690691, \"std_test_score\": 0.027787921206188823, \"rank_test_score\": 25}, {\"mean_fit_time\": 0.001401805877685547, \"std_fit_time\": 4.203491970124224e-05, \"mean_score_time\": 0.0033569812774658205, \"std_score_time\": 2.7114136529818167e-05, \"param_n_neighbors\": 35, \"params\": {\"n_neighbors\": 35}, \"split0_test_score\": 0.5675675675675675, \"split1_test_score\": 0.5555555555555556, \"split2_test_score\": 0.5555555555555556, \"split3_test_score\": 0.5833333333333334, \"split4_test_score\": 0.5833333333333334, \"mean_test_score\": 0.5690690690690692, \"std_test_score\": 0.012445264735797065, \"rank_test_score\": 24}, {\"mean_fit_time\": 0.0013558387756347657, \"std_fit_time\": 8.271990926487181e-06, \"mean_score_time\": 0.003397560119628906, \"std_score_time\": 1.7849639672878087e-05, \"param_n_neighbors\": 36, \"params\": {\"n_neighbors\": 36}, \"split0_test_score\": 0.5675675675675675, \"split1_test_score\": 0.5555555555555556, \"split2_test_score\": 0.5277777777777778, \"split3_test_score\": 0.5833333333333334, \"split4_test_score\": 0.5833333333333334, \"mean_test_score\": 0.5635135135135136, \"std_test_score\": 0.020700037551117656, \"rank_test_score\": 35}, {\"mean_fit_time\": 0.0013604164123535156, \"std_fit_time\": 2.837080913666442e-06, \"mean_score_time\": 0.0040915489196777345, \"std_score_time\": 0.0012867839979454612, \"param_n_neighbors\": 37, \"params\": {\"n_neighbors\": 37}, \"split0_test_score\": 0.5675675675675675, \"split1_test_score\": 0.5555555555555556, \"split2_test_score\": 0.5277777777777778, \"split3_test_score\": 0.5555555555555556, \"split4_test_score\": 0.5833333333333334, \"mean_test_score\": 0.5579579579579581, \"std_test_score\": 0.01821340507760472, \"rank_test_score\": 43}, {\"mean_fit_time\": 0.0014198780059814452, \"std_fit_time\": 3.300822352701529e-05, \"mean_score_time\": 0.003526592254638672, \"std_score_time\": 5.926965035567e-05, \"param_n_neighbors\": 38, \"params\": {\"n_neighbors\": 38}, \"split0_test_score\": 0.5945945945945946, \"split1_test_score\": 0.5555555555555556, \"split2_test_score\": 0.5277777777777778, \"split3_test_score\": 0.5833333333333334, \"split4_test_score\": 0.5833333333333334, \"mean_test_score\": 0.568918918918919, \"std_test_score\": 0.024273293892671507, \"rank_test_score\": 26}, {\"mean_fit_time\": 0.0013846397399902345, \"std_fit_time\": 8.168542023860249e-06, \"mean_score_time\": 0.0034323215484619142, \"std_score_time\": 8.721916040726717e-05, \"param_n_neighbors\": 39, \"params\": {\"n_neighbors\": 39}, \"split0_test_score\": 0.5675675675675675, \"split1_test_score\": 0.5555555555555556, \"split2_test_score\": 0.5277777777777778, \"split3_test_score\": 0.5555555555555556, \"split4_test_score\": 0.5833333333333334, \"mean_test_score\": 0.5579579579579581, \"std_test_score\": 0.01821340507760472, \"rank_test_score\": 43}, {\"mean_fit_time\": 0.0013915061950683593, \"std_fit_time\": 1.9452735362749202e-05, \"mean_score_time\": 0.0034593582153320313, \"std_score_time\": 5.4751953312797265e-05, \"param_n_neighbors\": 40, \"params\": {\"n_neighbors\": 40}, \"split0_test_score\": 0.5945945945945946, \"split1_test_score\": 0.5555555555555556, \"split2_test_score\": 0.5277777777777778, \"split3_test_score\": 0.5555555555555556, \"split4_test_score\": 0.5277777777777778, \"mean_test_score\": 0.5522522522522522, \"std_test_score\": 0.024546679539468277, \"rank_test_score\": 48}, {\"mean_fit_time\": 0.001361703872680664, \"std_fit_time\": 2.1034951210129527e-06, \"mean_score_time\": 0.0034006595611572265, \"std_score_time\": 3.0217182378539424e-05, \"param_n_neighbors\": 41, \"params\": {\"n_neighbors\": 41}, \"split0_test_score\": 0.5675675675675675, \"split1_test_score\": 0.5555555555555556, \"split2_test_score\": 0.5555555555555556, \"split3_test_score\": 0.5833333333333334, \"split4_test_score\": 0.5277777777777778, \"mean_test_score\": 0.557957957957958, \"std_test_score\": 0.01821340507760472, \"rank_test_score\": 45}, {\"mean_fit_time\": 0.0013740062713623047, \"std_fit_time\": 1.5878748965173547e-05, \"mean_score_time\": 0.0034166812896728516, \"std_score_time\": 5.008143287554056e-05, \"param_n_neighbors\": 42, \"params\": {\"n_neighbors\": 42}, \"split0_test_score\": 0.5945945945945946, \"split1_test_score\": 0.5555555555555556, \"split2_test_score\": 0.5277777777777778, \"split3_test_score\": 0.5833333333333334, \"split4_test_score\": 0.5555555555555556, \"mean_test_score\": 0.5633633633633635, \"std_test_score\": 0.023505093625920757, \"rank_test_score\": 36}, {\"mean_fit_time\": 0.001367330551147461, \"std_fit_time\": 4.317944115704259e-06, \"mean_score_time\": 0.0033874034881591795, \"std_score_time\": 1.903912309794278e-05, \"param_n_neighbors\": 43, \"params\": {\"n_neighbors\": 43}, \"split0_test_score\": 0.5405405405405406, \"split1_test_score\": 0.5833333333333334, \"split2_test_score\": 0.5833333333333334, \"split3_test_score\": 0.5555555555555556, \"split4_test_score\": 0.5555555555555556, \"mean_test_score\": 0.5636636636636636, \"std_test_score\": 0.01697028854781494, \"rank_test_score\": 33}, {\"mean_fit_time\": 0.001374053955078125, \"std_fit_time\": 8.098374092671062e-06, \"mean_score_time\": 0.0033813953399658204, \"std_score_time\": 2.034905016874735e-05, \"param_n_neighbors\": 44, \"params\": {\"n_neighbors\": 44}, \"split0_test_score\": 0.5405405405405406, \"split1_test_score\": 0.5833333333333334, \"split2_test_score\": 0.5555555555555556, \"split3_test_score\": 0.5555555555555556, \"split4_test_score\": 0.5833333333333334, \"mean_test_score\": 0.5636636636636637, \"std_test_score\": 0.016970288547814943, \"rank_test_score\": 31}, {\"mean_fit_time\": 0.001388692855834961, \"std_fit_time\": 1.70895404022406e-05, \"mean_score_time\": 0.0033942222595214843, \"std_score_time\": 1.558652229537031e-05, \"param_n_neighbors\": 45, \"params\": {\"n_neighbors\": 45}, \"split0_test_score\": 0.5405405405405406, \"split1_test_score\": 0.6111111111111112, \"split2_test_score\": 0.5555555555555556, \"split3_test_score\": 0.5555555555555556, \"split4_test_score\": 0.5555555555555556, \"mean_test_score\": 0.5636636636636636, \"std_test_score\": 0.024426065354549865, \"rank_test_score\": 33}, {\"mean_fit_time\": 0.0013794422149658204, \"std_fit_time\": 3.883808649882743e-06, \"mean_score_time\": 0.003424835205078125, \"std_score_time\": 6.363648691351223e-05, \"param_n_neighbors\": 46, \"params\": {\"n_neighbors\": 46}, \"split0_test_score\": 0.5405405405405406, \"split1_test_score\": 0.5833333333333334, \"split2_test_score\": 0.5555555555555556, \"split3_test_score\": 0.5277777777777778, \"split4_test_score\": 0.5833333333333334, \"mean_test_score\": 0.5581081081081082, \"std_test_score\": 0.02239503457487052, \"rank_test_score\": 39}, {\"mean_fit_time\": 0.0013770580291748047, \"std_fit_time\": 2.3282157165019422e-06, \"mean_score_time\": 0.003406715393066406, \"std_score_time\": 1.8817495043569508e-05, \"param_n_neighbors\": 47, \"params\": {\"n_neighbors\": 47}, \"split0_test_score\": 0.5405405405405406, \"split1_test_score\": 0.6111111111111112, \"split2_test_score\": 0.5277777777777778, \"split3_test_score\": 0.5277777777777778, \"split4_test_score\": 0.5833333333333334, \"mean_test_score\": 0.5581081081081082, \"std_test_score\": 0.03344878957790447, \"rank_test_score\": 39}, {\"mean_fit_time\": 0.0013902664184570312, \"std_fit_time\": 5.736729537258438e-06, \"mean_score_time\": 0.0034203529357910156, \"std_score_time\": 9.79897459633797e-06, \"param_n_neighbors\": 48, \"params\": {\"n_neighbors\": 48}, \"split0_test_score\": 0.5405405405405406, \"split1_test_score\": 0.6111111111111112, \"split2_test_score\": 0.5277777777777778, \"split3_test_score\": 0.5277777777777778, \"split4_test_score\": 0.5833333333333334, \"mean_test_score\": 0.5581081081081082, \"std_test_score\": 0.03344878957790447, \"rank_test_score\": 39}, {\"mean_fit_time\": 0.0013701915740966797, \"std_fit_time\": 1.3382908657935087e-05, \"mean_score_time\": 0.003412675857543945, \"std_score_time\": 1.857915691406336e-05, \"param_n_neighbors\": 49, \"params\": {\"n_neighbors\": 49}, \"split0_test_score\": 0.5405405405405406, \"split1_test_score\": 0.6111111111111112, \"split2_test_score\": 0.5277777777777778, \"split3_test_score\": 0.5277777777777778, \"split4_test_score\": 0.5833333333333334, \"mean_test_score\": 0.5581081081081082, \"std_test_score\": 0.03344878957790447, \"rank_test_score\": 39}]}}, {\"mode\": \"vega-lite\"});\n",
       "</script>"
      ],
      "text/plain": [
       "alt.Chart(...)"
      ]
     },
     "execution_count": 34,
     "metadata": {},
     "output_type": "execute_result"
    }
   ],
   "source": [
    "accuracy_vs_k"
   ]
  },
  {
   "cell_type": "markdown",
   "id": "ddf815b3-53a4-4cc6-aa12-1e4df20a9e58",
   "metadata": {},
   "source": [
    "***Figure 3.*** Plot of estimated accuracy versus the number of neighbors. We see that the n_neighbours value of 9 achieves the highest accuracy in our grid search. Below, that setting the number of neighbors to \n",
    " 36 provides the highest cross-validation accuracy estimate (60.8%)"
   ]
  },
  {
   "cell_type": "code",
   "execution_count": 35,
   "id": "4584d9de",
   "metadata": {},
   "outputs": [
    {
     "name": "stdout",
     "output_type": "stream",
     "text": [
      "Test score with hyper-parameters optimized:  0.6078\n"
     ]
    }
   ],
   "source": [
    "# Show how the optimized hyper-parameters affect the accuracy of the model\n",
    "hyper_param_optimized_knn = KNeighborsClassifier(n_neighbors=9)\n",
    "print(\n",
    "    \"Test score with hyper-parameters optimized: \",\n",
    "    np.round(\n",
    "        np.average(cross_val_score(hyper_param_optimized_knn, X_train_cropped, y_train)),\n",
    "        decimals=4\n",
    "    )\n",
    ")"
   ]
  },
  {
   "cell_type": "markdown",
   "id": "3295a196",
   "metadata": {},
   "source": [
    "Finally, we can see how our model stacks up against test data:"
   ]
  },
  {
   "cell_type": "code",
   "execution_count": 12,
   "id": "80490fe6",
   "metadata": {},
   "outputs": [
    {
     "name": "stdout",
     "output_type": "stream",
     "text": [
      "0.5574\n"
     ]
    }
   ],
   "source": [
    "# Train and show the test accuracy of the final model with all optimizations\n",
    "final_knn = KNeighborsClassifier(n_neighbors=9).fit(X_train_cropped, y_train)\n",
    "print(np.round(final_knn.score(X_test_cropped, y_test), decimals=4))"
   ]
  },
  {
   "cell_type": "markdown",
   "id": "5fe58158",
   "metadata": {},
   "source": [
    "We can see that our test score is a bit lower than our cross-validation score. However, we can also see that our optimized model has scored better on the test data, than our unoptmized model did on the training data.\n",
    "\n",
    "Baseline unoptimized: 0.5411\n",
    "\n",
    "Optmized: 0.5574"
   ]
  },
  {
   "cell_type": "markdown",
   "id": "d756245e-bea9-40cc-a06f-13144d0f6ba3",
   "metadata": {},
   "source": [
    "# Discussions "
   ]
  },
  {
   "cell_type": "markdown",
   "id": "b85fbb13-9bf8-4f63-b6ff-d3d7cd364ac9",
   "metadata": {},
   "source": [
    "**Summary**\n"
   ]
  },
  {
   "cell_type": "markdown",
   "id": "4ff61a4e-fe02-49aa-997b-aeee7b0f830d",
   "metadata": {},
   "source": [
    "**Expected outcomes**\n",
    "\n"
   ]
  },
  {
   "cell_type": "markdown",
   "id": "59825f2d-94ec-4bab-8111-10de30b54dd1",
   "metadata": {},
   "source": [
    "**Significance of results**\n"
   ]
  },
  {
   "cell_type": "markdown",
   "id": "49efe3e6-359e-48b0-95ce-132877ba12c6",
   "metadata": {},
   "source": [
    "**Future questions**\n",
    "\n"
   ]
  },
  {
   "cell_type": "markdown",
   "id": "9efdcc88-f995-4c26-9823-162692b5791c",
   "metadata": {},
   "source": [
    "# References"
   ]
  },
  {
   "cell_type": "markdown",
   "id": "878ebe3a-885e-4c6f-a14d-a6b7f2574ed4",
   "metadata": {},
   "source": [
    "Janosi,Andras, Steinbrunn,William, Pfisterer,Matthias, and Detrano,Robert. (1988). Heart Disease. UCI Machine Learning Repository. https://doi.org/10.24432/C52P4X.\n",
    "\n",
    "Jeanine E Roeters van Lennep, H.Tineke Westerveld, D.Willem Erkelens, Ernst E van der Wall (2002, February), Risk factors for coronary heart disease: implications of gender, Cardiovascular Research, 53(3), 538–549, https://doi.org/10.1016/S0008-6363(01)00388-1\n",
    "\n",
    "Williams, P. T. (2001). Physical fitness and activity as separate heart disease risk factors: a meta-analysis. Medicine and Science in Sports and Exercise, 33(5), 754–761. https://doi.org/10.1097/00005768-200105000-00012\n"
   ]
  }
 ],
 "metadata": {
  "kernelspec": {
   "display_name": "Python 3 (ipykernel)",
   "language": "python",
   "name": "python3"
  },
  "language_info": {
   "codemirror_mode": {
    "name": "ipython",
    "version": 3
   },
   "file_extension": ".py",
   "mimetype": "text/x-python",
   "name": "python",
   "nbconvert_exporter": "python",
   "pygments_lexer": "ipython3",
   "version": "3.11.6"
  }
 },
 "nbformat": 4,
 "nbformat_minor": 5
}
