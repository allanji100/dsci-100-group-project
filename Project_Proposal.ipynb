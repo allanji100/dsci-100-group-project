{
 "cells": [
  {
   "cell_type": "code",
   "execution_count": null,
   "id": "8468a823-4a35-448c-addd-803bde616e90",
   "metadata": {},
   "outputs": [],
   "source": [
    "hello team! hello team! \n",
    "dsci-100-group-project/Group Analysis.ipynb"
   ]
  },
  {
   "cell_type": "code",
   "execution_count": null,
   "id": "413938a1-9d19-4514-bf6d-dee0488a337e",
   "metadata": {},
   "outputs": [],
   "source": []
  }
 ],
 "metadata": {
  "kernelspec": {
   "display_name": "Python 3 (ipykernel)",
   "language": "python",
   "name": "python3"
  },
  "language_info": {
   "codemirror_mode": {
    "name": "ipython",
    "version": 3
   },
   "file_extension": ".py",
   "mimetype": "text/x-python",
   "name": "python",
   "nbconvert_exporter": "python",
   "pygments_lexer": "ipython3",
   "version": "3.11.6"
  }
 },
 "nbformat": 4,
 "nbformat_minor": 5
}
