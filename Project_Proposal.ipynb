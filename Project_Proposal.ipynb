{
 "cells": [
  {
   "cell_type": "markdown",
   "id": "8468a823-4a35-448c-addd-803bde616e90",
   "metadata": {},
   "source": [
    "hello team! hello team! \n",
    "dsci-100-group-project/Group Analysis.ipynb"
   ]
  },
  {
   "cell_type": "code",
   "execution_count": null,
   "id": "2d7d7b34",
   "metadata": {},
   "outputs": [],
   "source": [
    "import pandas as pd\n",
    "import altair as alt\n",
    "\n",
    "from sklearn.model_selection import train_test_split"
   ]
  },
  {
   "cell_type": "markdown",
   "id": "cf767fea-5221-4f19-912d-54a2b052ebc7",
   "metadata": {},
   "source": [
    "# Introduction\n",
    "This dataset comprises 76 attributes, yet published experiments typically utilize a subset of 14 attributes. Among these, the Cleveland database stands out as the primary focus for machine learning researchers. The \"goal\" field denotes the presence of heart disease in patients, with integer values ranging from 0 (absence) to 4. Previous studies with the Cleveland database have primarily aimed to differentiate between the presence (values 1, 2, 3, 4) and absence (value 0) of heart disease.\n",
    "\n",
    "Recently, the database underwent anonymization, with patient names and social security numbers replaced by dummy values. One file has undergone processing, containing the Cleveland database, while the remaining four unprocessed files are also present in this directory.\n"
   ]
  },
  {
   "cell_type": "markdown",
   "id": "2511bf18-2a4f-403d-b649-79a64a2d75d6",
   "metadata": {},
   "source": [
    "# Preliminary Data Analysis\n",
    "\n",
    "Read, clean, and wrangle data"
   ]
  },
  {
   "cell_type": "code",
   "execution_count": null,
   "id": "3f887d2d",
   "metadata": {},
   "outputs": [],
   "source": [
    "# Fetch dataset \n",
    "url = \"https://github.com/allanji100/dsci-100-group-project/blob/main/heart%2Bdisease/processed.cleveland.data?raw=true\"\n",
    "\n",
    "df = pd.read_csv(\n",
    "    url,\n",
    "    names=[\"age\", \"sex\", \"cp\", \"trestbps\", \"chol\", \"fbs\", \"restecg\", \"thalach\", \"exang\", \"oldpeak\", \"slope\", \"ca\", \"thal\", \"num\"]\n",
    ")\n",
    "\n",
    "# Data is already processed, drop \"ca\" and \"thal\" due to missing values\n",
    "heart_disease_df = df.drop(columns=[\"ca\", \"thal\"])\n",
    "X = heart_disease_df.drop(columns=[\"num\"])\n",
    "y = heart_disease_df[\"num\"]\n",
    "\n",
    "X_train, X_test, y_train, y_test = train_test_split(X, y, test_size=0.3, random_state=123)\n",
    "\n",
    "heart_disease_df"
   ]
  },
  {
   "cell_type": "markdown",
   "id": "1517123f-e458-434a-ac4b-6dd391b506f7",
   "metadata": {},
   "source": [
    "# Summarization Table\n",
    "Summarization of the number of observations in each column "
   ]
  },
  {
   "cell_type": "code",
   "execution_count": null,
   "id": "3030ad05-35bc-4573-96ed-a3a12b9d523b",
   "metadata": {},
   "outputs": [],
   "source": [
    "#mean of each predictor value \n",
    "predictor_averages = pd.DataFrame(X_train.melt(\n",
    "    var_name=\"predictors\",\n",
    "    value_name=\"mean\"\n",
    ").groupby(\"predictors\").mean()\n",
    "                                 )\n",
    "display(predictor_averages) "
   ]
  },
  {
   "cell_type": "markdown",
   "id": "e1e02ad0-7108-4948-b1e5-d2cdd9bb6d7f",
   "metadata": {},
   "source": [
    "# Visualization \n",
    "Distribution of each predictor value "
   ]
  },
  {
   "cell_type": "code",
   "execution_count": null,
   "id": "ffe641d3-7c3e-4721-8463-b8ca8b156ce3",
   "metadata": {},
   "outputs": [],
   "source": [
    "summary_plot_age = alt.Chart(X_train).mark_bar().encode(\n",
    "    x=alt.X(\"age\").title(\"Age\").bin(),\n",
    "    y=alt.Y(\"count()\").title(\"Number of Individuals\")\n",
    ")\n",
    "display(summary_plot_age)\n",
    "\n",
    "summary_plot_cholesterol = alt.Chart(X_train).mark_bar().encode(\n",
    "    x=alt.X(\"chol\").title(\"Age\").bin(),\n",
    "    y=alt.Y(\"count()\").title(\"Number of Individuals\"),\n",
    "    \n",
    ")\n",
    "display(summary_plot_cholesterol)"
   ]
  },
  {
   "cell_type": "markdown",
   "id": "d3546080-2c1c-4342-9ea5-196d1bae764a",
   "metadata": {},
   "source": [
    "# Methods\n",
    "\n",
    "Below, we have provided the reasoning for why we chose to include each predictor value:   \n",
    "\n",
    "**Age**: basic demographic information, also age is relevant to increased risk of many diseases\n",
    "\n",
    "**Sex**: basic demographic information, also there may be differences of heart disease diagnosis due to physical differences between sex\n",
    "\n",
    "**Constrictive Pericarditis (cp)**: a condition where ventricular filling is restricted due to loss of pericardial elasticity, this condition could appear as a form of heart failure\n",
    "\n",
    "**Resting Blood Pressure (Trestbps)**: blood pressure is related to heart disease since high blood pressure means that the heart is required to put more force to get blood running.\n",
    "\n",
    "**Fasting Blood Sugar (fbs)**: diabetes is a major risk factor for heart failure\n",
    "\n",
    "**resting electrocardiographic measure (restecg)**: this indicates if the individual has abnormality of ST-T wave(predicts for morbidity of cardiovascular disease) , left ventricular hypertrophy (increased pressure in heart), or normal\n",
    "\n",
    "**Maximum heart rates (thalach)**: Provides insight into the cardiovascular health and capacity \n",
    "\n",
    "**Exercise-induced angina(Exang)**:Chest pain/discomfort from decreased oxygenated blood at heart muscles often seen in those with cardiovascular disease\n",
    "\n",
    "**Ulope (up, flat, down) %  number of vessels colored (Oldpeak)**: ST depression induced by exercise relative to rest to allow insight into cardiovascular health \n",
    "\n",
    "**st segment/heart rate slope (Slope)**: electrocardiographic criteria for diagnosing accurate coronary artery disease\n",
    "\n",
    "**Class (Num)**: Used for testing our classifier model \n",
    "\n",
    "______________________\n",
    "\n",
    "We will run a coefficient analysis for different numerical columns to analyze and look for variables highly correlated with heart disease in our data. \n",
    "\n",
    "We decided to drop columns \"thal\" and \"ca\" in our data due to missing values. All other columns seemed to contain relevant predictors for the diagnosis of heart disease.\n",
    "\n",
    "The results will be visualized by scatter plots, since scatter plot graph is the most ideal choice to visualize relationships between variables and observe for possible correlations. "
   ]
  },
  {
   "cell_type": "markdown",
   "id": "c70c3726-65e6-401c-9c8c-2814b22bda4a",
   "metadata": {},
   "source": [
    "# Expected outcomes and significance\n",
    "\n",
    "We expect to find that certain variables are, and more/less correlated with high risk of heart disease. These findings are relevant to see how much weight and consideration should be put into each variables to better predict individual risks of heart disease and allow for appropriate preventative measures to be provided. They could also lead to questions to find other highly correlated variables that could be used for better predictions and diagnosis, as well as opening questions to find better means to prevent heart disease by treating or mediating highly correlated variables."
   ]
  }
 ],
 "metadata": {
  "kernelspec": {
   "display_name": "Python 3 (ipykernel)",
   "language": "python",
   "name": "python3"
  },
  "language_info": {
   "codemirror_mode": {
    "name": "ipython",
    "version": 3
   },
   "file_extension": ".py",
   "mimetype": "text/x-python",
   "name": "python",
   "nbconvert_exporter": "python",
   "pygments_lexer": "ipython3",
   "version": "3.11.6"
  }
 },
 "nbformat": 4,
 "nbformat_minor": 5
}
